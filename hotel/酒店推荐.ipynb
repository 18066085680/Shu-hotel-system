{
 "cells": [
  {
   "cell_type": "markdown",
   "metadata": {},
   "source": [
    "### 基于酒店文本描述来推荐相似酒店"
   ]
  },
  {
   "cell_type": "code",
   "execution_count": 56,
   "metadata": {},
   "outputs": [
    {
     "data": {
      "text/html": [
       "        <script type=\"text/javascript\">\n",
       "        window.PlotlyConfig = {MathJaxConfig: 'local'};\n",
       "        if (window.MathJax && window.MathJax.Hub && window.MathJax.Hub.Config) {window.MathJax.Hub.Config({SVG: {font: \"STIX-Web\"}});}\n",
       "        </script>\n",
       "        <script type=\"module\">import \"https://cdn.plot.ly/plotly-3.0.0.min\"</script>\n",
       "        "
      ]
     },
     "metadata": {},
     "output_type": "display_data"
    }
   ],
   "source": [
    "import pandas as pd\n",
    "import numpy as np\n",
    "from nltk.corpus import stopwords\n",
    "from sklearn.metrics.pairwise import linear_kernel\n",
    "from sklearn.feature_extraction.text import CountVectorizer\n",
    "from sklearn.feature_extraction.text import TfidfVectorizer\n",
    "import re\n",
    "import random\n",
    "import cufflinks\n",
    "from plotly.offline import iplot\n",
    "cufflinks.go_offline()"
   ]
  },
  {
   "cell_type": "code",
   "execution_count": 57,
   "metadata": {},
   "outputs": [
    {
     "data": {
      "text/html": [
       "<div>\n",
       "<style scoped>\n",
       "    .dataframe tbody tr th:only-of-type {\n",
       "        vertical-align: middle;\n",
       "    }\n",
       "\n",
       "    .dataframe tbody tr th {\n",
       "        vertical-align: top;\n",
       "    }\n",
       "\n",
       "    .dataframe thead th {\n",
       "        text-align: right;\n",
       "    }\n",
       "</style>\n",
       "<table border=\"1\" class=\"dataframe\">\n",
       "  <thead>\n",
       "    <tr style=\"text-align: right;\">\n",
       "      <th></th>\n",
       "      <th>name</th>\n",
       "      <th>address</th>\n",
       "      <th>desc</th>\n",
       "    </tr>\n",
       "  </thead>\n",
       "  <tbody>\n",
       "    <tr>\n",
       "      <th>0</th>\n",
       "      <td>Hilton Garden Seattle Downtown</td>\n",
       "      <td>1821 Boren Avenue, Seattle Washington 98101 USA</td>\n",
       "      <td>Located on the southern tip of Lake Union, the...</td>\n",
       "    </tr>\n",
       "    <tr>\n",
       "      <th>1</th>\n",
       "      <td>Sheraton Grand Seattle</td>\n",
       "      <td>1400 6th Avenue, Seattle, Washington 98101 USA</td>\n",
       "      <td>Located in the city's vibrant core, the Sherat...</td>\n",
       "    </tr>\n",
       "    <tr>\n",
       "      <th>2</th>\n",
       "      <td>Crowne Plaza Seattle Downtown</td>\n",
       "      <td>1113 6th Ave, Seattle, WA 98101</td>\n",
       "      <td>Located in the heart of downtown Seattle, the ...</td>\n",
       "    </tr>\n",
       "    <tr>\n",
       "      <th>3</th>\n",
       "      <td>Kimpton Hotel Monaco Seattle</td>\n",
       "      <td>1101 4th Ave, Seattle, WA98101</td>\n",
       "      <td>What?s near our hotel downtown Seattle locatio...</td>\n",
       "    </tr>\n",
       "    <tr>\n",
       "      <th>4</th>\n",
       "      <td>The Westin Seattle</td>\n",
       "      <td>1900 5th Avenue, Seattle, Washington 98101 USA</td>\n",
       "      <td>Situated amid incredible shopping and iconic a...</td>\n",
       "    </tr>\n",
       "  </tbody>\n",
       "</table>\n",
       "</div>"
      ],
      "text/plain": [
       "                             name  \\\n",
       "0  Hilton Garden Seattle Downtown   \n",
       "1          Sheraton Grand Seattle   \n",
       "2   Crowne Plaza Seattle Downtown   \n",
       "3   Kimpton Hotel Monaco Seattle    \n",
       "4              The Westin Seattle   \n",
       "\n",
       "                                           address  \\\n",
       "0  1821 Boren Avenue, Seattle Washington 98101 USA   \n",
       "1   1400 6th Avenue, Seattle, Washington 98101 USA   \n",
       "2                  1113 6th Ave, Seattle, WA 98101   \n",
       "3                   1101 4th Ave, Seattle, WA98101   \n",
       "4   1900 5th Avenue, Seattle, Washington 98101 USA   \n",
       "\n",
       "                                                desc  \n",
       "0  Located on the southern tip of Lake Union, the...  \n",
       "1  Located in the city's vibrant core, the Sherat...  \n",
       "2  Located in the heart of downtown Seattle, the ...  \n",
       "3  What?s near our hotel downtown Seattle locatio...  \n",
       "4  Situated amid incredible shopping and iconic a...  "
      ]
     },
     "execution_count": 57,
     "metadata": {},
     "output_type": "execute_result"
    }
   ],
   "source": [
    "df = pd.read_csv('Seattle_Hotels.csv', encoding=\"latin-1\")\n",
    "df.head()"
   ]
  },
  {
   "cell_type": "code",
   "execution_count": 58,
   "metadata": {},
   "outputs": [
    {
     "data": {
      "text/plain": [
       "(152, 3)"
      ]
     },
     "execution_count": 58,
     "metadata": {},
     "output_type": "execute_result"
    }
   ],
   "source": [
    "df.shape"
   ]
  },
  {
   "cell_type": "code",
   "execution_count": 118,
   "metadata": {},
   "outputs": [
    {
     "name": "stderr",
     "output_type": "stream",
     "text": [
      "C:\\Users\\86198\\AppData\\Local\\Temp\\ipykernel_48924\\390388582.py:1: FutureWarning:\n",
      "\n",
      "Series.__getitem__ treating keys as positions is deprecated. In a future version, integer keys will always be treated as labels (consistent with DataFrame behavior). To access a value by position, use `ser.iloc[pos]`\n",
      "\n"
     ]
    },
    {
     "data": {
      "text/plain": [
       "\"Located in the city's vibrant core, the Sheraton Grand Seattle provides a gateway to the diverse sights and sounds of the Pacific Northwest. Step out of our front doors to find gourmet dining and bars, world-class shopping, exciting entertainment, and iconic local attractions including the Pike Place Market, Space Needle and Chihuly Garden & Glass Museum. As one of only seven Sheraton hotels in North America to earn the esteemed Grand designation, guests can book confidently knowing they?re receiving the highest benchmark on product and service offerings available. Experience our recently completed multimillion-dollar transformation featuring all new guest rooms, an expanded Sheraton Club Lounge, and modern meeting & event spaces. Gather in our stylish new lobby and enjoy our private art collection featuring local artists while enjoying your favorite beverage from Starbucks. The Sheraton Grand features several dining options including Loulay Kitchen & Bar by James Beard award winning chef Thierry Rautureau.\""
      ]
     },
     "execution_count": 118,
     "metadata": {},
     "output_type": "execute_result"
    }
   ],
   "source": [
    "df['desc'][1]"
   ]
  },
  {
   "cell_type": "markdown",
   "metadata": {},
   "source": [
    "### 看一下酒店介绍中主要描述信息"
   ]
  },
  {
   "cell_type": "code",
   "execution_count": 60,
   "metadata": {},
   "outputs": [],
   "source": [
    "vec = CountVectorizer().fit(df['desc'])\n",
    "bag_of_words = vec.transform(df['desc'])"
   ]
  },
  {
   "cell_type": "code",
   "execution_count": 61,
   "metadata": {},
   "outputs": [
    {
     "data": {
      "text/plain": [
       "array([[0, 1, 0, ..., 0, 0, 0],\n",
       "       [0, 0, 0, ..., 0, 0, 0],\n",
       "       [0, 0, 0, ..., 0, 0, 0],\n",
       "       ...,\n",
       "       [0, 0, 0, ..., 0, 0, 0],\n",
       "       [0, 0, 0, ..., 0, 0, 0],\n",
       "       [0, 0, 0, ..., 1, 0, 0]], dtype=int64)"
      ]
     },
     "execution_count": 61,
     "metadata": {},
     "output_type": "execute_result"
    }
   ],
   "source": [
    "bag_of_words.toarray()"
   ]
  },
  {
   "cell_type": "code",
   "execution_count": 62,
   "metadata": {},
   "outputs": [
    {
     "data": {
      "text/plain": [
       "(152, 3200)"
      ]
     },
     "execution_count": 62,
     "metadata": {},
     "output_type": "execute_result"
    }
   ],
   "source": [
    "bag_of_words.shape"
   ]
  },
  {
   "cell_type": "code",
   "execution_count": 63,
   "metadata": {},
   "outputs": [
    {
     "data": {
      "text/plain": [
       "matrix([[ 1, 11, 11, ...,  2,  6,  2]], dtype=int64)"
      ]
     },
     "execution_count": 63,
     "metadata": {},
     "output_type": "execute_result"
    }
   ],
   "source": [
    "sum_words = bag_of_words.sum(axis=0)\n",
    "sum_words"
   ]
  },
  {
   "cell_type": "code",
   "execution_count": 64,
   "metadata": {},
   "outputs": [
    {
     "data": {
      "text/plain": [
       "[('located', 108),\n",
       " ('on', 129),\n",
       " ('the', 1258),\n",
       " ('southern', 1),\n",
       " ('tip', 1),\n",
       " ('of', 536),\n",
       " ('lake', 41),\n",
       " ('union', 33),\n",
       " ('hilton', 12),\n",
       " ('garden', 11),\n",
       " ('inn', 89),\n",
       " ('seattle', 533),\n",
       " ('downtown', 133),\n",
       " ('hotel', 295),\n",
       " ('is', 271),\n",
       " ('perfectly', 6),\n",
       " ('for', 216),\n",
       " ('business', 87),\n",
       " ('and', 1062),\n",
       " ('leisure', 18),\n",
       " ('neighborhood', 35),\n",
       " ('home', 57),\n",
       " ('to', 471),\n",
       " ('numerous', 1),\n",
       " ('major', 12),\n",
       " ('international', 32),\n",
       " ('companies', 6),\n",
       " ('including', 47),\n",
       " ('amazon', 19),\n",
       " ('google', 6),\n",
       " ('bill', 4),\n",
       " ('melinda', 4),\n",
       " ('gates', 5),\n",
       " ('foundation', 4),\n",
       " ('wealth', 1),\n",
       " ('eclectic', 8),\n",
       " ('restaurants', 35),\n",
       " ('bars', 7),\n",
       " ('make', 43),\n",
       " ('this', 63),\n",
       " ('area', 51),\n",
       " ('one', 75),\n",
       " ('most', 40),\n",
       " ('sought', 1),\n",
       " ('out', 23),\n",
       " ('by', 71),\n",
       " ('locals', 5),\n",
       " ('visitors', 4),\n",
       " ('our', 359),\n",
       " ('proximity', 8),\n",
       " ('allows', 3),\n",
       " ('take', 31),\n",
       " ('in', 449),\n",
       " ('some', 22),\n",
       " ('pacific', 42),\n",
       " ('northwest', 42),\n",
       " ('majestic', 4),\n",
       " ('scenery', 2),\n",
       " ('enjoy', 93),\n",
       " ('outdoor', 23),\n",
       " ('activities', 8),\n",
       " ('like', 46),\n",
       " ('kayaking', 3),\n",
       " ('sailing', 1),\n",
       " ('over', 14),\n",
       " ('000', 11),\n",
       " ('sq', 4),\n",
       " ('ft', 4),\n",
       " ('versatile', 3),\n",
       " ('space', 97),\n",
       " ('complimentary', 62),\n",
       " ('center', 151),\n",
       " ('state', 30),\n",
       " ('art', 44),\n",
       " ('technology', 4),\n",
       " ('helpful', 2),\n",
       " ('staff', 9),\n",
       " ('will', 46),\n",
       " ('guarantee', 3),\n",
       " ('your', 186),\n",
       " ('conference', 6),\n",
       " ('cocktail', 6),\n",
       " ('reception', 7),\n",
       " ('or', 161),\n",
       " ('wedding', 4),\n",
       " ('success', 4),\n",
       " ('refresh', 4),\n",
       " ('sparkling', 2),\n",
       " ('saltwater', 1),\n",
       " ('pool', 37),\n",
       " ('energize', 2),\n",
       " ('with', 280),\n",
       " ('latest', 4),\n",
       " ('equipment', 3),\n",
       " ('24', 42),\n",
       " ('hour', 32),\n",
       " ('fitness', 42),\n",
       " ('tastefully', 4),\n",
       " ('decorated', 4),\n",
       " ('flooded', 1),\n",
       " ('natural', 8),\n",
       " ('light', 26),\n",
       " ('guest', 57),\n",
       " ('rooms', 106),\n",
       " ('suites', 67),\n",
       " ('offer', 59),\n",
       " ('everything', 18),\n",
       " ('you', 304),\n",
       " ('need', 25),\n",
       " ('relax', 25),\n",
       " ('stay', 105),\n",
       " ('productive', 4),\n",
       " ('unwind', 11),\n",
       " ('bar', 34),\n",
       " ('american', 5),\n",
       " ('cuisine', 11),\n",
       " ('breakfast', 68),\n",
       " ('lunch', 4),\n",
       " ('dinner', 7),\n",
       " ('restaurant', 32),\n",
       " ('pavilion', 1),\n",
       " ('pantry', 2),\n",
       " ('stocks', 1),\n",
       " ('variety', 12),\n",
       " ('snacks', 9),\n",
       " ('drinks', 6),\n",
       " ('sundries', 2),\n",
       " ('city', 79),\n",
       " ('vibrant', 14),\n",
       " ('core', 5),\n",
       " ('sheraton', 8),\n",
       " ('grand', 13),\n",
       " ('provides', 9),\n",
       " ('gateway', 4),\n",
       " ('diverse', 5),\n",
       " ('sights', 2),\n",
       " ('sounds', 2),\n",
       " ('step', 11),\n",
       " ('front', 11),\n",
       " ('doors', 8),\n",
       " ('find', 31),\n",
       " ('gourmet', 1),\n",
       " ('dining', 36),\n",
       " ('world', 24),\n",
       " ('class', 13),\n",
       " ('shopping', 31),\n",
       " ('exciting', 7),\n",
       " ('entertainment', 11),\n",
       " ('iconic', 15),\n",
       " ('local', 45),\n",
       " ('attractions', 59),\n",
       " ('pike', 90),\n",
       " ('place', 102),\n",
       " ('market', 97),\n",
       " ('needle', 68),\n",
       " ('chihuly', 3),\n",
       " ('glass', 10),\n",
       " ('museum', 43),\n",
       " ('as', 117),\n",
       " ('only', 34),\n",
       " ('seven', 6),\n",
       " ('hotels', 28),\n",
       " ('north', 14),\n",
       " ('america', 5),\n",
       " ('earn', 3),\n",
       " ('esteemed', 1),\n",
       " ('designation', 1),\n",
       " ('guests', 54),\n",
       " ('can', 55),\n",
       " ('book', 11),\n",
       " ('confidently', 1),\n",
       " ('knowing', 1),\n",
       " ('they', 11),\n",
       " ('re', 64),\n",
       " ('receiving', 1),\n",
       " ('highest', 2),\n",
       " ('benchmark', 1),\n",
       " ('product', 1),\n",
       " ('service', 53),\n",
       " ('offerings', 2),\n",
       " ('available', 36),\n",
       " ('experience', 52),\n",
       " ('recently', 7),\n",
       " ('completed', 1),\n",
       " ('multimillion', 1),\n",
       " ('dollar', 1),\n",
       " ('transformation', 1),\n",
       " ('featuring', 26),\n",
       " ('all', 100),\n",
       " ('new', 17),\n",
       " ('an', 91),\n",
       " ('expanded', 5),\n",
       " ('club', 17),\n",
       " ('lounge', 20),\n",
       " ('modern', 34),\n",
       " ('meeting', 27),\n",
       " ('event', 29),\n",
       " ('spaces', 11),\n",
       " ('gather', 1),\n",
       " ('stylish', 17),\n",
       " ('lobby', 26),\n",
       " ('private', 29),\n",
       " ('collection', 6),\n",
       " ('artists', 2),\n",
       " ('while', 34),\n",
       " ('enjoying', 5),\n",
       " ('favorite', 7),\n",
       " ('beverage', 5),\n",
       " ('from', 224),\n",
       " ('starbucks', 12),\n",
       " ('features', 27),\n",
       " ('several', 5),\n",
       " ('options', 14),\n",
       " ('loulay', 1),\n",
       " ('kitchen', 17),\n",
       " ('james', 1),\n",
       " ('beard', 1),\n",
       " ('award', 13),\n",
       " ('winning', 11),\n",
       " ('chef', 3),\n",
       " ('thierry', 1),\n",
       " ('rautureau', 1),\n",
       " ('heart', 35),\n",
       " ('crowne', 5),\n",
       " ('plaza', 4),\n",
       " ('offers', 43),\n",
       " ('exceptional', 5),\n",
       " ('blend', 3),\n",
       " ('style', 27),\n",
       " ('comfort', 24),\n",
       " ('ll', 48),\n",
       " ('notice', 1),\n",
       " ('cool', 5),\n",
       " ('comfortable', 30),\n",
       " ('unconventional', 1),\n",
       " ('touches', 4),\n",
       " ('that', 65),\n",
       " ('set', 4),\n",
       " ('us', 21),\n",
       " ('apart', 1),\n",
       " ('soon', 3),\n",
       " ('inside', 7),\n",
       " ('marvel', 2),\n",
       " ('at', 231),\n",
       " ('stunning', 7),\n",
       " ('views', 39),\n",
       " ('lights', 4),\n",
       " ('relaxing', 12),\n",
       " ('sleep', 6),\n",
       " ('advantage', 12),\n",
       " ('beds', 17),\n",
       " ('wireless', 9),\n",
       " ('internet', 26),\n",
       " ('throughout', 7),\n",
       " ('amenities', 60),\n",
       " ('help', 11),\n",
       " ('temple', 1),\n",
       " ('spa', 13),\n",
       " ('tight', 1),\n",
       " ('amenity', 1),\n",
       " ('kits', 1),\n",
       " ('lavender', 1),\n",
       " ('spray', 1),\n",
       " ('lotions', 1),\n",
       " ('rejuvenate', 1),\n",
       " ('invigorating', 2),\n",
       " ('workout', 7),\n",
       " ('get', 11),\n",
       " ('suggestions', 1),\n",
       " ('expert', 2),\n",
       " ('concierge', 3),\n",
       " ('savor', 6),\n",
       " ('sumptuous', 1),\n",
       " ('regatta', 1),\n",
       " ('grille', 1),\n",
       " ('where', 27),\n",
       " ('happy', 6),\n",
       " ('daily', 10),\n",
       " ('4pm', 1),\n",
       " ('7pm', 1),\n",
       " ('monthly', 1),\n",
       " ('drink', 5),\n",
       " ('specials', 2),\n",
       " ('come', 17),\n",
       " ('emerald', 17),\n",
       " ('has', 41),\n",
       " ('what', 11),\n",
       " ('near', 48),\n",
       " ('location', 33),\n",
       " ('better', 5),\n",
       " ('question', 2),\n",
       " ('might', 5),\n",
       " ('be', 43),\n",
       " ('not', 20),\n",
       " ('nearby', 16),\n",
       " ('addition', 4),\n",
       " ('being', 1),\n",
       " ('here', 19),\n",
       " ('just', 82),\n",
       " ('small', 8),\n",
       " ('sampling', 2),\n",
       " ('rest', 4),\n",
       " ('columbia', 2),\n",
       " ('whose', 1),\n",
       " ('sky', 2),\n",
       " ('view', 11),\n",
       " ('observatory', 1),\n",
       " ('73rd', 1),\n",
       " ('floor', 11),\n",
       " ('tallest', 1),\n",
       " ('public', 6),\n",
       " ('viewing', 1),\n",
       " ('west', 15),\n",
       " ('mississippi', 1),\n",
       " ('historic', 24),\n",
       " ('5th', 4),\n",
       " ('avenue', 15),\n",
       " ('theatre', 2),\n",
       " ('musical', 1),\n",
       " ('productions', 1),\n",
       " ('central', 12),\n",
       " ('library', 7),\n",
       " ('architectural', 2),\n",
       " ('within', 36),\n",
       " ('half', 5),\n",
       " ('mile', 14),\n",
       " ('must', 5),\n",
       " ('see', 15),\n",
       " ('which', 14),\n",
       " ('houses', 5),\n",
       " ('original', 11),\n",
       " ('pioneer', 15),\n",
       " ('square', 28),\n",
       " ('fantastic', 3),\n",
       " ('flagship', 1),\n",
       " ('nordstrom', 6),\n",
       " ('rack', 1),\n",
       " ('macy', 1),\n",
       " ('sportswear', 1),\n",
       " ('louis', 1),\n",
       " ('vuitton', 1),\n",
       " ('arcteryx', 1),\n",
       " ('oodles', 1),\n",
       " ('independent', 2),\n",
       " ('boutiques', 5),\n",
       " ('great', 39),\n",
       " ('wheel', 2),\n",
       " ('washington', 67),\n",
       " ('convention', 24),\n",
       " ('about', 11),\n",
       " ('bell', 2),\n",
       " ('street', 26),\n",
       " ('pier', 5),\n",
       " ('cruise', 11),\n",
       " ('terminal', 6),\n",
       " ('66', 1),\n",
       " ('sports', 13),\n",
       " ('stadiums', 5),\n",
       " ('centurylink', 17),\n",
       " ('field', 34),\n",
       " ('safeco', 20),\n",
       " ('seahawks', 10),\n",
       " ('mariners', 9),\n",
       " ('sounders', 4),\n",
       " ('situated', 14),\n",
       " ('amid', 3),\n",
       " ('incredible', 3),\n",
       " ('westin', 1),\n",
       " ('contemporary', 12),\n",
       " ('haven', 3),\n",
       " ('prime', 3),\n",
       " ('recharge', 2),\n",
       " ('accommodations', 15),\n",
       " ('comforts', 14),\n",
       " ('signature', 14),\n",
       " ('heavenly', 2),\n",
       " ('gorgeous', 7),\n",
       " ('skyline', 8),\n",
       " ('puget', 16),\n",
       " ('sound', 21),\n",
       " ('cascade', 1),\n",
       " ('mountain', 5),\n",
       " ('range', 9),\n",
       " ('newly', 5),\n",
       " ('renovated', 10),\n",
       " ('1900', 1),\n",
       " ('fifth', 2),\n",
       " ('offering', 21),\n",
       " ('carefully', 2),\n",
       " ('curated', 4),\n",
       " ('wine', 10),\n",
       " ('crafted', 3),\n",
       " ('explore', 20),\n",
       " ('spectacular', 6),\n",
       " ('celebrated', 3),\n",
       " ('waterfront', 38),\n",
       " ('host', 9),\n",
       " ('unforgettable', 3),\n",
       " ('meetings', 16),\n",
       " ('social', 11),\n",
       " ('engagements', 1),\n",
       " ('more', 29),\n",
       " ('than', 19),\n",
       " ('70', 2),\n",
       " ('feet', 16),\n",
       " ('enhanced', 1),\n",
       " ('planning', 8),\n",
       " ('custom', 6),\n",
       " ('catering', 8),\n",
       " ('mind', 8),\n",
       " ('body', 1),\n",
       " ('sleek', 5),\n",
       " ('westinworkout', 1),\n",
       " ('studio', 11),\n",
       " ('designed', 21),\n",
       " ('reflect', 3),\n",
       " ('substance', 1),\n",
       " ('welcoming', 5),\n",
       " ('best', 50),\n",
       " ('paramount', 4),\n",
       " ('summons', 1),\n",
       " ('feel', 11),\n",
       " ('cozy', 10),\n",
       " ('elegant', 5),\n",
       " ('luxurious', 4),\n",
       " ('residence', 5),\n",
       " ('friendly', 29),\n",
       " ('hosts', 3),\n",
       " ('asian', 2),\n",
       " ('right', 15),\n",
       " ('downstairs', 1),\n",
       " ('fall', 1),\n",
       " ('love', 9),\n",
       " ('simple', 6),\n",
       " ('luxury', 18),\n",
       " ('charm', 10),\n",
       " ('boutique', 8),\n",
       " ('warm', 8),\n",
       " ('inviting', 10),\n",
       " ('wood', 7),\n",
       " ('finishes', 2),\n",
       " ('comfy', 4),\n",
       " ('seating', 7),\n",
       " ('areas', 12),\n",
       " ('fireplace', 6),\n",
       " ('classically', 1),\n",
       " ('appointed', 9),\n",
       " ('dash', 1),\n",
       " ('urban', 15),\n",
       " ('flair', 1),\n",
       " ('puts', 5),\n",
       " ('good', 4),\n",
       " ('company', 3),\n",
       " ('block', 10),\n",
       " ('walking', 21),\n",
       " ('distance', 23),\n",
       " ('cafes', 1),\n",
       " ('there', 15),\n",
       " ('are', 136),\n",
       " ('many', 31),\n",
       " ('reasons', 1),\n",
       " ('annually', 1),\n",
       " ('ranked', 1),\n",
       " ('among', 7),\n",
       " ('top', 17),\n",
       " ('five', 12),\n",
       " ('why', 4),\n",
       " ('yours', 2),\n",
       " ('shops', 14),\n",
       " ('sightseeing', 4),\n",
       " ('tour', 5),\n",
       " ('rent', 1),\n",
       " ('car', 7),\n",
       " ('if', 19),\n",
       " ('town', 13),\n",
       " ('walk', 28),\n",
       " ('via', 5),\n",
       " ('underground', 3),\n",
       " ('concourse', 1),\n",
       " ('hungry', 1),\n",
       " ('visit', 21),\n",
       " ('redtrees', 1),\n",
       " ('wide', 6),\n",
       " ('satisfy', 2),\n",
       " ('any', 12),\n",
       " ('foodie', 1),\n",
       " ('destination', 5),\n",
       " ('steps', 20),\n",
       " ('everywhere', 3),\n",
       " ('want', 11),\n",
       " ('motif', 1),\n",
       " ('welcome', 20),\n",
       " ('libation', 1),\n",
       " ('rooftop', 8),\n",
       " ('across', 16),\n",
       " ('touchstones', 1),\n",
       " ('sweeping', 2),\n",
       " ('landscape', 3),\n",
       " ('rich', 8),\n",
       " ('arts', 7),\n",
       " ('music', 16),\n",
       " ('culture', 6),\n",
       " ('infuse', 1),\n",
       " ('surroundings', 1),\n",
       " ('residences', 1),\n",
       " ('hardwoods', 1),\n",
       " ('colors', 2),\n",
       " ('inspired', 12),\n",
       " ('region', 3),\n",
       " ('culinary', 5),\n",
       " ('bounty', 3),\n",
       " ('reflected', 1),\n",
       " ('menus', 1),\n",
       " ('frolik', 1),\n",
       " ('cocktails', 5),\n",
       " ('adjoining', 2),\n",
       " ('patio', 6),\n",
       " ('join', 6),\n",
       " ('between', 5),\n",
       " ('monorail', 5),\n",
       " ('rail', 19),\n",
       " ('airport', 99),\n",
       " ('stroll', 2),\n",
       " ('away', 59),\n",
       " ('known', 8),\n",
       " ('setting', 6),\n",
       " ('trends', 2),\n",
       " ('warwick', 5),\n",
       " ('leading', 4),\n",
       " ('way', 5),\n",
       " ('upbeat', 1),\n",
       " ('belltown', 13),\n",
       " ('district', 27),\n",
       " ('blocks', 21),\n",
       " ('blends', 1),\n",
       " ('classic', 8),\n",
       " ('expected', 1),\n",
       " ('name', 2),\n",
       " ('styling', 1),\n",
       " ('boasting', 1),\n",
       " ('unique', 16),\n",
       " ('staying', 12),\n",
       " ('truly', 3),\n",
       " ('finding', 2),\n",
       " ('pleasant', 3),\n",
       " ('surprises', 1),\n",
       " ('along', 13),\n",
       " ('refreshing', 4),\n",
       " ('seaborne', 1),\n",
       " ('mists', 1),\n",
       " ('breeze', 3),\n",
       " ('evergreen', 2),\n",
       " ('covered', 4),\n",
       " ('hills', 1),\n",
       " ('lining', 1),\n",
       " ('horizon', 2),\n",
       " ('doorstep', 2),\n",
       " ('anything', 2),\n",
       " ('possible', 5),\n",
       " ('surrounded', 4),\n",
       " ('snow', 2),\n",
       " ('capped', 2),\n",
       " ('peaks', 1),\n",
       " ('deep', 3),\n",
       " ('blue', 1),\n",
       " ('waters', 3),\n",
       " ('swaths', 1),\n",
       " ('forests', 1),\n",
       " ('wild', 2),\n",
       " ('it', 55),\n",
       " ('trendy', 4),\n",
       " ('side', 4),\n",
       " ('another', 2),\n",
       " ('elliott', 10),\n",
       " ('bay', 14),\n",
       " ('gleaming', 1),\n",
       " ('wake', 6),\n",
       " ('fresh', 18),\n",
       " ('cup', 6),\n",
       " ('coffee', 38),\n",
       " ('delivered', 1),\n",
       " ('straight', 3),\n",
       " ('room', 77),\n",
       " ('then', 10),\n",
       " ('head', 5),\n",
       " ('neighbourhoods', 1),\n",
       " ('craft', 5),\n",
       " ('breweries', 3),\n",
       " ('spend', 9),\n",
       " ('day', 39),\n",
       " ('hiking', 6),\n",
       " ('up', 44),\n",
       " ('mount', 3),\n",
       " ('rainer', 1),\n",
       " ('nightfall', 1),\n",
       " ('meet', 12),\n",
       " ('goldfinch', 1),\n",
       " ('tavern', 1),\n",
       " ('ethan', 1),\n",
       " ('stowell', 1),\n",
       " ('let', 4),\n",
       " ('chefs', 2),\n",
       " ('show', 4),\n",
       " ('flavours', 1),\n",
       " ('favourite', 1),\n",
       " ('soak', 3),\n",
       " ('scene', 6),\n",
       " ('living', 22),\n",
       " ('mix', 2),\n",
       " ('live', 10),\n",
       " ('dj', 1),\n",
       " ('series', 1),\n",
       " ('before', 3),\n",
       " ('heading', 3),\n",
       " ('memorable', 4),\n",
       " ('trace', 1),\n",
       " ('seasonal', 10),\n",
       " ('fare', 4),\n",
       " ('atmosphere', 7),\n",
       " ('missed', 1),\n",
       " ('work', 25),\n",
       " ('off', 19),\n",
       " ('next', 20),\n",
       " ('morning', 18),\n",
       " ('fit', 7),\n",
       " ('wandering', 1),\n",
       " ('always', 7),\n",
       " ('we', 128),\n",
       " ('ve', 7),\n",
       " ('got', 4),\n",
       " ('during', 9),\n",
       " ('time', 24),\n",
       " ('whatever', 2),\n",
       " ('whenever', 1),\n",
       " ('wish', 2),\n",
       " ('command', 1),\n",
       " ('upscale', 11),\n",
       " ('getaway', 6),\n",
       " ('hyatt', 15),\n",
       " ('theater', 6),\n",
       " ('four', 9),\n",
       " ('diamond', 4),\n",
       " ('landmarks', 6),\n",
       " ('destinations', 3),\n",
       " ('scenic', 4),\n",
       " ('luxuriate', 1),\n",
       " ('opt', 2),\n",
       " ('decadent', 1),\n",
       " ('suite', 25),\n",
       " ('bath', 10),\n",
       " ('upgraded', 2),\n",
       " ('access', 59),\n",
       " ('ever', 3),\n",
       " ('had', 1),\n",
       " ('reading', 3),\n",
       " ('couldn', 3),\n",
       " ('put', 5),\n",
       " ('down', 6),\n",
       " ('but', 12),\n",
       " ('never', 4),\n",
       " ('wanted', 2),\n",
       " ('end', 5),\n",
       " ('know', 8),\n",
       " ('kimpton', 5),\n",
       " ('alexis', 3),\n",
       " ('1901', 1),\n",
       " ('building', 19),\n",
       " ('close', 34),\n",
       " ('enough', 5),\n",
       " ('smell', 1),\n",
       " ('sea', 23),\n",
       " ('air', 11),\n",
       " ('plot', 1),\n",
       " ('peaceful', 2),\n",
       " ('sanctuary', 2),\n",
       " ('den', 1),\n",
       " ('mixed', 1),\n",
       " ('matched', 3),\n",
       " ('characters', 1),\n",
       " ('attentive', 3),\n",
       " ('members', 1),\n",
       " ('who', 5),\n",
       " ('seem', 1),\n",
       " ('plus', 15),\n",
       " ('fellow', 2),\n",
       " ('interesting', 3),\n",
       " ('stories', 2),\n",
       " ('tell', 4),\n",
       " ('ending', 1),\n",
       " ('without', 4),\n",
       " ('giving', 3),\n",
       " ('easy', 44),\n",
       " ('perennial', 1),\n",
       " ('seller', 1),\n",
       " ('positioned', 1),\n",
       " ('edge', 3),\n",
       " ('borders', 1),\n",
       " ('retail', 4),\n",
       " ('guestrooms', 15),\n",
       " ('turntables', 1),\n",
       " ('vinyl', 1),\n",
       " ('max', 1),\n",
       " ('dedicated', 5),\n",
       " ('lovers', 2),\n",
       " ('indulge', 3),\n",
       " ('provenance', 1),\n",
       " ('locally', 7),\n",
       " ('influenced', 1),\n",
       " ('honor', 1),\n",
       " ('beer', 5),\n",
       " ('miller', 1),\n",
       " ('guild', 1),\n",
       " ('fell', 1),\n",
       " ('former', 1),\n",
       " ('maritime', 1),\n",
       " ('workers', 1),\n",
       " ('started', 1),\n",
       " ('first', 19),\n",
       " ('1999', 1),\n",
       " ('roots', 1),\n",
       " ('unfussy', 1),\n",
       " ('intentional', 1),\n",
       " ('design', 5),\n",
       " ('ethos', 1),\n",
       " ('drive', 12),\n",
       " ('loft', 3),\n",
       " ('ceilings', 3),\n",
       " ('hardwood', 1),\n",
       " ('floors', 7),\n",
       " ('wherever', 1),\n",
       " ('could', 5),\n",
       " ('preserve', 1),\n",
       " ('them', 3),\n",
       " ('friends', 11),\n",
       " ('kaws', 1),\n",
       " ('shepard', 1),\n",
       " ('fairey', 1),\n",
       " ('were', 2),\n",
       " ('elements', 3),\n",
       " ('hotelier', 1),\n",
       " ('map', 1),\n",
       " ('still', 3),\n",
       " ('touch', 1),\n",
       " ('point', 1),\n",
       " ('ace', 1),\n",
       " ('today', 16),\n",
       " ('when', 38),\n",
       " ('marriott', 5),\n",
       " ('reveals', 1),\n",
       " ('mountains', 9),\n",
       " ('famous', 15),\n",
       " ('elevator', 2),\n",
       " ('ride', 9),\n",
       " ('sit', 3),\n",
       " ('adjacent', 4),\n",
       " ('harbor', 4),\n",
       " ('also', 62),\n",
       " ('port', 4),\n",
       " ('aquarium', 10),\n",
       " ('westlake', 5),\n",
       " ('olympic', 13),\n",
       " ('sculpture', 4),\n",
       " ('park', 35),\n",
       " ('outfitted', 3),\n",
       " ('plush', 13),\n",
       " ('bedding', 9),\n",
       " ('mini', 7),\n",
       " ('refrigerators', 5),\n",
       " ('large', 11),\n",
       " ('desks', 5),\n",
       " ('wi', 37),\n",
       " ('fi', 37),\n",
       " ('balconies', 3),\n",
       " ('junior', 1),\n",
       " ('provide', 12),\n",
       " ('perfect', 30),\n",
       " ('extended', 15),\n",
       " ('stays', 7),\n",
       " ('reimagined', 2),\n",
       " ('its', 21),\n",
       " ('special', 13),\n",
       " ('perks', 3),\n",
       " ('indoor', 16),\n",
       " ('gym', 3),\n",
       " ('delicious', 8),\n",
       " ('gastropub', 1),\n",
       " ('tempting', 1),\n",
       " ('libations', 1),\n",
       " ('found', 5),\n",
       " ('popular', 12),\n",
       " ('look', 4),\n",
       " ('no', 15),\n",
       " ('further', 2),\n",
       " ('10', 11),\n",
       " ('redesigned', 1),\n",
       " ('venues', 8),\n",
       " ('well', 33),\n",
       " ('supported', 1),\n",
       " ('edgewater', 2),\n",
       " ('reported', 1),\n",
       " ('cnbc', 1),\n",
       " ('amazing', 1),\n",
       " ('breathtaking', 4),\n",
       " ('sunset', 3),\n",
       " ('ship', 5),\n",
       " ('terminals', 5),\n",
       " ('sites', 4),\n",
       " ('decide', 1),\n",
       " ('turn', 2),\n",
       " ('tub', 8),\n",
       " ('water', 10),\n",
       " ('67', 1),\n",
       " ('dynamic', 2),\n",
       " ('soul', 1),\n",
       " ('lodging', 6),\n",
       " ('river', 1),\n",
       " ('rock', 3),\n",
       " ('fireplaces', 3),\n",
       " ('wilderness', 2),\n",
       " ('landscapes', 1),\n",
       " ('outside', 13),\n",
       " ('window', 1),\n",
       " ('treat', 1),\n",
       " ('yourself', 8),\n",
       " ('rewarding', 1),\n",
       " ('springhill', 2),\n",
       " ('south', 19),\n",
       " ('goal', 4),\n",
       " ('whether', 23),\n",
       " ('night', 13),\n",
       " ('weekend', 2),\n",
       " ('each', 28),\n",
       " ('spacious', 29),\n",
       " ('separate', 6),\n",
       " ('kitchenette', 3),\n",
       " ('fridge', 9),\n",
       " ('maker', 7),\n",
       " ('microwave', 12),\n",
       " ('convenience', 18),\n",
       " ('every', 29),\n",
       " ('onsite', 8),\n",
       " ('bistro', 3),\n",
       " ('yale', 1),\n",
       " ('innovative', 5),\n",
       " ('additional', 4),\n",
       " ('highlights', 1),\n",
       " ('include', 19),\n",
       " ('swimming', 10),\n",
       " ('so', 12),\n",
       " ('pamper', 2),\n",
       " ('last', 2),\n",
       " ('least', 1),\n",
       " ('makes', 5),\n",
       " ('mall', 11),\n",
       " ('other', 21),\n",
       " ('plan', 6),\n",
       " ('forward', 1),\n",
       " ('seeing', 1),\n",
       " ('premier', 2),\n",
       " ('fairmont', 3),\n",
       " ('captures', 1),\n",
       " ('old', 7),\n",
       " ('elegance', 4),\n",
       " ('italian', 2),\n",
       " ('renaissance', 2),\n",
       " ('built', 14),\n",
       " ('1924', 1),\n",
       " ('legendary', 2),\n",
       " ('architecture', 1),\n",
       " ('acclaimed', 3),\n",
       " ('impeccable', 1),\n",
       " ('corridors', 2),\n",
       " ('full', 27),\n",
       " ('shines', 1),\n",
       " ('named', 4),\n",
       " ('news', 3),\n",
       " ('report', 3),\n",
       " ('2018', 3),\n",
       " ('hub', 6),\n",
       " ('retreat', 6),\n",
       " ('cozily', 2),\n",
       " ('activity', 2),\n",
       " ('streets', 2),\n",
       " ('lined', 2),\n",
       " ('diversified', 1),\n",
       " ('sophisticated', 4),\n",
       " ('chic', 5),\n",
       " ('excursion', 2),\n",
       " ('afternoon', 4),\n",
       " ('gasworks', 1),\n",
       " ('quiet', 11),\n",
       " ('beauty', 5),\n",
       " ('have', 35),\n",
       " ('instant', 2),\n",
       " ('both', 15),\n",
       " ('worlds', 1),\n",
       " ('travel', 25),\n",
       " ('pleasure', 8),\n",
       " ('trips', 1),\n",
       " ('few', 16),\n",
       " ('corporate', 10),\n",
       " ('vacationers', 2),\n",
       " ('museums', 6),\n",
       " ('less', 11),\n",
       " ('landmark', 9),\n",
       " ('distinctly', 1),\n",
       " ('charming', 1),\n",
       " ('unmistakable', 1),\n",
       " ('sprawling', 2),\n",
       " ('system', 5),\n",
       " ('shows', 3),\n",
       " ('pristine', 2),\n",
       " ('outdoors', 3),\n",
       " ('performing', 1),\n",
       " ('cultural', 7),\n",
       " ('thriving', 6),\n",
       " ('visitor', 1),\n",
       " ('metro', 4),\n",
       " ('attracts', 1),\n",
       " ('deal', 1),\n",
       " ('professional', 5),\n",
       " ('travelers', 23),\n",
       " ('booming', 1),\n",
       " ('fortune', 2),\n",
       " ('500', 4),\n",
       " ('costco', 1),\n",
       " ('wholesale', 1),\n",
       " ('microsoft', 10),\n",
       " ('facebook', 5),\n",
       " ('furthermore', 1),\n",
       " ('fans', 3),\n",
       " ('athletic', 3),\n",
       " ('three', 11),\n",
       " ('teams', 2),\n",
       " ('nestled', 4),\n",
       " ('embassy', 2),\n",
       " ('sleeping', 5),\n",
       " ('queen', 28),\n",
       " ('size', 6),\n",
       " ('sofa', 7),\n",
       " ('bed', 41),\n",
       " ('50', 2),\n",
       " ('inch', 11),\n",
       " ('hdtv', 7),\n",
       " ('kitchenettes', 6),\n",
       " ('dine', 6),\n",
       " ('institution', 1),\n",
       " ('13', 1),\n",
       " ('coins', 1),\n",
       " ('hand', 6),\n",
       " ('zephyr', 1),\n",
       " ('stop', 12),\n",
       " ('health', 4),\n",
       " ('includes', 8),\n",
       " ('heated', 12),\n",
       " ('hot', 25),\n",
       " ('sun', 2),\n",
       " ('deck', 5),\n",
       " ('begin', 3),\n",
       " ('free', 123),\n",
       " ('made', 5),\n",
       " ('order', 3),\n",
       " ('evening', 8),\n",
       " ('55', 4),\n",
       " ('cheer', 2),\n",
       " ('team', 6),\n",
       " ('football', 3),\n",
       " ('fc', 2),\n",
       " ('baseball', 2),\n",
       " ('game', 7),\n",
       " ('mobile', 4),\n",
       " ('trip', 11),\n",
       " ('around', 14),\n",
       " ('boat', 2),\n",
       " ('wamu', 1),\n",
       " ('pan', 1),\n",
       " ('trust', 2),\n",
       " ('settle', 4),\n",
       " ('into', 13),\n",
       " ('epicentre', 1),\n",
       " ('wondering', 1),\n",
       " ('vintage', 2),\n",
       " ('spot', 2),\n",
       " ('corner', 6),\n",
       " ('spring', 3),\n",
       " ('financial', 2),\n",
       " ('spots', 3),\n",
       " ('benaroya', 2),\n",
       " ('hall', 5),\n",
       " ('trade', 2),\n",
       " ('transportation', 7),\n",
       " ('easily', 7),\n",
       " ('walkable', 3),\n",
       " ('ferry', 3),\n",
       " ('dozens', 2),\n",
       " ('buses', 2),\n",
       " ('driving', 3),\n",
       " ('those', 4),\n",
       " ('coming', 2),\n",
       " ('tac', 15),\n",
       " ...]"
      ]
     },
     "execution_count": 64,
     "metadata": {},
     "output_type": "execute_result"
    }
   ],
   "source": [
    "words_freq = [(word,sum_words[0,idx]) for word,idx in vec.vocabulary_.items()]\n",
    "words_freq"
   ]
  },
  {
   "cell_type": "code",
   "execution_count": 65,
   "metadata": {},
   "outputs": [
    {
     "data": {
      "text/plain": [
       "[('the', 1258),\n",
       " ('and', 1062),\n",
       " ('of', 536),\n",
       " ('seattle', 533),\n",
       " ('to', 471),\n",
       " ('in', 449),\n",
       " ('our', 359),\n",
       " ('you', 304),\n",
       " ('hotel', 295),\n",
       " ('with', 280),\n",
       " ('is', 271),\n",
       " ('at', 231),\n",
       " ('from', 224),\n",
       " ('for', 216),\n",
       " ('your', 186),\n",
       " ('or', 161),\n",
       " ('center', 151),\n",
       " ('are', 136),\n",
       " ('downtown', 133),\n",
       " ('on', 129),\n",
       " ('we', 128),\n",
       " ('free', 123),\n",
       " ('as', 117),\n",
       " ('located', 108),\n",
       " ('rooms', 106),\n",
       " ('stay', 105),\n",
       " ('place', 102),\n",
       " ('all', 100),\n",
       " ('airport', 99),\n",
       " ('space', 97),\n",
       " ('market', 97),\n",
       " ('enjoy', 93),\n",
       " ('an', 91),\n",
       " ('pike', 90),\n",
       " ('inn', 89),\n",
       " ('business', 87),\n",
       " ('just', 82),\n",
       " ('city', 79),\n",
       " ('room', 77),\n",
       " ('one', 75),\n",
       " ('by', 71),\n",
       " ('breakfast', 68),\n",
       " ('needle', 68),\n",
       " ('suites', 67),\n",
       " ('washington', 67),\n",
       " ('that', 65),\n",
       " ('re', 64),\n",
       " ('this', 63),\n",
       " ('complimentary', 62),\n",
       " ('also', 62),\n",
       " ('amenities', 60),\n",
       " ('offer', 59),\n",
       " ('attractions', 59),\n",
       " ('away', 59),\n",
       " ('access', 59),\n",
       " ('home', 57),\n",
       " ('guest', 57),\n",
       " ('can', 55),\n",
       " ('it', 55),\n",
       " ('guests', 54),\n",
       " ('service', 53),\n",
       " ('experience', 52),\n",
       " ('area', 51),\n",
       " ('best', 50),\n",
       " ('ll', 48),\n",
       " ('near', 48),\n",
       " ('including', 47),\n",
       " ('like', 46),\n",
       " ('will', 46),\n",
       " ('local', 45),\n",
       " ('art', 44),\n",
       " ('up', 44),\n",
       " ('easy', 44),\n",
       " ('make', 43),\n",
       " ('museum', 43),\n",
       " ('offers', 43),\n",
       " ('be', 43),\n",
       " ('minutes', 43),\n",
       " ('university', 43),\n",
       " ('pacific', 42),\n",
       " ('northwest', 42),\n",
       " ('24', 42),\n",
       " ('fitness', 42),\n",
       " ('lake', 41),\n",
       " ('has', 41),\n",
       " ('bed', 41),\n",
       " ('most', 40),\n",
       " ('views', 39),\n",
       " ('great', 39),\n",
       " ('day', 39),\n",
       " ('waterfront', 38),\n",
       " ('coffee', 38),\n",
       " ('when', 38),\n",
       " ('pool', 37),\n",
       " ('wi', 37),\n",
       " ('fi', 37),\n",
       " ('dining', 36),\n",
       " ('available', 36),\n",
       " ('within', 36),\n",
       " ('neighborhood', 35),\n",
       " ('restaurants', 35),\n",
       " ('heart', 35),\n",
       " ('park', 35),\n",
       " ('have', 35),\n",
       " ('bar', 34),\n",
       " ('only', 34),\n",
       " ('modern', 34),\n",
       " ('while', 34),\n",
       " ('field', 34),\n",
       " ('close', 34),\n",
       " ('union', 33),\n",
       " ('location', 33),\n",
       " ('well', 33),\n",
       " ('international', 32),\n",
       " ('hour', 32),\n",
       " ('restaurant', 32),\n",
       " ('high', 32),\n",
       " ('parking', 32),\n",
       " ('take', 31),\n",
       " ('find', 31),\n",
       " ('shopping', 31),\n",
       " ('many', 31),\n",
       " ('shuttle', 31),\n",
       " ('state', 30),\n",
       " ('comfortable', 30),\n",
       " ('perfect', 30),\n",
       " ('event', 29),\n",
       " ('private', 29),\n",
       " ('more', 29),\n",
       " ('friendly', 29),\n",
       " ('spacious', 29),\n",
       " ('every', 29),\n",
       " ('hotels', 28),\n",
       " ('square', 28),\n",
       " ('walk', 28),\n",
       " ('each', 28),\n",
       " ('queen', 28),\n",
       " ('meeting', 27),\n",
       " ('features', 27),\n",
       " ('style', 27),\n",
       " ('where', 27),\n",
       " ('district', 27),\n",
       " ('full', 27),\n",
       " ('light', 26),\n",
       " ('featuring', 26),\n",
       " ('lobby', 26),\n",
       " ('internet', 26),\n",
       " ('street', 26),\n",
       " ('two', 26),\n",
       " ('such', 26),\n",
       " ('speed', 26),\n",
       " ('tacoma', 26),\n",
       " ('need', 25),\n",
       " ('relax', 25),\n",
       " ('work', 25),\n",
       " ('suite', 25),\n",
       " ('travel', 25),\n",
       " ('hot', 25),\n",
       " ('wifi', 25),\n",
       " ('family', 25),\n",
       " ('km', 25),\n",
       " ('world', 24),\n",
       " ('comfort', 24),\n",
       " ('historic', 24),\n",
       " ('convention', 24),\n",
       " ('time', 24),\n",
       " ('miles', 24),\n",
       " ('out', 23),\n",
       " ('outdoor', 23),\n",
       " ('distance', 23),\n",
       " ('sea', 23),\n",
       " ('whether', 23),\n",
       " ('travelers', 23),\n",
       " ('some', 22),\n",
       " ('living', 22),\n",
       " ('flat', 22),\n",
       " ('us', 21),\n",
       " ('sound', 21),\n",
       " ('offering', 21),\n",
       " ('designed', 21),\n",
       " ('walking', 21),\n",
       " ('visit', 21),\n",
       " ('blocks', 21),\n",
       " ('its', 21),\n",
       " ('other', 21),\n",
       " ('hill', 21),\n",
       " ('lounge', 20),\n",
       " ('not', 20),\n",
       " ('safeco', 20),\n",
       " ('explore', 20),\n",
       " ('steps', 20),\n",
       " ('welcome', 20),\n",
       " ('next', 20),\n",
       " ('feature', 20),\n",
       " ('site', 20),\n",
       " ('sure', 20),\n",
       " ('amazon', 19),\n",
       " ('here', 19),\n",
       " ('than', 19),\n",
       " ('if', 19),\n",
       " ('rail', 19),\n",
       " ('off', 19),\n",
       " ('building', 19),\n",
       " ('first', 19),\n",
       " ('south', 19),\n",
       " ('include', 19),\n",
       " ('property', 19),\n",
       " ('wa', 19),\n",
       " ('motel', 19),\n",
       " ('leisure', 18),\n",
       " ('everything', 18),\n",
       " ('luxury', 18),\n",
       " ('fresh', 18),\n",
       " ('morning', 18),\n",
       " ('convenience', 18),\n",
       " ('through', 18),\n",
       " ('minute', 18),\n",
       " ('new', 17),\n",
       " ('club', 17),\n",
       " ('stylish', 17),\n",
       " ('kitchen', 17),\n",
       " ('beds', 17),\n",
       " ('come', 17),\n",
       " ('emerald', 17),\n",
       " ('centurylink', 17),\n",
       " ('top', 17),\n",
       " ('short', 17),\n",
       " ('equipped', 17),\n",
       " ('tv', 17),\n",
       " ('food', 17),\n",
       " ('screen', 17),\n",
       " ('nearby', 16),\n",
       " ('puget', 16),\n",
       " ('meetings', 16),\n",
       " ('feet', 16),\n",
       " ('across', 16),\n",
       " ('music', 16),\n",
       " ('unique', 16),\n",
       " ('today', 16),\n",
       " ('indoor', 16),\n",
       " ('few', 16),\n",
       " ('convenient', 16),\n",
       " ('capitol', 16),\n",
       " ('fun', 16),\n",
       " ('traveling', 16),\n",
       " ('flight', 16),\n",
       " ('iconic', 15),\n",
       " ('west', 15),\n",
       " ('avenue', 15),\n",
       " ('see', 15),\n",
       " ('pioneer', 15),\n",
       " ('accommodations', 15),\n",
       " ('right', 15),\n",
       " ('urban', 15),\n",
       " ('there', 15),\n",
       " ('hyatt', 15),\n",
       " ('plus', 15),\n",
       " ('guestrooms', 15),\n",
       " ('famous', 15),\n",
       " ('extended', 15),\n",
       " ('no', 15),\n",
       " ('both', 15),\n",
       " ('tac', 15),\n",
       " ('anne', 15),\n",
       " ('over', 14),\n",
       " ('vibrant', 14),\n",
       " ('north', 14),\n",
       " ('options', 14),\n",
       " ('mile', 14),\n",
       " ('which', 14),\n",
       " ('situated', 14),\n",
       " ('comforts', 14),\n",
       " ('signature', 14),\n",
       " ('shops', 14),\n",
       " ('bay', 14),\n",
       " ('built', 14),\n",
       " ('around', 14),\n",
       " ('start', 14),\n",
       " ('conveniently', 14),\n",
       " ('events', 14),\n",
       " ('continental', 14),\n",
       " ('grand', 13),\n",
       " ('class', 13),\n",
       " ('award', 13),\n",
       " ('spa', 13),\n",
       " ('sports', 13),\n",
       " ('town', 13),\n",
       " ('belltown', 13),\n",
       " ('along', 13),\n",
       " ('olympic', 13),\n",
       " ('plush', 13),\n",
       " ('special', 13),\n",
       " ('outside', 13),\n",
       " ('night', 13),\n",
       " ('into', 13),\n",
       " ('after', 13),\n",
       " ('facilities', 13),\n",
       " ('long', 13),\n",
       " ('pet', 13),\n",
       " ('medical', 13),\n",
       " ('hilton', 12),\n",
       " ('major', 12),\n",
       " ('variety', 12),\n",
       " ('starbucks', 12),\n",
       " ('relaxing', 12),\n",
       " ('advantage', 12),\n",
       " ('central', 12),\n",
       " ('contemporary', 12),\n",
       " ('areas', 12),\n",
       " ('five', 12),\n",
       " ('any', 12),\n",
       " ('inspired', 12),\n",
       " ('staying', 12),\n",
       " ('meet', 12),\n",
       " ('but', 12),\n",
       " ('drive', 12),\n",
       " ('provide', 12),\n",
       " ('popular', 12),\n",
       " ('microwave', 12),\n",
       " ('so', 12),\n",
       " ('stop', 12),\n",
       " ('heated', 12),\n",
       " ('bathroom', 12),\n",
       " ('house', 12),\n",
       " ('laundry', 12),\n",
       " ('beautiful', 12),\n",
       " ('seatac', 12),\n",
       " ('garden', 11),\n",
       " ('000', 11),\n",
       " ('unwind', 11),\n",
       " ('cuisine', 11),\n",
       " ('step', 11),\n",
       " ('front', 11),\n",
       " ('entertainment', 11),\n",
       " ('book', 11),\n",
       " ('they', 11),\n",
       " ('spaces', 11),\n",
       " ('winning', 11),\n",
       " ('help', 11),\n",
       " ('get', 11),\n",
       " ('what', 11),\n",
       " ('view', 11),\n",
       " ('floor', 11),\n",
       " ('original', 11),\n",
       " ('about', 11),\n",
       " ('cruise', 11),\n",
       " ('social', 11),\n",
       " ('studio', 11),\n",
       " ('feel', 11),\n",
       " ('want', 11),\n",
       " ('upscale', 11),\n",
       " ('air', 11),\n",
       " ('friends', 11),\n",
       " ('large', 11),\n",
       " ('10', 11),\n",
       " ('mall', 11),\n",
       " ('quiet', 11),\n",
       " ('less', 11),\n",
       " ('three', 11),\n",
       " ('inch', 11),\n",
       " ('trip', 11),\n",
       " ('link', 11),\n",
       " ('check', 11),\n",
       " ('hospitality', 11),\n",
       " ('back', 11),\n",
       " ('cable', 11),\n",
       " ('was', 11),\n",
       " ('boeing', 11),\n",
       " ('visiting', 11),\n",
       " ('desk', 11),\n",
       " ('glass', 10),\n",
       " ('daily', 10),\n",
       " ('seahawks', 10),\n",
       " ('renovated', 10),\n",
       " ('wine', 10),\n",
       " ('cozy', 10),\n",
       " ('charm', 10),\n",
       " ('inviting', 10),\n",
       " ('block', 10),\n",
       " ('elliott', 10),\n",
       " ('then', 10),\n",
       " ('live', 10),\n",
       " ('seasonal', 10),\n",
       " ('bath', 10),\n",
       " ('aquarium', 10),\n",
       " ('water', 10),\n",
       " ('swimming', 10),\n",
       " ('corporate', 10),\n",
       " ('microsoft', 10),\n",
       " ('fully', 10),\n",
       " ('history', 10),\n",
       " ('ideal', 10),\n",
       " ('furnishings', 10),\n",
       " ('tvs', 10),\n",
       " ('hours', 10),\n",
       " ('campus', 10),\n",
       " ('door', 10),\n",
       " ('hospital', 10),\n",
       " ('mason', 10),\n",
       " ('staff', 9),\n",
       " ('snacks', 9),\n",
       " ('provides', 9),\n",
       " ('wireless', 9),\n",
       " ('mariners', 9),\n",
       " ('range', 9),\n",
       " ('host', 9),\n",
       " ('love', 9),\n",
       " ('appointed', 9),\n",
       " ('spend', 9),\n",
       " ('during', 9),\n",
       " ('four', 9),\n",
       " ('mountains', 9),\n",
       " ('ride', 9),\n",
       " ('bedding', 9),\n",
       " ('fridge', 9),\n",
       " ('landmark', 9),\n",
       " ('20', 9),\n",
       " ('use', 9),\n",
       " ('vacation', 9),\n",
       " ('choice', 9),\n",
       " ('community', 9),\n",
       " ('businesses', 9),\n",
       " ('value', 9),\n",
       " ('bedroom', 9),\n",
       " ('windows', 9),\n",
       " ('days', 9),\n",
       " ('courtyard', 9),\n",
       " ('catch', 9),\n",
       " ('extra', 9),\n",
       " ('red', 9),\n",
       " ('road', 9),\n",
       " ('virginia', 9),\n",
       " ('mansion', 9),\n",
       " ('eclectic', 8),\n",
       " ('proximity', 8),\n",
       " ('activities', 8),\n",
       " ('natural', 8),\n",
       " ('sheraton', 8),\n",
       " ('doors', 8),\n",
       " ('small', 8),\n",
       " ('skyline', 8),\n",
       " ('planning', 8),\n",
       " ('catering', 8),\n",
       " ('mind', 8),\n",
       " ('boutique', 8),\n",
       " ('warm', 8),\n",
       " ('rooftop', 8),\n",
       " ('rich', 8),\n",
       " ('known', 8),\n",
       " ('classic', 8),\n",
       " ('know', 8),\n",
       " ('delicious', 8),\n",
       " ('venues', 8),\n",
       " ('tub', 8),\n",
       " ('yourself', 8),\n",
       " ('onsite', 8),\n",
       " ('pleasure', 8),\n",
       " ('includes', 8),\n",
       " ('evening', 8),\n",
       " ('directly', 8),\n",
       " ('alike', 8),\n",
       " ('cancer', 8),\n",
       " ('traveler', 8),\n",
       " ('stadium', 8),\n",
       " ('even', 8),\n",
       " ('escape', 8),\n",
       " ('king', 8),\n",
       " ('refrigerator', 8),\n",
       " ('premium', 8),\n",
       " ('budget', 8),\n",
       " ('facility', 8),\n",
       " ('renton', 8),\n",
       " ('alfred', 8),\n",
       " ('silver', 8),\n",
       " ('cloud', 8),\n",
       " ('bars', 7),\n",
       " ('reception', 7),\n",
       " ('dinner', 7),\n",
       " ('exciting', 7),\n",
       " ('recently', 7),\n",
       " ('favorite', 7),\n",
       " ('inside', 7),\n",
       " ('stunning', 7),\n",
       " ('throughout', 7),\n",
       " ('workout', 7),\n",
       " ('library', 7),\n",
       " ('gorgeous', 7),\n",
       " ('wood', 7),\n",
       " ('seating', 7),\n",
       " ('among', 7),\n",
       " ('car', 7),\n",
       " ('arts', 7),\n",
       " ('atmosphere', 7),\n",
       " ('fit', 7),\n",
       " ('always', 7),\n",
       " ('ve', 7),\n",
       " ('locally', 7),\n",
       " ('floors', 7),\n",
       " ('mini', 7),\n",
       " ('stays', 7),\n",
       " ('maker', 7),\n",
       " ('old', 7),\n",
       " ('cultural', 7),\n",
       " ('sofa', 7),\n",
       " ('hdtv', 7),\n",
       " ('game', 7),\n",
       " ('transportation', 7),\n",
       " ('easily', 7),\n",
       " ('open', 7),\n",
       " ('executive', 7),\n",
       " ('apartment', 7),\n",
       " ('kitchens', 7),\n",
       " ('been', 7),\n",
       " ('non', 7),\n",
       " ('bathrooms', 7),\n",
       " ('table', 7),\n",
       " ('hostel', 7),\n",
       " ('roof', 7),\n",
       " ('ballard', 7),\n",
       " ('proud', 7),\n",
       " ('station', 7),\n",
       " ('services', 7),\n",
       " ('european', 7),\n",
       " ('southcenter', 7),\n",
       " ('people', 7),\n",
       " ('100', 7),\n",
       " ('needs', 7),\n",
       " ('looking', 7),\n",
       " ('don', 7),\n",
       " ('15', 7),\n",
       " ('shoreline', 7),\n",
       " ('much', 7),\n",
       " ('broadway', 7),\n",
       " ('perfectly', 6),\n",
       " ('companies', 6),\n",
       " ('google', 6),\n",
       " ('conference', 6),\n",
       " ('cocktail', 6),\n",
       " ('drinks', 6),\n",
       " ('seven', 6),\n",
       " ('collection', 6),\n",
       " ('sleep', 6),\n",
       " ('savor', 6),\n",
       " ('happy', 6),\n",
       " ('public', 6),\n",
       " ('nordstrom', 6),\n",
       " ('terminal', 6),\n",
       " ('spectacular', 6),\n",
       " ('custom', 6),\n",
       " ('simple', 6),\n",
       " ('fireplace', 6),\n",
       " ('wide', 6),\n",
       " ('culture', 6),\n",
       " ('patio', 6),\n",
       " ('join', 6),\n",
       " ('setting', 6),\n",
       " ('wake', 6),\n",
       " ('cup', 6),\n",
       " ('hiking', 6),\n",
       " ('scene', 6),\n",
       " ('getaway', 6),\n",
       " ('theater', 6),\n",
       " ('landmarks', 6),\n",
       " ('down', 6),\n",
       " ('lodging', 6),\n",
       " ('separate', 6),\n",
       " ('plan', 6),\n",
       " ('hub', 6),\n",
       " ('retreat', 6),\n",
       " ('museums', 6),\n",
       " ('thriving', 6),\n",
       " ('size', 6),\n",
       " ('kitchenettes', 6),\n",
       " ('dine', 6),\n",
       " ('hand', 6),\n",
       " ('team', 6),\n",
       " ('corner', 6),\n",
       " ('do', 6),\n",
       " ('ready', 6),\n",
       " ('centers', 6),\n",
       " ('own', 6),\n",
       " ('experiences', 6),\n",
       " ('complete', 6),\n",
       " ('brings', 6),\n",
       " ('furnished', 6),\n",
       " ('ideally', 6),\n",
       " ('kind', 6),\n",
       " ('creative', 6),\n",
       " ('discover', 6),\n",
       " ('television', 6),\n",
       " ('bus', 6),\n",
       " ('homewood', 6),\n",
       " ('nightlife', 6),\n",
       " ('regency', 6),\n",
       " ('level', 6),\n",
       " ('go', 6),\n",
       " ('flexible', 6),\n",
       " ('grill', 6),\n",
       " ('key', 6),\n",
       " ('mt', 6),\n",
       " ('rainier', 6),\n",
       " ('buffet', 6),\n",
       " ('zoo', 6),\n",
       " ('matter', 6),\n",
       " ('headquarters', 6),\n",
       " ('play', 6),\n",
       " ('shower', 6),\n",
       " ('westfield', 6),\n",
       " ('quick', 6),\n",
       " ('smoking', 6),\n",
       " ('channels', 6),\n",
       " ('rate', 6),\n",
       " ('tea', 6),\n",
       " ('enjoyable', 6),\n",
       " ('research', 6),\n",
       " ('busy', 6),\n",
       " ('fred', 6),\n",
       " ('hutchinson', 6),\n",
       " ('very', 6),\n",
       " ('apartments', 6),\n",
       " ('resort', 6),\n",
       " ('gates', 5),\n",
       " ('locals', 5),\n",
       " ('american', 5),\n",
       " ('core', 5),\n",
       " ('diverse', 5),\n",
       " ('america', 5),\n",
       " ('expanded', 5),\n",
       " ('enjoying', 5),\n",
       " ('beverage', 5),\n",
       " ('several', 5),\n",
       " ('crowne', 5),\n",
       " ('exceptional', 5),\n",
       " ('cool', 5),\n",
       " ('drink', 5),\n",
       " ('better', 5),\n",
       " ('might', 5),\n",
       " ('half', 5),\n",
       " ('must', 5),\n",
       " ('houses', 5),\n",
       " ('boutiques', 5),\n",
       " ('pier', 5),\n",
       " ('stadiums', 5),\n",
       " ('mountain', 5),\n",
       " ('newly', 5),\n",
       " ('sleek', 5),\n",
       " ('welcoming', 5),\n",
       " ('elegant', 5),\n",
       " ('residence', 5),\n",
       " ('puts', 5),\n",
       " ('tour', 5),\n",
       " ('via', 5),\n",
       " ('destination', 5),\n",
       " ('culinary', 5),\n",
       " ('cocktails', 5),\n",
       " ('between', 5),\n",
       " ('monorail', 5),\n",
       " ('warwick', 5),\n",
       " ('way', 5),\n",
       " ('possible', 5),\n",
       " ('head', 5),\n",
       " ('craft', 5),\n",
       " ('put', 5),\n",
       " ('end', 5),\n",
       " ('kimpton', 5),\n",
       " ('enough', 5),\n",
       " ('who', 5),\n",
       " ('dedicated', 5),\n",
       " ('beer', 5),\n",
       " ('design', 5),\n",
       " ('could', 5),\n",
       " ('marriott', 5),\n",
       " ('westlake', 5),\n",
       " ('refrigerators', 5),\n",
       " ('desks', 5),\n",
       " ('found', 5),\n",
       " ('ship', 5),\n",
       " ('terminals', 5),\n",
       " ('innovative', 5),\n",
       " ('makes', 5),\n",
       " ('chic', 5),\n",
       " ('beauty', 5),\n",
       " ('system', 5),\n",
       " ('professional', 5),\n",
       " ('facebook', 5),\n",
       " ('sleeping', 5),\n",
       " ('deck', 5),\n",
       " ('made', 5),\n",
       " ('hall', 5),\n",
       " ('30', 5),\n",
       " ('connected', 5),\n",
       " ('customer', 5),\n",
       " ('panel', 5),\n",
       " ('televisions', 5),\n",
       " ('wines', 5),\n",
       " ('course', 5),\n",
       " ('too', 5),\n",
       " ('list', 5),\n",
       " ('ensure', 5),\n",
       " ('holiday', 5),\n",
       " ('either', 5),\n",
       " ('districts', 5),\n",
       " ('fremont', 5),\n",
       " ('choose', 5),\n",
       " ('soft', 5),\n",
       " ('lifestyle', 5),\n",
       " ('adventure', 5),\n",
       " ('adventures', 5),\n",
       " ('simply', 5),\n",
       " ('these', 5),\n",
       " ('beverages', 5),\n",
       " ('forget', 5),\n",
       " ('store', 5),\n",
       " ('intimate', 5),\n",
       " ('receptions', 5),\n",
       " ('details', 5),\n",
       " ('century', 5),\n",
       " ('cities', 5),\n",
       " ('oasis', 5),\n",
       " ('communal', 5),\n",
       " ('express', 5),\n",
       " ('residential', 5),\n",
       " ('runs', 5),\n",
       " ('woodland', 5),\n",
       " ('personal', 5),\n",
       " ('yet', 5),\n",
       " ('bellevue', 5),\n",
       " ('interior', 5),\n",
       " ('healthy', 5),\n",
       " ('above', 5),\n",
       " ('stress', 5),\n",
       " ('term', 5),\n",
       " ('accessible', 5),\n",
       " ('run', 5),\n",
       " ('lodge', 5),\n",
       " ('filled', 5),\n",
       " ('boardroom', 5),\n",
       " ('green', 5),\n",
       " ('self', 5),\n",
       " ('units', 5),\n",
       " ('bustling', 5),\n",
       " ('college', 5),\n",
       " ('northgate', 5),\n",
       " ('round', 5),\n",
       " ('hit', 5),\n",
       " ('won', 5),\n",
       " ('ten', 5),\n",
       " ('pride', 5),\n",
       " ('landing', 5),\n",
       " ('linens', 5),\n",
       " ('ourselves', 5),\n",
       " ('bill', 4),\n",
       " ('melinda', 4),\n",
       " ('foundation', 4),\n",
       " ('visitors', 4),\n",
       " ('majestic', 4),\n",
       " ('sq', 4),\n",
       " ('ft', 4),\n",
       " ('technology', 4),\n",
       " ('wedding', 4),\n",
       " ('success', 4),\n",
       " ('refresh', 4),\n",
       " ('latest', 4),\n",
       " ('tastefully', 4),\n",
       " ('decorated', 4),\n",
       " ('productive', 4),\n",
       " ('lunch', 4),\n",
       " ('gateway', 4),\n",
       " ('plaza', 4),\n",
       " ('touches', 4),\n",
       " ('set', 4),\n",
       " ('lights', 4),\n",
       " ('addition', 4),\n",
       " ('rest', 4),\n",
       " ('5th', 4),\n",
       " ('sounders', 4),\n",
       " ('curated', 4),\n",
       " ('paramount', 4),\n",
       " ('luxurious', 4),\n",
       " ('comfy', 4),\n",
       " ('good', 4),\n",
       " ('why', 4),\n",
       " ('sightseeing', 4),\n",
       " ('leading', 4),\n",
       " ('refreshing', 4),\n",
       " ('covered', 4),\n",
       " ('surrounded', 4),\n",
       " ('trendy', 4),\n",
       " ('side', 4),\n",
       " ('let', 4),\n",
       " ('show', 4),\n",
       " ('memorable', 4),\n",
       " ('fare', 4),\n",
       " ('got', 4),\n",
       " ('diamond', 4),\n",
       " ('scenic', 4),\n",
       " ('never', 4),\n",
       " ('tell', 4),\n",
       " ('without', 4),\n",
       " ('retail', 4),\n",
       " ('adjacent', 4),\n",
       " ('harbor', 4),\n",
       " ('port', 4),\n",
       " ('sculpture', 4),\n",
       " ('look', 4),\n",
       " ('breathtaking', 4),\n",
       " ('sites', 4),\n",
       " ('goal', 4),\n",
       " ('additional', 4),\n",
       " ('elegance', 4),\n",
       " ('named', 4),\n",
       " ('sophisticated', 4),\n",
       " ('afternoon', 4),\n",
       " ('metro', 4),\n",
       " ('500', 4),\n",
       " ('nestled', 4),\n",
       " ('health', 4),\n",
       " ('55', 4),\n",
       " ('mobile', 4),\n",
       " ('settle', 4),\n",
       " ('those', 4),\n",
       " ('getting', 4),\n",
       " ('things', 4),\n",
       " ('science', 4),\n",
       " ('42', 4),\n",
       " ('keep', 4),\n",
       " ('watch', 4),\n",
       " ('coast', 4),\n",
       " ('bright', 4),\n",
       " ('plug', 4),\n",
       " ('selection', 4),\n",
       " ('stand', 4),\n",
       " ('unparalleled', 4),\n",
       " ('expansive', 4),\n",
       " ('energy', 4),\n",
       " ('ours', 4),\n",
       " ('4th', 4),\n",
       " ('would', 4),\n",
       " ('board', 4),\n",
       " ('active', 4),\n",
       " ('kick', 4),\n",
       " ('fuel', 4),\n",
       " ('western', 4),\n",
       " ('romantic', 4),\n",
       " ('clean', 4),\n",
       " ('same', 4),\n",
       " ('upgrade', 4),\n",
       " ('monday', 4),\n",
       " ('something', 4),\n",
       " ('casual', 4),\n",
       " ('marble', 4),\n",
       " ('12', 4),\n",
       " ('movie', 4),\n",
       " ('arena', 4),\n",
       " ('served', 4),\n",
       " ('accommodate', 4),\n",
       " ('week', 4),\n",
       " ('owned', 4),\n",
       " ('mediterranean', 4),\n",
       " ('delivers', 4),\n",
       " ('hip', 4),\n",
       " ('leave', 4),\n",
       " ('products', 4),\n",
       " ('twin', 4),\n",
       " ('early', 4),\n",
       " ('train', 4),\n",
       " ('exercise', 4),\n",
       " ('freshly', 4),\n",
       " ('menu', 4),\n",
       " ('function', 4),\n",
       " ('deluxe', 4),\n",
       " ('redmond', 4),\n",
       " ('snack', 4),\n",
       " ('seafood', 4),\n",
       " ('dip', 4),\n",
       " ('overnight', 4),\n",
       " ('greet', 4),\n",
       " ('relaxed', 4),\n",
       " ('exploring', 4),\n",
       " ('shop', 4),\n",
       " ('affordable', 4),\n",
       " ('give', 4),\n",
       " ('rewards', 4),\n",
       " ('program', 4),\n",
       " ('making', 4),\n",
       " ('pillow', 4),\n",
       " ('authentic', 4),\n",
       " ('inspiring', 4),\n",
       " ('how', 4),\n",
       " ('smoke', 4),\n",
       " ('405', 4),\n",
       " ('hampton', 4),\n",
       " ('kids', 4),\n",
       " ('everyone', 4),\n",
       " ('meals', 4),\n",
       " ('99', 4),\n",
       " ('11', 4),\n",
       " ('accommodation', 4),\n",
       " ('training', 4),\n",
       " ('beach', 4),\n",
       " ('points', 4),\n",
       " ('tours', 4),\n",
       " ('econo', 4),\n",
       " ('microwaves', 4),\n",
       " ('outlets', 4),\n",
       " ('little', 4),\n",
       " ('conditioned', 4),\n",
       " ('americas', 4),\n",
       " ('money', 4),\n",
       " ('historical', 4),\n",
       " ('year', 4),\n",
       " ('attention', 4),\n",
       " ('jimmy', 4),\n",
       " ('national', 4),\n",
       " ('theodore', 4),\n",
       " ('warmth', 4),\n",
       " ('maxwell', 4),\n",
       " ('creature', 4),\n",
       " ('definition', 4),\n",
       " ('bacon', 4),\n",
       " ('georgetown', 4),\n",
       " ('grove', 4),\n",
       " ('watertown', 4),\n",
       " ('gaslight', 4),\n",
       " ('oak', 4),\n",
       " ('southport', 4),\n",
       " ('allows', 3),\n",
       " ('kayaking', 3),\n",
       " ('versatile', 3),\n",
       " ('guarantee', 3),\n",
       " ('equipment', 3),\n",
       " ('chihuly', 3),\n",
       " ('earn', 3),\n",
       " ('chef', 3),\n",
       " ('blend', 3),\n",
       " ('soon', 3),\n",
       " ('concierge', 3),\n",
       " ('fantastic', 3),\n",
       " ('amid', 3),\n",
       " ('incredible', 3),\n",
       " ('haven', 3),\n",
       " ('prime', 3),\n",
       " ('crafted', 3),\n",
       " ('celebrated', 3),\n",
       " ('unforgettable', 3),\n",
       " ('reflect', 3),\n",
       " ('hosts', 3),\n",
       " ('company', 3),\n",
       " ('underground', 3),\n",
       " ('everywhere', 3),\n",
       " ('landscape', 3),\n",
       " ('region', 3),\n",
       " ('bounty', 3),\n",
       " ('truly', 3),\n",
       " ('pleasant', 3),\n",
       " ('breeze', 3),\n",
       " ('deep', 3),\n",
       " ('waters', 3),\n",
       " ('straight', 3),\n",
       " ('breweries', 3),\n",
       " ('mount', 3),\n",
       " ('soak', 3),\n",
       " ('before', 3),\n",
       " ('heading', 3),\n",
       " ('destinations', 3),\n",
       " ('ever', 3),\n",
       " ('reading', 3),\n",
       " ('couldn', 3),\n",
       " ('alexis', 3),\n",
       " ('matched', 3),\n",
       " ('attentive', 3),\n",
       " ('interesting', 3),\n",
       " ('giving', 3),\n",
       " ('edge', 3),\n",
       " ('indulge', 3),\n",
       " ('loft', 3),\n",
       " ('ceilings', 3),\n",
       " ('them', 3),\n",
       " ('elements', 3),\n",
       " ('still', 3),\n",
       " ('sit', 3),\n",
       " ('outfitted', 3),\n",
       " ('balconies', 3),\n",
       " ('perks', 3),\n",
       " ('gym', 3),\n",
       " ('sunset', 3),\n",
       " ('rock', 3),\n",
       " ('fireplaces', 3),\n",
       " ('kitchenette', 3),\n",
       " ('bistro', 3),\n",
       " ('fairmont', 3),\n",
       " ('acclaimed', 3),\n",
       " ('news', 3),\n",
       " ('report', 3),\n",
       " ('2018', 3),\n",
       " ('shows', 3),\n",
       " ('outdoors', 3),\n",
       " ('fans', 3),\n",
       " ('athletic', 3),\n",
       " ('begin', 3),\n",
       " ...]"
      ]
     },
     "execution_count": 65,
     "metadata": {},
     "output_type": "execute_result"
    }
   ],
   "source": [
    "words_freq = sorted(words_freq,key=lambda x:x[1],reverse=True)\n",
    "words_freq"
   ]
  },
  {
   "cell_type": "code",
   "execution_count": 66,
   "metadata": {},
   "outputs": [],
   "source": [
    "def get_top_n_words(corpus,n=None):\n",
    "    vec = CountVectorizer().fit(corpus)\n",
    "    bag_of_words = vec.transform(corpus)\n",
    "    sum_words = bag_of_words.sum(axis=0)\n",
    "    words_freq = [(word,sum_words[0,idx]) for word,idx in vec.vocabulary_.items()]\n",
    "    words_freq = sorted(words_freq,key=lambda x:x[1],reverse=True)\n",
    "    return words_freq[:n]"
   ]
  },
  {
   "cell_type": "code",
   "execution_count": 67,
   "metadata": {},
   "outputs": [],
   "source": [
    "common_words=get_top_n_words(df['desc'],20)"
   ]
  },
  {
   "cell_type": "code",
   "execution_count": 68,
   "metadata": {},
   "outputs": [
    {
     "data": {
      "text/plain": [
       "[('the', 1258),\n",
       " ('and', 1062),\n",
       " ('of', 536),\n",
       " ('seattle', 533),\n",
       " ('to', 471),\n",
       " ('in', 449),\n",
       " ('our', 359),\n",
       " ('you', 304),\n",
       " ('hotel', 295),\n",
       " ('with', 280),\n",
       " ('is', 271),\n",
       " ('at', 231),\n",
       " ('from', 224),\n",
       " ('for', 216),\n",
       " ('your', 186),\n",
       " ('or', 161),\n",
       " ('center', 151),\n",
       " ('are', 136),\n",
       " ('downtown', 133),\n",
       " ('on', 129)]"
      ]
     },
     "execution_count": 68,
     "metadata": {},
     "output_type": "execute_result"
    }
   ],
   "source": [
    "common_words"
   ]
  },
  {
   "cell_type": "code",
   "execution_count": 69,
   "metadata": {},
   "outputs": [],
   "source": [
    "df1 = pd.DataFrame(common_words,columns=['desc','count'])"
   ]
  },
  {
   "cell_type": "code",
   "execution_count": 70,
   "metadata": {},
   "outputs": [
    {
     "data": {
      "text/html": [
       "<div>\n",
       "<style scoped>\n",
       "    .dataframe tbody tr th:only-of-type {\n",
       "        vertical-align: middle;\n",
       "    }\n",
       "\n",
       "    .dataframe tbody tr th {\n",
       "        vertical-align: top;\n",
       "    }\n",
       "\n",
       "    .dataframe thead th {\n",
       "        text-align: right;\n",
       "    }\n",
       "</style>\n",
       "<table border=\"1\" class=\"dataframe\">\n",
       "  <thead>\n",
       "    <tr style=\"text-align: right;\">\n",
       "      <th></th>\n",
       "      <th>desc</th>\n",
       "      <th>count</th>\n",
       "    </tr>\n",
       "  </thead>\n",
       "  <tbody>\n",
       "    <tr>\n",
       "      <th>0</th>\n",
       "      <td>the</td>\n",
       "      <td>1258</td>\n",
       "    </tr>\n",
       "    <tr>\n",
       "      <th>1</th>\n",
       "      <td>and</td>\n",
       "      <td>1062</td>\n",
       "    </tr>\n",
       "    <tr>\n",
       "      <th>2</th>\n",
       "      <td>of</td>\n",
       "      <td>536</td>\n",
       "    </tr>\n",
       "    <tr>\n",
       "      <th>3</th>\n",
       "      <td>seattle</td>\n",
       "      <td>533</td>\n",
       "    </tr>\n",
       "    <tr>\n",
       "      <th>4</th>\n",
       "      <td>to</td>\n",
       "      <td>471</td>\n",
       "    </tr>\n",
       "  </tbody>\n",
       "</table>\n",
       "</div>"
      ],
      "text/plain": [
       "      desc  count\n",
       "0      the   1258\n",
       "1      and   1062\n",
       "2       of    536\n",
       "3  seattle    533\n",
       "4       to    471"
      ]
     },
     "execution_count": 70,
     "metadata": {},
     "output_type": "execute_result"
    }
   ],
   "source": [
    "df1.head()"
   ]
  },
  {
   "cell_type": "code",
   "execution_count": 71,
   "metadata": {},
   "outputs": [
    {
     "data": {
      "application/vnd.plotly.v1+json": {
       "config": {
        "plotlyServerURL": "https://plot.ly"
       },
       "data": [
        {
         "orientation": "h",
         "type": "bar",
         "x": {
          "bdata": "6gQmBBgCFQLXAcEBZwEwAScBGAEPAecA4ADYALoAoQCXAIgAhQCBAA==",
          "dtype": "i2"
         },
         "y": [
          "the",
          "and",
          "of",
          "seattle",
          "to",
          "in",
          "our",
          "you",
          "hotel",
          "with",
          "is",
          "at",
          "from",
          "for",
          "your",
          "or",
          "center",
          "are",
          "downtown",
          "on"
         ]
        }
       ],
       "layout": {
        "height": 600,
        "template": {
         "data": {
          "bar": [
           {
            "error_x": {
             "color": "#2a3f5f"
            },
            "error_y": {
             "color": "#2a3f5f"
            },
            "marker": {
             "line": {
              "color": "#E5ECF6",
              "width": 0.5
             },
             "pattern": {
              "fillmode": "overlay",
              "size": 10,
              "solidity": 0.2
             }
            },
            "type": "bar"
           }
          ],
          "barpolar": [
           {
            "marker": {
             "line": {
              "color": "#E5ECF6",
              "width": 0.5
             },
             "pattern": {
              "fillmode": "overlay",
              "size": 10,
              "solidity": 0.2
             }
            },
            "type": "barpolar"
           }
          ],
          "carpet": [
           {
            "aaxis": {
             "endlinecolor": "#2a3f5f",
             "gridcolor": "white",
             "linecolor": "white",
             "minorgridcolor": "white",
             "startlinecolor": "#2a3f5f"
            },
            "baxis": {
             "endlinecolor": "#2a3f5f",
             "gridcolor": "white",
             "linecolor": "white",
             "minorgridcolor": "white",
             "startlinecolor": "#2a3f5f"
            },
            "type": "carpet"
           }
          ],
          "choropleth": [
           {
            "colorbar": {
             "outlinewidth": 0,
             "ticks": ""
            },
            "type": "choropleth"
           }
          ],
          "contour": [
           {
            "colorbar": {
             "outlinewidth": 0,
             "ticks": ""
            },
            "colorscale": [
             [
              0,
              "#0d0887"
             ],
             [
              0.1111111111111111,
              "#46039f"
             ],
             [
              0.2222222222222222,
              "#7201a8"
             ],
             [
              0.3333333333333333,
              "#9c179e"
             ],
             [
              0.4444444444444444,
              "#bd3786"
             ],
             [
              0.5555555555555556,
              "#d8576b"
             ],
             [
              0.6666666666666666,
              "#ed7953"
             ],
             [
              0.7777777777777778,
              "#fb9f3a"
             ],
             [
              0.8888888888888888,
              "#fdca26"
             ],
             [
              1,
              "#f0f921"
             ]
            ],
            "type": "contour"
           }
          ],
          "contourcarpet": [
           {
            "colorbar": {
             "outlinewidth": 0,
             "ticks": ""
            },
            "type": "contourcarpet"
           }
          ],
          "heatmap": [
           {
            "colorbar": {
             "outlinewidth": 0,
             "ticks": ""
            },
            "colorscale": [
             [
              0,
              "#0d0887"
             ],
             [
              0.1111111111111111,
              "#46039f"
             ],
             [
              0.2222222222222222,
              "#7201a8"
             ],
             [
              0.3333333333333333,
              "#9c179e"
             ],
             [
              0.4444444444444444,
              "#bd3786"
             ],
             [
              0.5555555555555556,
              "#d8576b"
             ],
             [
              0.6666666666666666,
              "#ed7953"
             ],
             [
              0.7777777777777778,
              "#fb9f3a"
             ],
             [
              0.8888888888888888,
              "#fdca26"
             ],
             [
              1,
              "#f0f921"
             ]
            ],
            "type": "heatmap"
           }
          ],
          "histogram": [
           {
            "marker": {
             "pattern": {
              "fillmode": "overlay",
              "size": 10,
              "solidity": 0.2
             }
            },
            "type": "histogram"
           }
          ],
          "histogram2d": [
           {
            "colorbar": {
             "outlinewidth": 0,
             "ticks": ""
            },
            "colorscale": [
             [
              0,
              "#0d0887"
             ],
             [
              0.1111111111111111,
              "#46039f"
             ],
             [
              0.2222222222222222,
              "#7201a8"
             ],
             [
              0.3333333333333333,
              "#9c179e"
             ],
             [
              0.4444444444444444,
              "#bd3786"
             ],
             [
              0.5555555555555556,
              "#d8576b"
             ],
             [
              0.6666666666666666,
              "#ed7953"
             ],
             [
              0.7777777777777778,
              "#fb9f3a"
             ],
             [
              0.8888888888888888,
              "#fdca26"
             ],
             [
              1,
              "#f0f921"
             ]
            ],
            "type": "histogram2d"
           }
          ],
          "histogram2dcontour": [
           {
            "colorbar": {
             "outlinewidth": 0,
             "ticks": ""
            },
            "colorscale": [
             [
              0,
              "#0d0887"
             ],
             [
              0.1111111111111111,
              "#46039f"
             ],
             [
              0.2222222222222222,
              "#7201a8"
             ],
             [
              0.3333333333333333,
              "#9c179e"
             ],
             [
              0.4444444444444444,
              "#bd3786"
             ],
             [
              0.5555555555555556,
              "#d8576b"
             ],
             [
              0.6666666666666666,
              "#ed7953"
             ],
             [
              0.7777777777777778,
              "#fb9f3a"
             ],
             [
              0.8888888888888888,
              "#fdca26"
             ],
             [
              1,
              "#f0f921"
             ]
            ],
            "type": "histogram2dcontour"
           }
          ],
          "mesh3d": [
           {
            "colorbar": {
             "outlinewidth": 0,
             "ticks": ""
            },
            "type": "mesh3d"
           }
          ],
          "parcoords": [
           {
            "line": {
             "colorbar": {
              "outlinewidth": 0,
              "ticks": ""
             }
            },
            "type": "parcoords"
           }
          ],
          "pie": [
           {
            "automargin": true,
            "type": "pie"
           }
          ],
          "scatter": [
           {
            "fillpattern": {
             "fillmode": "overlay",
             "size": 10,
             "solidity": 0.2
            },
            "type": "scatter"
           }
          ],
          "scatter3d": [
           {
            "line": {
             "colorbar": {
              "outlinewidth": 0,
              "ticks": ""
             }
            },
            "marker": {
             "colorbar": {
              "outlinewidth": 0,
              "ticks": ""
             }
            },
            "type": "scatter3d"
           }
          ],
          "scattercarpet": [
           {
            "marker": {
             "colorbar": {
              "outlinewidth": 0,
              "ticks": ""
             }
            },
            "type": "scattercarpet"
           }
          ],
          "scattergeo": [
           {
            "marker": {
             "colorbar": {
              "outlinewidth": 0,
              "ticks": ""
             }
            },
            "type": "scattergeo"
           }
          ],
          "scattergl": [
           {
            "marker": {
             "colorbar": {
              "outlinewidth": 0,
              "ticks": ""
             }
            },
            "type": "scattergl"
           }
          ],
          "scattermap": [
           {
            "marker": {
             "colorbar": {
              "outlinewidth": 0,
              "ticks": ""
             }
            },
            "type": "scattermap"
           }
          ],
          "scattermapbox": [
           {
            "marker": {
             "colorbar": {
              "outlinewidth": 0,
              "ticks": ""
             }
            },
            "type": "scattermapbox"
           }
          ],
          "scatterpolar": [
           {
            "marker": {
             "colorbar": {
              "outlinewidth": 0,
              "ticks": ""
             }
            },
            "type": "scatterpolar"
           }
          ],
          "scatterpolargl": [
           {
            "marker": {
             "colorbar": {
              "outlinewidth": 0,
              "ticks": ""
             }
            },
            "type": "scatterpolargl"
           }
          ],
          "scatterternary": [
           {
            "marker": {
             "colorbar": {
              "outlinewidth": 0,
              "ticks": ""
             }
            },
            "type": "scatterternary"
           }
          ],
          "surface": [
           {
            "colorbar": {
             "outlinewidth": 0,
             "ticks": ""
            },
            "colorscale": [
             [
              0,
              "#0d0887"
             ],
             [
              0.1111111111111111,
              "#46039f"
             ],
             [
              0.2222222222222222,
              "#7201a8"
             ],
             [
              0.3333333333333333,
              "#9c179e"
             ],
             [
              0.4444444444444444,
              "#bd3786"
             ],
             [
              0.5555555555555556,
              "#d8576b"
             ],
             [
              0.6666666666666666,
              "#ed7953"
             ],
             [
              0.7777777777777778,
              "#fb9f3a"
             ],
             [
              0.8888888888888888,
              "#fdca26"
             ],
             [
              1,
              "#f0f921"
             ]
            ],
            "type": "surface"
           }
          ],
          "table": [
           {
            "cells": {
             "fill": {
              "color": "#EBF0F8"
             },
             "line": {
              "color": "white"
             }
            },
            "header": {
             "fill": {
              "color": "#C8D4E3"
             },
             "line": {
              "color": "white"
             }
            },
            "type": "table"
           }
          ]
         },
         "layout": {
          "annotationdefaults": {
           "arrowcolor": "#2a3f5f",
           "arrowhead": 0,
           "arrowwidth": 1
          },
          "autotypenumbers": "strict",
          "coloraxis": {
           "colorbar": {
            "outlinewidth": 0,
            "ticks": ""
           }
          },
          "colorscale": {
           "diverging": [
            [
             0,
             "#8e0152"
            ],
            [
             0.1,
             "#c51b7d"
            ],
            [
             0.2,
             "#de77ae"
            ],
            [
             0.3,
             "#f1b6da"
            ],
            [
             0.4,
             "#fde0ef"
            ],
            [
             0.5,
             "#f7f7f7"
            ],
            [
             0.6,
             "#e6f5d0"
            ],
            [
             0.7,
             "#b8e186"
            ],
            [
             0.8,
             "#7fbc41"
            ],
            [
             0.9,
             "#4d9221"
            ],
            [
             1,
             "#276419"
            ]
           ],
           "sequential": [
            [
             0,
             "#0d0887"
            ],
            [
             0.1111111111111111,
             "#46039f"
            ],
            [
             0.2222222222222222,
             "#7201a8"
            ],
            [
             0.3333333333333333,
             "#9c179e"
            ],
            [
             0.4444444444444444,
             "#bd3786"
            ],
            [
             0.5555555555555556,
             "#d8576b"
            ],
            [
             0.6666666666666666,
             "#ed7953"
            ],
            [
             0.7777777777777778,
             "#fb9f3a"
            ],
            [
             0.8888888888888888,
             "#fdca26"
            ],
            [
             1,
             "#f0f921"
            ]
           ],
           "sequentialminus": [
            [
             0,
             "#0d0887"
            ],
            [
             0.1111111111111111,
             "#46039f"
            ],
            [
             0.2222222222222222,
             "#7201a8"
            ],
            [
             0.3333333333333333,
             "#9c179e"
            ],
            [
             0.4444444444444444,
             "#bd3786"
            ],
            [
             0.5555555555555556,
             "#d8576b"
            ],
            [
             0.6666666666666666,
             "#ed7953"
            ],
            [
             0.7777777777777778,
             "#fb9f3a"
            ],
            [
             0.8888888888888888,
             "#fdca26"
            ],
            [
             1,
             "#f0f921"
            ]
           ]
          },
          "colorway": [
           "#636efa",
           "#EF553B",
           "#00cc96",
           "#ab63fa",
           "#FFA15A",
           "#19d3f3",
           "#FF6692",
           "#B6E880",
           "#FF97FF",
           "#FECB52"
          ],
          "font": {
           "color": "#2a3f5f"
          },
          "geo": {
           "bgcolor": "white",
           "lakecolor": "white",
           "landcolor": "#E5ECF6",
           "showlakes": true,
           "showland": true,
           "subunitcolor": "white"
          },
          "hoverlabel": {
           "align": "left"
          },
          "hovermode": "closest",
          "mapbox": {
           "style": "light"
          },
          "paper_bgcolor": "white",
          "plot_bgcolor": "#E5ECF6",
          "polar": {
           "angularaxis": {
            "gridcolor": "white",
            "linecolor": "white",
            "ticks": ""
           },
           "bgcolor": "#E5ECF6",
           "radialaxis": {
            "gridcolor": "white",
            "linecolor": "white",
            "ticks": ""
           }
          },
          "scene": {
           "xaxis": {
            "backgroundcolor": "#E5ECF6",
            "gridcolor": "white",
            "gridwidth": 2,
            "linecolor": "white",
            "showbackground": true,
            "ticks": "",
            "zerolinecolor": "white"
           },
           "yaxis": {
            "backgroundcolor": "#E5ECF6",
            "gridcolor": "white",
            "gridwidth": 2,
            "linecolor": "white",
            "showbackground": true,
            "ticks": "",
            "zerolinecolor": "white"
           },
           "zaxis": {
            "backgroundcolor": "#E5ECF6",
            "gridcolor": "white",
            "gridwidth": 2,
            "linecolor": "white",
            "showbackground": true,
            "ticks": "",
            "zerolinecolor": "white"
           }
          },
          "shapedefaults": {
           "line": {
            "color": "#2a3f5f"
           }
          },
          "ternary": {
           "aaxis": {
            "gridcolor": "white",
            "linecolor": "white",
            "ticks": ""
           },
           "baxis": {
            "gridcolor": "white",
            "linecolor": "white",
            "ticks": ""
           },
           "bgcolor": "#E5ECF6",
           "caxis": {
            "gridcolor": "white",
            "linecolor": "white",
            "ticks": ""
           }
          },
          "title": {
           "x": 0.05
          },
          "xaxis": {
           "automargin": true,
           "gridcolor": "white",
           "linecolor": "white",
           "ticks": "",
           "title": {
            "standoff": 15
           },
           "zerolinecolor": "white",
           "zerolinewidth": 2
          },
          "yaxis": {
           "automargin": true,
           "gridcolor": "white",
           "linecolor": "white",
           "ticks": "",
           "title": {
            "standoff": 15
           },
           "zerolinecolor": "white",
           "zerolinewidth": 2
          }
         }
        },
        "title": {
         "text": "Top 20 Words Before Removing Stopwords"
        },
        "xaxis": {
         "title": {
          "text": "Count"
         }
        },
        "yaxis": {
         "title": {
          "text": "Words"
         }
        }
       }
      },
      "text/html": [
       "<div>            <script src=\"https://cdnjs.cloudflare.com/ajax/libs/mathjax/2.7.5/MathJax.js?config=TeX-AMS-MML_SVG\"></script><script type=\"text/javascript\">if (window.MathJax && window.MathJax.Hub && window.MathJax.Hub.Config) {window.MathJax.Hub.Config({SVG: {font: \"STIX-Web\"}});}</script>                <script type=\"text/javascript\">window.PlotlyConfig = {MathJaxConfig: 'local'};</script>\n",
       "        <script charset=\"utf-8\" src=\"https://cdn.plot.ly/plotly-3.0.0.min.js\"></script>                <div id=\"1f7cff4b-819c-4908-aa90-4564052b3325\" class=\"plotly-graph-div\" style=\"height:600px; width:100%;\"></div>            <script type=\"text/javascript\">                window.PLOTLYENV=window.PLOTLYENV || {};                                if (document.getElementById(\"1f7cff4b-819c-4908-aa90-4564052b3325\")) {                    Plotly.newPlot(                        \"1f7cff4b-819c-4908-aa90-4564052b3325\",                        [{\"orientation\":\"h\",\"x\":{\"dtype\":\"i2\",\"bdata\":\"6gQmBBgCFQLXAcEBZwEwAScBGAEPAecA4ADYALoAoQCXAIgAhQCBAA==\"},\"y\":[\"the\",\"and\",\"of\",\"seattle\",\"to\",\"in\",\"our\",\"you\",\"hotel\",\"with\",\"is\",\"at\",\"from\",\"for\",\"your\",\"or\",\"center\",\"are\",\"downtown\",\"on\"],\"type\":\"bar\"}],                        {\"template\":{\"data\":{\"histogram2dcontour\":[{\"type\":\"histogram2dcontour\",\"colorbar\":{\"outlinewidth\":0,\"ticks\":\"\"},\"colorscale\":[[0.0,\"#0d0887\"],[0.1111111111111111,\"#46039f\"],[0.2222222222222222,\"#7201a8\"],[0.3333333333333333,\"#9c179e\"],[0.4444444444444444,\"#bd3786\"],[0.5555555555555556,\"#d8576b\"],[0.6666666666666666,\"#ed7953\"],[0.7777777777777778,\"#fb9f3a\"],[0.8888888888888888,\"#fdca26\"],[1.0,\"#f0f921\"]]}],\"choropleth\":[{\"type\":\"choropleth\",\"colorbar\":{\"outlinewidth\":0,\"ticks\":\"\"}}],\"histogram2d\":[{\"type\":\"histogram2d\",\"colorbar\":{\"outlinewidth\":0,\"ticks\":\"\"},\"colorscale\":[[0.0,\"#0d0887\"],[0.1111111111111111,\"#46039f\"],[0.2222222222222222,\"#7201a8\"],[0.3333333333333333,\"#9c179e\"],[0.4444444444444444,\"#bd3786\"],[0.5555555555555556,\"#d8576b\"],[0.6666666666666666,\"#ed7953\"],[0.7777777777777778,\"#fb9f3a\"],[0.8888888888888888,\"#fdca26\"],[1.0,\"#f0f921\"]]}],\"heatmap\":[{\"type\":\"heatmap\",\"colorbar\":{\"outlinewidth\":0,\"ticks\":\"\"},\"colorscale\":[[0.0,\"#0d0887\"],[0.1111111111111111,\"#46039f\"],[0.2222222222222222,\"#7201a8\"],[0.3333333333333333,\"#9c179e\"],[0.4444444444444444,\"#bd3786\"],[0.5555555555555556,\"#d8576b\"],[0.6666666666666666,\"#ed7953\"],[0.7777777777777778,\"#fb9f3a\"],[0.8888888888888888,\"#fdca26\"],[1.0,\"#f0f921\"]]}],\"contourcarpet\":[{\"type\":\"contourcarpet\",\"colorbar\":{\"outlinewidth\":0,\"ticks\":\"\"}}],\"contour\":[{\"type\":\"contour\",\"colorbar\":{\"outlinewidth\":0,\"ticks\":\"\"},\"colorscale\":[[0.0,\"#0d0887\"],[0.1111111111111111,\"#46039f\"],[0.2222222222222222,\"#7201a8\"],[0.3333333333333333,\"#9c179e\"],[0.4444444444444444,\"#bd3786\"],[0.5555555555555556,\"#d8576b\"],[0.6666666666666666,\"#ed7953\"],[0.7777777777777778,\"#fb9f3a\"],[0.8888888888888888,\"#fdca26\"],[1.0,\"#f0f921\"]]}],\"surface\":[{\"type\":\"surface\",\"colorbar\":{\"outlinewidth\":0,\"ticks\":\"\"},\"colorscale\":[[0.0,\"#0d0887\"],[0.1111111111111111,\"#46039f\"],[0.2222222222222222,\"#7201a8\"],[0.3333333333333333,\"#9c179e\"],[0.4444444444444444,\"#bd3786\"],[0.5555555555555556,\"#d8576b\"],[0.6666666666666666,\"#ed7953\"],[0.7777777777777778,\"#fb9f3a\"],[0.8888888888888888,\"#fdca26\"],[1.0,\"#f0f921\"]]}],\"mesh3d\":[{\"type\":\"mesh3d\",\"colorbar\":{\"outlinewidth\":0,\"ticks\":\"\"}}],\"scatter\":[{\"fillpattern\":{\"fillmode\":\"overlay\",\"size\":10,\"solidity\":0.2},\"type\":\"scatter\"}],\"parcoords\":[{\"type\":\"parcoords\",\"line\":{\"colorbar\":{\"outlinewidth\":0,\"ticks\":\"\"}}}],\"scatterpolargl\":[{\"type\":\"scatterpolargl\",\"marker\":{\"colorbar\":{\"outlinewidth\":0,\"ticks\":\"\"}}}],\"bar\":[{\"error_x\":{\"color\":\"#2a3f5f\"},\"error_y\":{\"color\":\"#2a3f5f\"},\"marker\":{\"line\":{\"color\":\"#E5ECF6\",\"width\":0.5},\"pattern\":{\"fillmode\":\"overlay\",\"size\":10,\"solidity\":0.2}},\"type\":\"bar\"}],\"scattergeo\":[{\"type\":\"scattergeo\",\"marker\":{\"colorbar\":{\"outlinewidth\":0,\"ticks\":\"\"}}}],\"scatterpolar\":[{\"type\":\"scatterpolar\",\"marker\":{\"colorbar\":{\"outlinewidth\":0,\"ticks\":\"\"}}}],\"histogram\":[{\"marker\":{\"pattern\":{\"fillmode\":\"overlay\",\"size\":10,\"solidity\":0.2}},\"type\":\"histogram\"}],\"scattergl\":[{\"type\":\"scattergl\",\"marker\":{\"colorbar\":{\"outlinewidth\":0,\"ticks\":\"\"}}}],\"scatter3d\":[{\"type\":\"scatter3d\",\"line\":{\"colorbar\":{\"outlinewidth\":0,\"ticks\":\"\"}},\"marker\":{\"colorbar\":{\"outlinewidth\":0,\"ticks\":\"\"}}}],\"scattermap\":[{\"type\":\"scattermap\",\"marker\":{\"colorbar\":{\"outlinewidth\":0,\"ticks\":\"\"}}}],\"scattermapbox\":[{\"type\":\"scattermapbox\",\"marker\":{\"colorbar\":{\"outlinewidth\":0,\"ticks\":\"\"}}}],\"scatterternary\":[{\"type\":\"scatterternary\",\"marker\":{\"colorbar\":{\"outlinewidth\":0,\"ticks\":\"\"}}}],\"scattercarpet\":[{\"type\":\"scattercarpet\",\"marker\":{\"colorbar\":{\"outlinewidth\":0,\"ticks\":\"\"}}}],\"carpet\":[{\"aaxis\":{\"endlinecolor\":\"#2a3f5f\",\"gridcolor\":\"white\",\"linecolor\":\"white\",\"minorgridcolor\":\"white\",\"startlinecolor\":\"#2a3f5f\"},\"baxis\":{\"endlinecolor\":\"#2a3f5f\",\"gridcolor\":\"white\",\"linecolor\":\"white\",\"minorgridcolor\":\"white\",\"startlinecolor\":\"#2a3f5f\"},\"type\":\"carpet\"}],\"table\":[{\"cells\":{\"fill\":{\"color\":\"#EBF0F8\"},\"line\":{\"color\":\"white\"}},\"header\":{\"fill\":{\"color\":\"#C8D4E3\"},\"line\":{\"color\":\"white\"}},\"type\":\"table\"}],\"barpolar\":[{\"marker\":{\"line\":{\"color\":\"#E5ECF6\",\"width\":0.5},\"pattern\":{\"fillmode\":\"overlay\",\"size\":10,\"solidity\":0.2}},\"type\":\"barpolar\"}],\"pie\":[{\"automargin\":true,\"type\":\"pie\"}]},\"layout\":{\"autotypenumbers\":\"strict\",\"colorway\":[\"#636efa\",\"#EF553B\",\"#00cc96\",\"#ab63fa\",\"#FFA15A\",\"#19d3f3\",\"#FF6692\",\"#B6E880\",\"#FF97FF\",\"#FECB52\"],\"font\":{\"color\":\"#2a3f5f\"},\"hovermode\":\"closest\",\"hoverlabel\":{\"align\":\"left\"},\"paper_bgcolor\":\"white\",\"plot_bgcolor\":\"#E5ECF6\",\"polar\":{\"bgcolor\":\"#E5ECF6\",\"angularaxis\":{\"gridcolor\":\"white\",\"linecolor\":\"white\",\"ticks\":\"\"},\"radialaxis\":{\"gridcolor\":\"white\",\"linecolor\":\"white\",\"ticks\":\"\"}},\"ternary\":{\"bgcolor\":\"#E5ECF6\",\"aaxis\":{\"gridcolor\":\"white\",\"linecolor\":\"white\",\"ticks\":\"\"},\"baxis\":{\"gridcolor\":\"white\",\"linecolor\":\"white\",\"ticks\":\"\"},\"caxis\":{\"gridcolor\":\"white\",\"linecolor\":\"white\",\"ticks\":\"\"}},\"coloraxis\":{\"colorbar\":{\"outlinewidth\":0,\"ticks\":\"\"}},\"colorscale\":{\"sequential\":[[0.0,\"#0d0887\"],[0.1111111111111111,\"#46039f\"],[0.2222222222222222,\"#7201a8\"],[0.3333333333333333,\"#9c179e\"],[0.4444444444444444,\"#bd3786\"],[0.5555555555555556,\"#d8576b\"],[0.6666666666666666,\"#ed7953\"],[0.7777777777777778,\"#fb9f3a\"],[0.8888888888888888,\"#fdca26\"],[1.0,\"#f0f921\"]],\"sequentialminus\":[[0.0,\"#0d0887\"],[0.1111111111111111,\"#46039f\"],[0.2222222222222222,\"#7201a8\"],[0.3333333333333333,\"#9c179e\"],[0.4444444444444444,\"#bd3786\"],[0.5555555555555556,\"#d8576b\"],[0.6666666666666666,\"#ed7953\"],[0.7777777777777778,\"#fb9f3a\"],[0.8888888888888888,\"#fdca26\"],[1.0,\"#f0f921\"]],\"diverging\":[[0,\"#8e0152\"],[0.1,\"#c51b7d\"],[0.2,\"#de77ae\"],[0.3,\"#f1b6da\"],[0.4,\"#fde0ef\"],[0.5,\"#f7f7f7\"],[0.6,\"#e6f5d0\"],[0.7,\"#b8e186\"],[0.8,\"#7fbc41\"],[0.9,\"#4d9221\"],[1,\"#276419\"]]},\"xaxis\":{\"gridcolor\":\"white\",\"linecolor\":\"white\",\"ticks\":\"\",\"title\":{\"standoff\":15},\"zerolinecolor\":\"white\",\"automargin\":true,\"zerolinewidth\":2},\"yaxis\":{\"gridcolor\":\"white\",\"linecolor\":\"white\",\"ticks\":\"\",\"title\":{\"standoff\":15},\"zerolinecolor\":\"white\",\"automargin\":true,\"zerolinewidth\":2},\"scene\":{\"xaxis\":{\"backgroundcolor\":\"#E5ECF6\",\"gridcolor\":\"white\",\"linecolor\":\"white\",\"showbackground\":true,\"ticks\":\"\",\"zerolinecolor\":\"white\",\"gridwidth\":2},\"yaxis\":{\"backgroundcolor\":\"#E5ECF6\",\"gridcolor\":\"white\",\"linecolor\":\"white\",\"showbackground\":true,\"ticks\":\"\",\"zerolinecolor\":\"white\",\"gridwidth\":2},\"zaxis\":{\"backgroundcolor\":\"#E5ECF6\",\"gridcolor\":\"white\",\"linecolor\":\"white\",\"showbackground\":true,\"ticks\":\"\",\"zerolinecolor\":\"white\",\"gridwidth\":2}},\"shapedefaults\":{\"line\":{\"color\":\"#2a3f5f\"}},\"annotationdefaults\":{\"arrowcolor\":\"#2a3f5f\",\"arrowhead\":0,\"arrowwidth\":1},\"geo\":{\"bgcolor\":\"white\",\"landcolor\":\"#E5ECF6\",\"subunitcolor\":\"white\",\"showland\":true,\"showlakes\":true,\"lakecolor\":\"white\"},\"title\":{\"x\":0.05},\"mapbox\":{\"style\":\"light\"}}},\"title\":{\"text\":\"Top 20 Words Before Removing Stopwords\"},\"xaxis\":{\"title\":{\"text\":\"Count\"}},\"yaxis\":{\"title\":{\"text\":\"Words\"}},\"height\":600},                        {\"responsive\": true}                    ).then(function(){\n",
       "                            \n",
       "var gd = document.getElementById('1f7cff4b-819c-4908-aa90-4564052b3325');\n",
       "var x = new MutationObserver(function (mutations, observer) {{\n",
       "        var display = window.getComputedStyle(gd).display;\n",
       "        if (!display || display === 'none') {{\n",
       "            console.log([gd, 'removed!']);\n",
       "            Plotly.purge(gd);\n",
       "            observer.disconnect();\n",
       "        }}\n",
       "}});\n",
       "\n",
       "// Listen for the removal of the full notebook cells\n",
       "var notebookContainer = gd.closest('#notebook-container');\n",
       "if (notebookContainer) {{\n",
       "    x.observe(notebookContainer, {childList: true});\n",
       "}}\n",
       "\n",
       "// Listen for the clearing of the current output cell\n",
       "var outputEl = gd.closest('.output');\n",
       "if (outputEl) {{\n",
       "    x.observe(outputEl, {childList: true});\n",
       "}}\n",
       "\n",
       "                        })                };            </script>        </div>"
      ]
     },
     "metadata": {},
     "output_type": "display_data"
    }
   ],
   "source": [
    "import plotly.graph_objects as go\n",
    "\n",
    "fig = go.Figure(data=[\n",
    "    go.Bar(\n",
    "        x=df1['count'],\n",
    "        y=df1['desc'],\n",
    "        orientation='h'\n",
    "    )\n",
    "])\n",
    "\n",
    "fig.update_layout(\n",
    "    title='Top 20 Words Before Removing Stopwords',\n",
    "    xaxis_title='Count',\n",
    "    yaxis_title='Words',\n",
    "    height=600\n",
    ")\n",
    "\n",
    "fig.show()\n"
   ]
  },
  {
   "cell_type": "code",
   "execution_count": 72,
   "metadata": {},
   "outputs": [],
   "source": [
    "def get_top_n_words(corpus,n=None):\n",
    "    vec = CountVectorizer(stop_words='english').fit(corpus)\n",
    "    bag_of_words = vec.transform(corpus)\n",
    "    sum_words = bag_of_words.sum(axis=0)\n",
    "    words_freq = [(word,sum_words[0,idx]) for word,idx in vec.vocabulary_.items()]\n",
    "    words_freq = sorted(words_freq,key=lambda x:x[1],reverse=True)\n",
    "    return words_freq[:n]"
   ]
  },
  {
   "cell_type": "code",
   "execution_count": 73,
   "metadata": {},
   "outputs": [
    {
     "data": {
      "application/vnd.plotly.v1+json": {
       "config": {
        "plotlyServerURL": "https://plot.ly"
       },
       "data": [
        {
         "orientation": "h",
         "type": "bar",
         "x": {
          "bdata": "FQInAZcAhQB7AGwAagBpAGYAYwBhAGEAXQBaAFkAVwBSAE8ATQBEAA==",
          "dtype": "i2"
         },
         "y": [
          "seattle",
          "hotel",
          "center",
          "downtown",
          "free",
          "located",
          "rooms",
          "stay",
          "place",
          "airport",
          "space",
          "market",
          "enjoy",
          "pike",
          "inn",
          "business",
          "just",
          "city",
          "room",
          "breakfast"
         ]
        }
       ],
       "layout": {
        "height": 600,
        "template": {
         "data": {
          "bar": [
           {
            "error_x": {
             "color": "#2a3f5f"
            },
            "error_y": {
             "color": "#2a3f5f"
            },
            "marker": {
             "line": {
              "color": "#E5ECF6",
              "width": 0.5
             },
             "pattern": {
              "fillmode": "overlay",
              "size": 10,
              "solidity": 0.2
             }
            },
            "type": "bar"
           }
          ],
          "barpolar": [
           {
            "marker": {
             "line": {
              "color": "#E5ECF6",
              "width": 0.5
             },
             "pattern": {
              "fillmode": "overlay",
              "size": 10,
              "solidity": 0.2
             }
            },
            "type": "barpolar"
           }
          ],
          "carpet": [
           {
            "aaxis": {
             "endlinecolor": "#2a3f5f",
             "gridcolor": "white",
             "linecolor": "white",
             "minorgridcolor": "white",
             "startlinecolor": "#2a3f5f"
            },
            "baxis": {
             "endlinecolor": "#2a3f5f",
             "gridcolor": "white",
             "linecolor": "white",
             "minorgridcolor": "white",
             "startlinecolor": "#2a3f5f"
            },
            "type": "carpet"
           }
          ],
          "choropleth": [
           {
            "colorbar": {
             "outlinewidth": 0,
             "ticks": ""
            },
            "type": "choropleth"
           }
          ],
          "contour": [
           {
            "colorbar": {
             "outlinewidth": 0,
             "ticks": ""
            },
            "colorscale": [
             [
              0,
              "#0d0887"
             ],
             [
              0.1111111111111111,
              "#46039f"
             ],
             [
              0.2222222222222222,
              "#7201a8"
             ],
             [
              0.3333333333333333,
              "#9c179e"
             ],
             [
              0.4444444444444444,
              "#bd3786"
             ],
             [
              0.5555555555555556,
              "#d8576b"
             ],
             [
              0.6666666666666666,
              "#ed7953"
             ],
             [
              0.7777777777777778,
              "#fb9f3a"
             ],
             [
              0.8888888888888888,
              "#fdca26"
             ],
             [
              1,
              "#f0f921"
             ]
            ],
            "type": "contour"
           }
          ],
          "contourcarpet": [
           {
            "colorbar": {
             "outlinewidth": 0,
             "ticks": ""
            },
            "type": "contourcarpet"
           }
          ],
          "heatmap": [
           {
            "colorbar": {
             "outlinewidth": 0,
             "ticks": ""
            },
            "colorscale": [
             [
              0,
              "#0d0887"
             ],
             [
              0.1111111111111111,
              "#46039f"
             ],
             [
              0.2222222222222222,
              "#7201a8"
             ],
             [
              0.3333333333333333,
              "#9c179e"
             ],
             [
              0.4444444444444444,
              "#bd3786"
             ],
             [
              0.5555555555555556,
              "#d8576b"
             ],
             [
              0.6666666666666666,
              "#ed7953"
             ],
             [
              0.7777777777777778,
              "#fb9f3a"
             ],
             [
              0.8888888888888888,
              "#fdca26"
             ],
             [
              1,
              "#f0f921"
             ]
            ],
            "type": "heatmap"
           }
          ],
          "histogram": [
           {
            "marker": {
             "pattern": {
              "fillmode": "overlay",
              "size": 10,
              "solidity": 0.2
             }
            },
            "type": "histogram"
           }
          ],
          "histogram2d": [
           {
            "colorbar": {
             "outlinewidth": 0,
             "ticks": ""
            },
            "colorscale": [
             [
              0,
              "#0d0887"
             ],
             [
              0.1111111111111111,
              "#46039f"
             ],
             [
              0.2222222222222222,
              "#7201a8"
             ],
             [
              0.3333333333333333,
              "#9c179e"
             ],
             [
              0.4444444444444444,
              "#bd3786"
             ],
             [
              0.5555555555555556,
              "#d8576b"
             ],
             [
              0.6666666666666666,
              "#ed7953"
             ],
             [
              0.7777777777777778,
              "#fb9f3a"
             ],
             [
              0.8888888888888888,
              "#fdca26"
             ],
             [
              1,
              "#f0f921"
             ]
            ],
            "type": "histogram2d"
           }
          ],
          "histogram2dcontour": [
           {
            "colorbar": {
             "outlinewidth": 0,
             "ticks": ""
            },
            "colorscale": [
             [
              0,
              "#0d0887"
             ],
             [
              0.1111111111111111,
              "#46039f"
             ],
             [
              0.2222222222222222,
              "#7201a8"
             ],
             [
              0.3333333333333333,
              "#9c179e"
             ],
             [
              0.4444444444444444,
              "#bd3786"
             ],
             [
              0.5555555555555556,
              "#d8576b"
             ],
             [
              0.6666666666666666,
              "#ed7953"
             ],
             [
              0.7777777777777778,
              "#fb9f3a"
             ],
             [
              0.8888888888888888,
              "#fdca26"
             ],
             [
              1,
              "#f0f921"
             ]
            ],
            "type": "histogram2dcontour"
           }
          ],
          "mesh3d": [
           {
            "colorbar": {
             "outlinewidth": 0,
             "ticks": ""
            },
            "type": "mesh3d"
           }
          ],
          "parcoords": [
           {
            "line": {
             "colorbar": {
              "outlinewidth": 0,
              "ticks": ""
             }
            },
            "type": "parcoords"
           }
          ],
          "pie": [
           {
            "automargin": true,
            "type": "pie"
           }
          ],
          "scatter": [
           {
            "fillpattern": {
             "fillmode": "overlay",
             "size": 10,
             "solidity": 0.2
            },
            "type": "scatter"
           }
          ],
          "scatter3d": [
           {
            "line": {
             "colorbar": {
              "outlinewidth": 0,
              "ticks": ""
             }
            },
            "marker": {
             "colorbar": {
              "outlinewidth": 0,
              "ticks": ""
             }
            },
            "type": "scatter3d"
           }
          ],
          "scattercarpet": [
           {
            "marker": {
             "colorbar": {
              "outlinewidth": 0,
              "ticks": ""
             }
            },
            "type": "scattercarpet"
           }
          ],
          "scattergeo": [
           {
            "marker": {
             "colorbar": {
              "outlinewidth": 0,
              "ticks": ""
             }
            },
            "type": "scattergeo"
           }
          ],
          "scattergl": [
           {
            "marker": {
             "colorbar": {
              "outlinewidth": 0,
              "ticks": ""
             }
            },
            "type": "scattergl"
           }
          ],
          "scattermap": [
           {
            "marker": {
             "colorbar": {
              "outlinewidth": 0,
              "ticks": ""
             }
            },
            "type": "scattermap"
           }
          ],
          "scattermapbox": [
           {
            "marker": {
             "colorbar": {
              "outlinewidth": 0,
              "ticks": ""
             }
            },
            "type": "scattermapbox"
           }
          ],
          "scatterpolar": [
           {
            "marker": {
             "colorbar": {
              "outlinewidth": 0,
              "ticks": ""
             }
            },
            "type": "scatterpolar"
           }
          ],
          "scatterpolargl": [
           {
            "marker": {
             "colorbar": {
              "outlinewidth": 0,
              "ticks": ""
             }
            },
            "type": "scatterpolargl"
           }
          ],
          "scatterternary": [
           {
            "marker": {
             "colorbar": {
              "outlinewidth": 0,
              "ticks": ""
             }
            },
            "type": "scatterternary"
           }
          ],
          "surface": [
           {
            "colorbar": {
             "outlinewidth": 0,
             "ticks": ""
            },
            "colorscale": [
             [
              0,
              "#0d0887"
             ],
             [
              0.1111111111111111,
              "#46039f"
             ],
             [
              0.2222222222222222,
              "#7201a8"
             ],
             [
              0.3333333333333333,
              "#9c179e"
             ],
             [
              0.4444444444444444,
              "#bd3786"
             ],
             [
              0.5555555555555556,
              "#d8576b"
             ],
             [
              0.6666666666666666,
              "#ed7953"
             ],
             [
              0.7777777777777778,
              "#fb9f3a"
             ],
             [
              0.8888888888888888,
              "#fdca26"
             ],
             [
              1,
              "#f0f921"
             ]
            ],
            "type": "surface"
           }
          ],
          "table": [
           {
            "cells": {
             "fill": {
              "color": "#EBF0F8"
             },
             "line": {
              "color": "white"
             }
            },
            "header": {
             "fill": {
              "color": "#C8D4E3"
             },
             "line": {
              "color": "white"
             }
            },
            "type": "table"
           }
          ]
         },
         "layout": {
          "annotationdefaults": {
           "arrowcolor": "#2a3f5f",
           "arrowhead": 0,
           "arrowwidth": 1
          },
          "autotypenumbers": "strict",
          "coloraxis": {
           "colorbar": {
            "outlinewidth": 0,
            "ticks": ""
           }
          },
          "colorscale": {
           "diverging": [
            [
             0,
             "#8e0152"
            ],
            [
             0.1,
             "#c51b7d"
            ],
            [
             0.2,
             "#de77ae"
            ],
            [
             0.3,
             "#f1b6da"
            ],
            [
             0.4,
             "#fde0ef"
            ],
            [
             0.5,
             "#f7f7f7"
            ],
            [
             0.6,
             "#e6f5d0"
            ],
            [
             0.7,
             "#b8e186"
            ],
            [
             0.8,
             "#7fbc41"
            ],
            [
             0.9,
             "#4d9221"
            ],
            [
             1,
             "#276419"
            ]
           ],
           "sequential": [
            [
             0,
             "#0d0887"
            ],
            [
             0.1111111111111111,
             "#46039f"
            ],
            [
             0.2222222222222222,
             "#7201a8"
            ],
            [
             0.3333333333333333,
             "#9c179e"
            ],
            [
             0.4444444444444444,
             "#bd3786"
            ],
            [
             0.5555555555555556,
             "#d8576b"
            ],
            [
             0.6666666666666666,
             "#ed7953"
            ],
            [
             0.7777777777777778,
             "#fb9f3a"
            ],
            [
             0.8888888888888888,
             "#fdca26"
            ],
            [
             1,
             "#f0f921"
            ]
           ],
           "sequentialminus": [
            [
             0,
             "#0d0887"
            ],
            [
             0.1111111111111111,
             "#46039f"
            ],
            [
             0.2222222222222222,
             "#7201a8"
            ],
            [
             0.3333333333333333,
             "#9c179e"
            ],
            [
             0.4444444444444444,
             "#bd3786"
            ],
            [
             0.5555555555555556,
             "#d8576b"
            ],
            [
             0.6666666666666666,
             "#ed7953"
            ],
            [
             0.7777777777777778,
             "#fb9f3a"
            ],
            [
             0.8888888888888888,
             "#fdca26"
            ],
            [
             1,
             "#f0f921"
            ]
           ]
          },
          "colorway": [
           "#636efa",
           "#EF553B",
           "#00cc96",
           "#ab63fa",
           "#FFA15A",
           "#19d3f3",
           "#FF6692",
           "#B6E880",
           "#FF97FF",
           "#FECB52"
          ],
          "font": {
           "color": "#2a3f5f"
          },
          "geo": {
           "bgcolor": "white",
           "lakecolor": "white",
           "landcolor": "#E5ECF6",
           "showlakes": true,
           "showland": true,
           "subunitcolor": "white"
          },
          "hoverlabel": {
           "align": "left"
          },
          "hovermode": "closest",
          "mapbox": {
           "style": "light"
          },
          "paper_bgcolor": "white",
          "plot_bgcolor": "#E5ECF6",
          "polar": {
           "angularaxis": {
            "gridcolor": "white",
            "linecolor": "white",
            "ticks": ""
           },
           "bgcolor": "#E5ECF6",
           "radialaxis": {
            "gridcolor": "white",
            "linecolor": "white",
            "ticks": ""
           }
          },
          "scene": {
           "xaxis": {
            "backgroundcolor": "#E5ECF6",
            "gridcolor": "white",
            "gridwidth": 2,
            "linecolor": "white",
            "showbackground": true,
            "ticks": "",
            "zerolinecolor": "white"
           },
           "yaxis": {
            "backgroundcolor": "#E5ECF6",
            "gridcolor": "white",
            "gridwidth": 2,
            "linecolor": "white",
            "showbackground": true,
            "ticks": "",
            "zerolinecolor": "white"
           },
           "zaxis": {
            "backgroundcolor": "#E5ECF6",
            "gridcolor": "white",
            "gridwidth": 2,
            "linecolor": "white",
            "showbackground": true,
            "ticks": "",
            "zerolinecolor": "white"
           }
          },
          "shapedefaults": {
           "line": {
            "color": "#2a3f5f"
           }
          },
          "ternary": {
           "aaxis": {
            "gridcolor": "white",
            "linecolor": "white",
            "ticks": ""
           },
           "baxis": {
            "gridcolor": "white",
            "linecolor": "white",
            "ticks": ""
           },
           "bgcolor": "#E5ECF6",
           "caxis": {
            "gridcolor": "white",
            "linecolor": "white",
            "ticks": ""
           }
          },
          "title": {
           "x": 0.05
          },
          "xaxis": {
           "automargin": true,
           "gridcolor": "white",
           "linecolor": "white",
           "ticks": "",
           "title": {
            "standoff": 15
           },
           "zerolinecolor": "white",
           "zerolinewidth": 2
          },
          "yaxis": {
           "automargin": true,
           "gridcolor": "white",
           "linecolor": "white",
           "ticks": "",
           "title": {
            "standoff": 15
           },
           "zerolinecolor": "white",
           "zerolinewidth": 2
          }
         }
        },
        "title": {
         "text": "Top 20 Words Before Removing Stopwords"
        },
        "xaxis": {
         "title": {
          "text": "Count"
         }
        },
        "yaxis": {
         "title": {
          "text": "Words"
         }
        }
       }
      },
      "text/html": [
       "<div>            <script src=\"https://cdnjs.cloudflare.com/ajax/libs/mathjax/2.7.5/MathJax.js?config=TeX-AMS-MML_SVG\"></script><script type=\"text/javascript\">if (window.MathJax && window.MathJax.Hub && window.MathJax.Hub.Config) {window.MathJax.Hub.Config({SVG: {font: \"STIX-Web\"}});}</script>                <script type=\"text/javascript\">window.PlotlyConfig = {MathJaxConfig: 'local'};</script>\n",
       "        <script charset=\"utf-8\" src=\"https://cdn.plot.ly/plotly-3.0.0.min.js\"></script>                <div id=\"6e06b456-f7f4-4e34-a2d6-34a74a846351\" class=\"plotly-graph-div\" style=\"height:600px; width:100%;\"></div>            <script type=\"text/javascript\">                window.PLOTLYENV=window.PLOTLYENV || {};                                if (document.getElementById(\"6e06b456-f7f4-4e34-a2d6-34a74a846351\")) {                    Plotly.newPlot(                        \"6e06b456-f7f4-4e34-a2d6-34a74a846351\",                        [{\"orientation\":\"h\",\"x\":{\"dtype\":\"i2\",\"bdata\":\"FQInAZcAhQB7AGwAagBpAGYAYwBhAGEAXQBaAFkAVwBSAE8ATQBEAA==\"},\"y\":[\"seattle\",\"hotel\",\"center\",\"downtown\",\"free\",\"located\",\"rooms\",\"stay\",\"place\",\"airport\",\"space\",\"market\",\"enjoy\",\"pike\",\"inn\",\"business\",\"just\",\"city\",\"room\",\"breakfast\"],\"type\":\"bar\"}],                        {\"template\":{\"data\":{\"histogram2dcontour\":[{\"type\":\"histogram2dcontour\",\"colorbar\":{\"outlinewidth\":0,\"ticks\":\"\"},\"colorscale\":[[0.0,\"#0d0887\"],[0.1111111111111111,\"#46039f\"],[0.2222222222222222,\"#7201a8\"],[0.3333333333333333,\"#9c179e\"],[0.4444444444444444,\"#bd3786\"],[0.5555555555555556,\"#d8576b\"],[0.6666666666666666,\"#ed7953\"],[0.7777777777777778,\"#fb9f3a\"],[0.8888888888888888,\"#fdca26\"],[1.0,\"#f0f921\"]]}],\"choropleth\":[{\"type\":\"choropleth\",\"colorbar\":{\"outlinewidth\":0,\"ticks\":\"\"}}],\"histogram2d\":[{\"type\":\"histogram2d\",\"colorbar\":{\"outlinewidth\":0,\"ticks\":\"\"},\"colorscale\":[[0.0,\"#0d0887\"],[0.1111111111111111,\"#46039f\"],[0.2222222222222222,\"#7201a8\"],[0.3333333333333333,\"#9c179e\"],[0.4444444444444444,\"#bd3786\"],[0.5555555555555556,\"#d8576b\"],[0.6666666666666666,\"#ed7953\"],[0.7777777777777778,\"#fb9f3a\"],[0.8888888888888888,\"#fdca26\"],[1.0,\"#f0f921\"]]}],\"heatmap\":[{\"type\":\"heatmap\",\"colorbar\":{\"outlinewidth\":0,\"ticks\":\"\"},\"colorscale\":[[0.0,\"#0d0887\"],[0.1111111111111111,\"#46039f\"],[0.2222222222222222,\"#7201a8\"],[0.3333333333333333,\"#9c179e\"],[0.4444444444444444,\"#bd3786\"],[0.5555555555555556,\"#d8576b\"],[0.6666666666666666,\"#ed7953\"],[0.7777777777777778,\"#fb9f3a\"],[0.8888888888888888,\"#fdca26\"],[1.0,\"#f0f921\"]]}],\"contourcarpet\":[{\"type\":\"contourcarpet\",\"colorbar\":{\"outlinewidth\":0,\"ticks\":\"\"}}],\"contour\":[{\"type\":\"contour\",\"colorbar\":{\"outlinewidth\":0,\"ticks\":\"\"},\"colorscale\":[[0.0,\"#0d0887\"],[0.1111111111111111,\"#46039f\"],[0.2222222222222222,\"#7201a8\"],[0.3333333333333333,\"#9c179e\"],[0.4444444444444444,\"#bd3786\"],[0.5555555555555556,\"#d8576b\"],[0.6666666666666666,\"#ed7953\"],[0.7777777777777778,\"#fb9f3a\"],[0.8888888888888888,\"#fdca26\"],[1.0,\"#f0f921\"]]}],\"surface\":[{\"type\":\"surface\",\"colorbar\":{\"outlinewidth\":0,\"ticks\":\"\"},\"colorscale\":[[0.0,\"#0d0887\"],[0.1111111111111111,\"#46039f\"],[0.2222222222222222,\"#7201a8\"],[0.3333333333333333,\"#9c179e\"],[0.4444444444444444,\"#bd3786\"],[0.5555555555555556,\"#d8576b\"],[0.6666666666666666,\"#ed7953\"],[0.7777777777777778,\"#fb9f3a\"],[0.8888888888888888,\"#fdca26\"],[1.0,\"#f0f921\"]]}],\"mesh3d\":[{\"type\":\"mesh3d\",\"colorbar\":{\"outlinewidth\":0,\"ticks\":\"\"}}],\"scatter\":[{\"fillpattern\":{\"fillmode\":\"overlay\",\"size\":10,\"solidity\":0.2},\"type\":\"scatter\"}],\"parcoords\":[{\"type\":\"parcoords\",\"line\":{\"colorbar\":{\"outlinewidth\":0,\"ticks\":\"\"}}}],\"scatterpolargl\":[{\"type\":\"scatterpolargl\",\"marker\":{\"colorbar\":{\"outlinewidth\":0,\"ticks\":\"\"}}}],\"bar\":[{\"error_x\":{\"color\":\"#2a3f5f\"},\"error_y\":{\"color\":\"#2a3f5f\"},\"marker\":{\"line\":{\"color\":\"#E5ECF6\",\"width\":0.5},\"pattern\":{\"fillmode\":\"overlay\",\"size\":10,\"solidity\":0.2}},\"type\":\"bar\"}],\"scattergeo\":[{\"type\":\"scattergeo\",\"marker\":{\"colorbar\":{\"outlinewidth\":0,\"ticks\":\"\"}}}],\"scatterpolar\":[{\"type\":\"scatterpolar\",\"marker\":{\"colorbar\":{\"outlinewidth\":0,\"ticks\":\"\"}}}],\"histogram\":[{\"marker\":{\"pattern\":{\"fillmode\":\"overlay\",\"size\":10,\"solidity\":0.2}},\"type\":\"histogram\"}],\"scattergl\":[{\"type\":\"scattergl\",\"marker\":{\"colorbar\":{\"outlinewidth\":0,\"ticks\":\"\"}}}],\"scatter3d\":[{\"type\":\"scatter3d\",\"line\":{\"colorbar\":{\"outlinewidth\":0,\"ticks\":\"\"}},\"marker\":{\"colorbar\":{\"outlinewidth\":0,\"ticks\":\"\"}}}],\"scattermap\":[{\"type\":\"scattermap\",\"marker\":{\"colorbar\":{\"outlinewidth\":0,\"ticks\":\"\"}}}],\"scattermapbox\":[{\"type\":\"scattermapbox\",\"marker\":{\"colorbar\":{\"outlinewidth\":0,\"ticks\":\"\"}}}],\"scatterternary\":[{\"type\":\"scatterternary\",\"marker\":{\"colorbar\":{\"outlinewidth\":0,\"ticks\":\"\"}}}],\"scattercarpet\":[{\"type\":\"scattercarpet\",\"marker\":{\"colorbar\":{\"outlinewidth\":0,\"ticks\":\"\"}}}],\"carpet\":[{\"aaxis\":{\"endlinecolor\":\"#2a3f5f\",\"gridcolor\":\"white\",\"linecolor\":\"white\",\"minorgridcolor\":\"white\",\"startlinecolor\":\"#2a3f5f\"},\"baxis\":{\"endlinecolor\":\"#2a3f5f\",\"gridcolor\":\"white\",\"linecolor\":\"white\",\"minorgridcolor\":\"white\",\"startlinecolor\":\"#2a3f5f\"},\"type\":\"carpet\"}],\"table\":[{\"cells\":{\"fill\":{\"color\":\"#EBF0F8\"},\"line\":{\"color\":\"white\"}},\"header\":{\"fill\":{\"color\":\"#C8D4E3\"},\"line\":{\"color\":\"white\"}},\"type\":\"table\"}],\"barpolar\":[{\"marker\":{\"line\":{\"color\":\"#E5ECF6\",\"width\":0.5},\"pattern\":{\"fillmode\":\"overlay\",\"size\":10,\"solidity\":0.2}},\"type\":\"barpolar\"}],\"pie\":[{\"automargin\":true,\"type\":\"pie\"}]},\"layout\":{\"autotypenumbers\":\"strict\",\"colorway\":[\"#636efa\",\"#EF553B\",\"#00cc96\",\"#ab63fa\",\"#FFA15A\",\"#19d3f3\",\"#FF6692\",\"#B6E880\",\"#FF97FF\",\"#FECB52\"],\"font\":{\"color\":\"#2a3f5f\"},\"hovermode\":\"closest\",\"hoverlabel\":{\"align\":\"left\"},\"paper_bgcolor\":\"white\",\"plot_bgcolor\":\"#E5ECF6\",\"polar\":{\"bgcolor\":\"#E5ECF6\",\"angularaxis\":{\"gridcolor\":\"white\",\"linecolor\":\"white\",\"ticks\":\"\"},\"radialaxis\":{\"gridcolor\":\"white\",\"linecolor\":\"white\",\"ticks\":\"\"}},\"ternary\":{\"bgcolor\":\"#E5ECF6\",\"aaxis\":{\"gridcolor\":\"white\",\"linecolor\":\"white\",\"ticks\":\"\"},\"baxis\":{\"gridcolor\":\"white\",\"linecolor\":\"white\",\"ticks\":\"\"},\"caxis\":{\"gridcolor\":\"white\",\"linecolor\":\"white\",\"ticks\":\"\"}},\"coloraxis\":{\"colorbar\":{\"outlinewidth\":0,\"ticks\":\"\"}},\"colorscale\":{\"sequential\":[[0.0,\"#0d0887\"],[0.1111111111111111,\"#46039f\"],[0.2222222222222222,\"#7201a8\"],[0.3333333333333333,\"#9c179e\"],[0.4444444444444444,\"#bd3786\"],[0.5555555555555556,\"#d8576b\"],[0.6666666666666666,\"#ed7953\"],[0.7777777777777778,\"#fb9f3a\"],[0.8888888888888888,\"#fdca26\"],[1.0,\"#f0f921\"]],\"sequentialminus\":[[0.0,\"#0d0887\"],[0.1111111111111111,\"#46039f\"],[0.2222222222222222,\"#7201a8\"],[0.3333333333333333,\"#9c179e\"],[0.4444444444444444,\"#bd3786\"],[0.5555555555555556,\"#d8576b\"],[0.6666666666666666,\"#ed7953\"],[0.7777777777777778,\"#fb9f3a\"],[0.8888888888888888,\"#fdca26\"],[1.0,\"#f0f921\"]],\"diverging\":[[0,\"#8e0152\"],[0.1,\"#c51b7d\"],[0.2,\"#de77ae\"],[0.3,\"#f1b6da\"],[0.4,\"#fde0ef\"],[0.5,\"#f7f7f7\"],[0.6,\"#e6f5d0\"],[0.7,\"#b8e186\"],[0.8,\"#7fbc41\"],[0.9,\"#4d9221\"],[1,\"#276419\"]]},\"xaxis\":{\"gridcolor\":\"white\",\"linecolor\":\"white\",\"ticks\":\"\",\"title\":{\"standoff\":15},\"zerolinecolor\":\"white\",\"automargin\":true,\"zerolinewidth\":2},\"yaxis\":{\"gridcolor\":\"white\",\"linecolor\":\"white\",\"ticks\":\"\",\"title\":{\"standoff\":15},\"zerolinecolor\":\"white\",\"automargin\":true,\"zerolinewidth\":2},\"scene\":{\"xaxis\":{\"backgroundcolor\":\"#E5ECF6\",\"gridcolor\":\"white\",\"linecolor\":\"white\",\"showbackground\":true,\"ticks\":\"\",\"zerolinecolor\":\"white\",\"gridwidth\":2},\"yaxis\":{\"backgroundcolor\":\"#E5ECF6\",\"gridcolor\":\"white\",\"linecolor\":\"white\",\"showbackground\":true,\"ticks\":\"\",\"zerolinecolor\":\"white\",\"gridwidth\":2},\"zaxis\":{\"backgroundcolor\":\"#E5ECF6\",\"gridcolor\":\"white\",\"linecolor\":\"white\",\"showbackground\":true,\"ticks\":\"\",\"zerolinecolor\":\"white\",\"gridwidth\":2}},\"shapedefaults\":{\"line\":{\"color\":\"#2a3f5f\"}},\"annotationdefaults\":{\"arrowcolor\":\"#2a3f5f\",\"arrowhead\":0,\"arrowwidth\":1},\"geo\":{\"bgcolor\":\"white\",\"landcolor\":\"#E5ECF6\",\"subunitcolor\":\"white\",\"showland\":true,\"showlakes\":true,\"lakecolor\":\"white\"},\"title\":{\"x\":0.05},\"mapbox\":{\"style\":\"light\"}}},\"title\":{\"text\":\"Top 20 Words Before Removing Stopwords\"},\"xaxis\":{\"title\":{\"text\":\"Count\"}},\"yaxis\":{\"title\":{\"text\":\"Words\"}},\"height\":600},                        {\"responsive\": true}                    ).then(function(){\n",
       "                            \n",
       "var gd = document.getElementById('6e06b456-f7f4-4e34-a2d6-34a74a846351');\n",
       "var x = new MutationObserver(function (mutations, observer) {{\n",
       "        var display = window.getComputedStyle(gd).display;\n",
       "        if (!display || display === 'none') {{\n",
       "            console.log([gd, 'removed!']);\n",
       "            Plotly.purge(gd);\n",
       "            observer.disconnect();\n",
       "        }}\n",
       "}});\n",
       "\n",
       "// Listen for the removal of the full notebook cells\n",
       "var notebookContainer = gd.closest('#notebook-container');\n",
       "if (notebookContainer) {{\n",
       "    x.observe(notebookContainer, {childList: true});\n",
       "}}\n",
       "\n",
       "// Listen for the clearing of the current output cell\n",
       "var outputEl = gd.closest('.output');\n",
       "if (outputEl) {{\n",
       "    x.observe(outputEl, {childList: true});\n",
       "}}\n",
       "\n",
       "                        })                };            </script>        </div>"
      ]
     },
     "metadata": {},
     "output_type": "display_data"
    }
   ],
   "source": [
    "common_words=get_top_n_words(df['desc'],20)\n",
    "df2 = pd.DataFrame(common_words,columns=['desc','count'])\n",
    "import plotly.graph_objects as go\n",
    "\n",
    "fig = go.Figure(data=[\n",
    "    go.Bar(\n",
    "        x=df2['count'],\n",
    "        y=df2['desc'],\n",
    "        orientation='h'\n",
    "    )\n",
    "])\n",
    "\n",
    "fig.update_layout(\n",
    "    title='Top 20 Words Before Removing Stopwords',\n",
    "    xaxis_title='Count',\n",
    "    yaxis_title='Words',\n",
    "    height=600\n",
    ")\n",
    "\n",
    "fig.show()"
   ]
  },
  {
   "cell_type": "code",
   "execution_count": 74,
   "metadata": {},
   "outputs": [],
   "source": [
    "def get_top_n_words(corpus,n=None):\n",
    "    vec = CountVectorizer(stop_words='english',ngram_range=(2,2)).fit(corpus)\n",
    "    bag_of_words = vec.transform(corpus)\n",
    "    sum_words = bag_of_words.sum(axis=0)\n",
    "    words_freq = [(word,sum_words[0,idx]) for word,idx in vec.vocabulary_.items()]\n",
    "    words_freq = sorted(words_freq,key=lambda x:x[1],reverse=True)\n",
    "    return words_freq[:n]"
   ]
  },
  {
   "cell_type": "code",
   "execution_count": 75,
   "metadata": {},
   "outputs": [
    {
     "data": {
      "application/vnd.plotly.v1+json": {
       "config": {
        "plotlyServerURL": "https://plot.ly"
       },
       "data": [
        {
         "orientation": "h",
         "type": "bar",
         "x": {
          "bdata": "VlVQRCUiISEgHh4cGxsaGRkYGBU=",
          "dtype": "i1"
         },
         "y": [
          "pike place",
          "place market",
          "downtown seattle",
          "space needle",
          "wi fi",
          "guest rooms",
          "pacific northwest",
          "seattle hotel",
          "fitness center",
          "lake union",
          "hotel seattle",
          "24 hour",
          "business center",
          "international airport",
          "seattle airport",
          "high speed",
          "seattle tacoma",
          "seattle center",
          "university washington",
          "convention center"
         ]
        }
       ],
       "layout": {
        "height": 600,
        "template": {
         "data": {
          "bar": [
           {
            "error_x": {
             "color": "#2a3f5f"
            },
            "error_y": {
             "color": "#2a3f5f"
            },
            "marker": {
             "line": {
              "color": "#E5ECF6",
              "width": 0.5
             },
             "pattern": {
              "fillmode": "overlay",
              "size": 10,
              "solidity": 0.2
             }
            },
            "type": "bar"
           }
          ],
          "barpolar": [
           {
            "marker": {
             "line": {
              "color": "#E5ECF6",
              "width": 0.5
             },
             "pattern": {
              "fillmode": "overlay",
              "size": 10,
              "solidity": 0.2
             }
            },
            "type": "barpolar"
           }
          ],
          "carpet": [
           {
            "aaxis": {
             "endlinecolor": "#2a3f5f",
             "gridcolor": "white",
             "linecolor": "white",
             "minorgridcolor": "white",
             "startlinecolor": "#2a3f5f"
            },
            "baxis": {
             "endlinecolor": "#2a3f5f",
             "gridcolor": "white",
             "linecolor": "white",
             "minorgridcolor": "white",
             "startlinecolor": "#2a3f5f"
            },
            "type": "carpet"
           }
          ],
          "choropleth": [
           {
            "colorbar": {
             "outlinewidth": 0,
             "ticks": ""
            },
            "type": "choropleth"
           }
          ],
          "contour": [
           {
            "colorbar": {
             "outlinewidth": 0,
             "ticks": ""
            },
            "colorscale": [
             [
              0,
              "#0d0887"
             ],
             [
              0.1111111111111111,
              "#46039f"
             ],
             [
              0.2222222222222222,
              "#7201a8"
             ],
             [
              0.3333333333333333,
              "#9c179e"
             ],
             [
              0.4444444444444444,
              "#bd3786"
             ],
             [
              0.5555555555555556,
              "#d8576b"
             ],
             [
              0.6666666666666666,
              "#ed7953"
             ],
             [
              0.7777777777777778,
              "#fb9f3a"
             ],
             [
              0.8888888888888888,
              "#fdca26"
             ],
             [
              1,
              "#f0f921"
             ]
            ],
            "type": "contour"
           }
          ],
          "contourcarpet": [
           {
            "colorbar": {
             "outlinewidth": 0,
             "ticks": ""
            },
            "type": "contourcarpet"
           }
          ],
          "heatmap": [
           {
            "colorbar": {
             "outlinewidth": 0,
             "ticks": ""
            },
            "colorscale": [
             [
              0,
              "#0d0887"
             ],
             [
              0.1111111111111111,
              "#46039f"
             ],
             [
              0.2222222222222222,
              "#7201a8"
             ],
             [
              0.3333333333333333,
              "#9c179e"
             ],
             [
              0.4444444444444444,
              "#bd3786"
             ],
             [
              0.5555555555555556,
              "#d8576b"
             ],
             [
              0.6666666666666666,
              "#ed7953"
             ],
             [
              0.7777777777777778,
              "#fb9f3a"
             ],
             [
              0.8888888888888888,
              "#fdca26"
             ],
             [
              1,
              "#f0f921"
             ]
            ],
            "type": "heatmap"
           }
          ],
          "histogram": [
           {
            "marker": {
             "pattern": {
              "fillmode": "overlay",
              "size": 10,
              "solidity": 0.2
             }
            },
            "type": "histogram"
           }
          ],
          "histogram2d": [
           {
            "colorbar": {
             "outlinewidth": 0,
             "ticks": ""
            },
            "colorscale": [
             [
              0,
              "#0d0887"
             ],
             [
              0.1111111111111111,
              "#46039f"
             ],
             [
              0.2222222222222222,
              "#7201a8"
             ],
             [
              0.3333333333333333,
              "#9c179e"
             ],
             [
              0.4444444444444444,
              "#bd3786"
             ],
             [
              0.5555555555555556,
              "#d8576b"
             ],
             [
              0.6666666666666666,
              "#ed7953"
             ],
             [
              0.7777777777777778,
              "#fb9f3a"
             ],
             [
              0.8888888888888888,
              "#fdca26"
             ],
             [
              1,
              "#f0f921"
             ]
            ],
            "type": "histogram2d"
           }
          ],
          "histogram2dcontour": [
           {
            "colorbar": {
             "outlinewidth": 0,
             "ticks": ""
            },
            "colorscale": [
             [
              0,
              "#0d0887"
             ],
             [
              0.1111111111111111,
              "#46039f"
             ],
             [
              0.2222222222222222,
              "#7201a8"
             ],
             [
              0.3333333333333333,
              "#9c179e"
             ],
             [
              0.4444444444444444,
              "#bd3786"
             ],
             [
              0.5555555555555556,
              "#d8576b"
             ],
             [
              0.6666666666666666,
              "#ed7953"
             ],
             [
              0.7777777777777778,
              "#fb9f3a"
             ],
             [
              0.8888888888888888,
              "#fdca26"
             ],
             [
              1,
              "#f0f921"
             ]
            ],
            "type": "histogram2dcontour"
           }
          ],
          "mesh3d": [
           {
            "colorbar": {
             "outlinewidth": 0,
             "ticks": ""
            },
            "type": "mesh3d"
           }
          ],
          "parcoords": [
           {
            "line": {
             "colorbar": {
              "outlinewidth": 0,
              "ticks": ""
             }
            },
            "type": "parcoords"
           }
          ],
          "pie": [
           {
            "automargin": true,
            "type": "pie"
           }
          ],
          "scatter": [
           {
            "fillpattern": {
             "fillmode": "overlay",
             "size": 10,
             "solidity": 0.2
            },
            "type": "scatter"
           }
          ],
          "scatter3d": [
           {
            "line": {
             "colorbar": {
              "outlinewidth": 0,
              "ticks": ""
             }
            },
            "marker": {
             "colorbar": {
              "outlinewidth": 0,
              "ticks": ""
             }
            },
            "type": "scatter3d"
           }
          ],
          "scattercarpet": [
           {
            "marker": {
             "colorbar": {
              "outlinewidth": 0,
              "ticks": ""
             }
            },
            "type": "scattercarpet"
           }
          ],
          "scattergeo": [
           {
            "marker": {
             "colorbar": {
              "outlinewidth": 0,
              "ticks": ""
             }
            },
            "type": "scattergeo"
           }
          ],
          "scattergl": [
           {
            "marker": {
             "colorbar": {
              "outlinewidth": 0,
              "ticks": ""
             }
            },
            "type": "scattergl"
           }
          ],
          "scattermap": [
           {
            "marker": {
             "colorbar": {
              "outlinewidth": 0,
              "ticks": ""
             }
            },
            "type": "scattermap"
           }
          ],
          "scattermapbox": [
           {
            "marker": {
             "colorbar": {
              "outlinewidth": 0,
              "ticks": ""
             }
            },
            "type": "scattermapbox"
           }
          ],
          "scatterpolar": [
           {
            "marker": {
             "colorbar": {
              "outlinewidth": 0,
              "ticks": ""
             }
            },
            "type": "scatterpolar"
           }
          ],
          "scatterpolargl": [
           {
            "marker": {
             "colorbar": {
              "outlinewidth": 0,
              "ticks": ""
             }
            },
            "type": "scatterpolargl"
           }
          ],
          "scatterternary": [
           {
            "marker": {
             "colorbar": {
              "outlinewidth": 0,
              "ticks": ""
             }
            },
            "type": "scatterternary"
           }
          ],
          "surface": [
           {
            "colorbar": {
             "outlinewidth": 0,
             "ticks": ""
            },
            "colorscale": [
             [
              0,
              "#0d0887"
             ],
             [
              0.1111111111111111,
              "#46039f"
             ],
             [
              0.2222222222222222,
              "#7201a8"
             ],
             [
              0.3333333333333333,
              "#9c179e"
             ],
             [
              0.4444444444444444,
              "#bd3786"
             ],
             [
              0.5555555555555556,
              "#d8576b"
             ],
             [
              0.6666666666666666,
              "#ed7953"
             ],
             [
              0.7777777777777778,
              "#fb9f3a"
             ],
             [
              0.8888888888888888,
              "#fdca26"
             ],
             [
              1,
              "#f0f921"
             ]
            ],
            "type": "surface"
           }
          ],
          "table": [
           {
            "cells": {
             "fill": {
              "color": "#EBF0F8"
             },
             "line": {
              "color": "white"
             }
            },
            "header": {
             "fill": {
              "color": "#C8D4E3"
             },
             "line": {
              "color": "white"
             }
            },
            "type": "table"
           }
          ]
         },
         "layout": {
          "annotationdefaults": {
           "arrowcolor": "#2a3f5f",
           "arrowhead": 0,
           "arrowwidth": 1
          },
          "autotypenumbers": "strict",
          "coloraxis": {
           "colorbar": {
            "outlinewidth": 0,
            "ticks": ""
           }
          },
          "colorscale": {
           "diverging": [
            [
             0,
             "#8e0152"
            ],
            [
             0.1,
             "#c51b7d"
            ],
            [
             0.2,
             "#de77ae"
            ],
            [
             0.3,
             "#f1b6da"
            ],
            [
             0.4,
             "#fde0ef"
            ],
            [
             0.5,
             "#f7f7f7"
            ],
            [
             0.6,
             "#e6f5d0"
            ],
            [
             0.7,
             "#b8e186"
            ],
            [
             0.8,
             "#7fbc41"
            ],
            [
             0.9,
             "#4d9221"
            ],
            [
             1,
             "#276419"
            ]
           ],
           "sequential": [
            [
             0,
             "#0d0887"
            ],
            [
             0.1111111111111111,
             "#46039f"
            ],
            [
             0.2222222222222222,
             "#7201a8"
            ],
            [
             0.3333333333333333,
             "#9c179e"
            ],
            [
             0.4444444444444444,
             "#bd3786"
            ],
            [
             0.5555555555555556,
             "#d8576b"
            ],
            [
             0.6666666666666666,
             "#ed7953"
            ],
            [
             0.7777777777777778,
             "#fb9f3a"
            ],
            [
             0.8888888888888888,
             "#fdca26"
            ],
            [
             1,
             "#f0f921"
            ]
           ],
           "sequentialminus": [
            [
             0,
             "#0d0887"
            ],
            [
             0.1111111111111111,
             "#46039f"
            ],
            [
             0.2222222222222222,
             "#7201a8"
            ],
            [
             0.3333333333333333,
             "#9c179e"
            ],
            [
             0.4444444444444444,
             "#bd3786"
            ],
            [
             0.5555555555555556,
             "#d8576b"
            ],
            [
             0.6666666666666666,
             "#ed7953"
            ],
            [
             0.7777777777777778,
             "#fb9f3a"
            ],
            [
             0.8888888888888888,
             "#fdca26"
            ],
            [
             1,
             "#f0f921"
            ]
           ]
          },
          "colorway": [
           "#636efa",
           "#EF553B",
           "#00cc96",
           "#ab63fa",
           "#FFA15A",
           "#19d3f3",
           "#FF6692",
           "#B6E880",
           "#FF97FF",
           "#FECB52"
          ],
          "font": {
           "color": "#2a3f5f"
          },
          "geo": {
           "bgcolor": "white",
           "lakecolor": "white",
           "landcolor": "#E5ECF6",
           "showlakes": true,
           "showland": true,
           "subunitcolor": "white"
          },
          "hoverlabel": {
           "align": "left"
          },
          "hovermode": "closest",
          "mapbox": {
           "style": "light"
          },
          "paper_bgcolor": "white",
          "plot_bgcolor": "#E5ECF6",
          "polar": {
           "angularaxis": {
            "gridcolor": "white",
            "linecolor": "white",
            "ticks": ""
           },
           "bgcolor": "#E5ECF6",
           "radialaxis": {
            "gridcolor": "white",
            "linecolor": "white",
            "ticks": ""
           }
          },
          "scene": {
           "xaxis": {
            "backgroundcolor": "#E5ECF6",
            "gridcolor": "white",
            "gridwidth": 2,
            "linecolor": "white",
            "showbackground": true,
            "ticks": "",
            "zerolinecolor": "white"
           },
           "yaxis": {
            "backgroundcolor": "#E5ECF6",
            "gridcolor": "white",
            "gridwidth": 2,
            "linecolor": "white",
            "showbackground": true,
            "ticks": "",
            "zerolinecolor": "white"
           },
           "zaxis": {
            "backgroundcolor": "#E5ECF6",
            "gridcolor": "white",
            "gridwidth": 2,
            "linecolor": "white",
            "showbackground": true,
            "ticks": "",
            "zerolinecolor": "white"
           }
          },
          "shapedefaults": {
           "line": {
            "color": "#2a3f5f"
           }
          },
          "ternary": {
           "aaxis": {
            "gridcolor": "white",
            "linecolor": "white",
            "ticks": ""
           },
           "baxis": {
            "gridcolor": "white",
            "linecolor": "white",
            "ticks": ""
           },
           "bgcolor": "#E5ECF6",
           "caxis": {
            "gridcolor": "white",
            "linecolor": "white",
            "ticks": ""
           }
          },
          "title": {
           "x": 0.05
          },
          "xaxis": {
           "automargin": true,
           "gridcolor": "white",
           "linecolor": "white",
           "ticks": "",
           "title": {
            "standoff": 15
           },
           "zerolinecolor": "white",
           "zerolinewidth": 2
          },
          "yaxis": {
           "automargin": true,
           "gridcolor": "white",
           "linecolor": "white",
           "ticks": "",
           "title": {
            "standoff": 15
           },
           "zerolinecolor": "white",
           "zerolinewidth": 2
          }
         }
        },
        "title": {
         "text": "Top 20 Words Before Removing Stopwords"
        },
        "xaxis": {
         "title": {
          "text": "Count"
         }
        },
        "yaxis": {
         "title": {
          "text": "Words"
         }
        }
       }
      },
      "text/html": [
       "<div>            <script src=\"https://cdnjs.cloudflare.com/ajax/libs/mathjax/2.7.5/MathJax.js?config=TeX-AMS-MML_SVG\"></script><script type=\"text/javascript\">if (window.MathJax && window.MathJax.Hub && window.MathJax.Hub.Config) {window.MathJax.Hub.Config({SVG: {font: \"STIX-Web\"}});}</script>                <script type=\"text/javascript\">window.PlotlyConfig = {MathJaxConfig: 'local'};</script>\n",
       "        <script charset=\"utf-8\" src=\"https://cdn.plot.ly/plotly-3.0.0.min.js\"></script>                <div id=\"930c868e-629f-489b-902b-23dbd0f1679f\" class=\"plotly-graph-div\" style=\"height:600px; width:100%;\"></div>            <script type=\"text/javascript\">                window.PLOTLYENV=window.PLOTLYENV || {};                                if (document.getElementById(\"930c868e-629f-489b-902b-23dbd0f1679f\")) {                    Plotly.newPlot(                        \"930c868e-629f-489b-902b-23dbd0f1679f\",                        [{\"orientation\":\"h\",\"x\":{\"dtype\":\"i1\",\"bdata\":\"VlVQRCUiISEgHh4cGxsaGRkYGBU=\"},\"y\":[\"pike place\",\"place market\",\"downtown seattle\",\"space needle\",\"wi fi\",\"guest rooms\",\"pacific northwest\",\"seattle hotel\",\"fitness center\",\"lake union\",\"hotel seattle\",\"24 hour\",\"business center\",\"international airport\",\"seattle airport\",\"high speed\",\"seattle tacoma\",\"seattle center\",\"university washington\",\"convention center\"],\"type\":\"bar\"}],                        {\"template\":{\"data\":{\"histogram2dcontour\":[{\"type\":\"histogram2dcontour\",\"colorbar\":{\"outlinewidth\":0,\"ticks\":\"\"},\"colorscale\":[[0.0,\"#0d0887\"],[0.1111111111111111,\"#46039f\"],[0.2222222222222222,\"#7201a8\"],[0.3333333333333333,\"#9c179e\"],[0.4444444444444444,\"#bd3786\"],[0.5555555555555556,\"#d8576b\"],[0.6666666666666666,\"#ed7953\"],[0.7777777777777778,\"#fb9f3a\"],[0.8888888888888888,\"#fdca26\"],[1.0,\"#f0f921\"]]}],\"choropleth\":[{\"type\":\"choropleth\",\"colorbar\":{\"outlinewidth\":0,\"ticks\":\"\"}}],\"histogram2d\":[{\"type\":\"histogram2d\",\"colorbar\":{\"outlinewidth\":0,\"ticks\":\"\"},\"colorscale\":[[0.0,\"#0d0887\"],[0.1111111111111111,\"#46039f\"],[0.2222222222222222,\"#7201a8\"],[0.3333333333333333,\"#9c179e\"],[0.4444444444444444,\"#bd3786\"],[0.5555555555555556,\"#d8576b\"],[0.6666666666666666,\"#ed7953\"],[0.7777777777777778,\"#fb9f3a\"],[0.8888888888888888,\"#fdca26\"],[1.0,\"#f0f921\"]]}],\"heatmap\":[{\"type\":\"heatmap\",\"colorbar\":{\"outlinewidth\":0,\"ticks\":\"\"},\"colorscale\":[[0.0,\"#0d0887\"],[0.1111111111111111,\"#46039f\"],[0.2222222222222222,\"#7201a8\"],[0.3333333333333333,\"#9c179e\"],[0.4444444444444444,\"#bd3786\"],[0.5555555555555556,\"#d8576b\"],[0.6666666666666666,\"#ed7953\"],[0.7777777777777778,\"#fb9f3a\"],[0.8888888888888888,\"#fdca26\"],[1.0,\"#f0f921\"]]}],\"contourcarpet\":[{\"type\":\"contourcarpet\",\"colorbar\":{\"outlinewidth\":0,\"ticks\":\"\"}}],\"contour\":[{\"type\":\"contour\",\"colorbar\":{\"outlinewidth\":0,\"ticks\":\"\"},\"colorscale\":[[0.0,\"#0d0887\"],[0.1111111111111111,\"#46039f\"],[0.2222222222222222,\"#7201a8\"],[0.3333333333333333,\"#9c179e\"],[0.4444444444444444,\"#bd3786\"],[0.5555555555555556,\"#d8576b\"],[0.6666666666666666,\"#ed7953\"],[0.7777777777777778,\"#fb9f3a\"],[0.8888888888888888,\"#fdca26\"],[1.0,\"#f0f921\"]]}],\"surface\":[{\"type\":\"surface\",\"colorbar\":{\"outlinewidth\":0,\"ticks\":\"\"},\"colorscale\":[[0.0,\"#0d0887\"],[0.1111111111111111,\"#46039f\"],[0.2222222222222222,\"#7201a8\"],[0.3333333333333333,\"#9c179e\"],[0.4444444444444444,\"#bd3786\"],[0.5555555555555556,\"#d8576b\"],[0.6666666666666666,\"#ed7953\"],[0.7777777777777778,\"#fb9f3a\"],[0.8888888888888888,\"#fdca26\"],[1.0,\"#f0f921\"]]}],\"mesh3d\":[{\"type\":\"mesh3d\",\"colorbar\":{\"outlinewidth\":0,\"ticks\":\"\"}}],\"scatter\":[{\"fillpattern\":{\"fillmode\":\"overlay\",\"size\":10,\"solidity\":0.2},\"type\":\"scatter\"}],\"parcoords\":[{\"type\":\"parcoords\",\"line\":{\"colorbar\":{\"outlinewidth\":0,\"ticks\":\"\"}}}],\"scatterpolargl\":[{\"type\":\"scatterpolargl\",\"marker\":{\"colorbar\":{\"outlinewidth\":0,\"ticks\":\"\"}}}],\"bar\":[{\"error_x\":{\"color\":\"#2a3f5f\"},\"error_y\":{\"color\":\"#2a3f5f\"},\"marker\":{\"line\":{\"color\":\"#E5ECF6\",\"width\":0.5},\"pattern\":{\"fillmode\":\"overlay\",\"size\":10,\"solidity\":0.2}},\"type\":\"bar\"}],\"scattergeo\":[{\"type\":\"scattergeo\",\"marker\":{\"colorbar\":{\"outlinewidth\":0,\"ticks\":\"\"}}}],\"scatterpolar\":[{\"type\":\"scatterpolar\",\"marker\":{\"colorbar\":{\"outlinewidth\":0,\"ticks\":\"\"}}}],\"histogram\":[{\"marker\":{\"pattern\":{\"fillmode\":\"overlay\",\"size\":10,\"solidity\":0.2}},\"type\":\"histogram\"}],\"scattergl\":[{\"type\":\"scattergl\",\"marker\":{\"colorbar\":{\"outlinewidth\":0,\"ticks\":\"\"}}}],\"scatter3d\":[{\"type\":\"scatter3d\",\"line\":{\"colorbar\":{\"outlinewidth\":0,\"ticks\":\"\"}},\"marker\":{\"colorbar\":{\"outlinewidth\":0,\"ticks\":\"\"}}}],\"scattermap\":[{\"type\":\"scattermap\",\"marker\":{\"colorbar\":{\"outlinewidth\":0,\"ticks\":\"\"}}}],\"scattermapbox\":[{\"type\":\"scattermapbox\",\"marker\":{\"colorbar\":{\"outlinewidth\":0,\"ticks\":\"\"}}}],\"scatterternary\":[{\"type\":\"scatterternary\",\"marker\":{\"colorbar\":{\"outlinewidth\":0,\"ticks\":\"\"}}}],\"scattercarpet\":[{\"type\":\"scattercarpet\",\"marker\":{\"colorbar\":{\"outlinewidth\":0,\"ticks\":\"\"}}}],\"carpet\":[{\"aaxis\":{\"endlinecolor\":\"#2a3f5f\",\"gridcolor\":\"white\",\"linecolor\":\"white\",\"minorgridcolor\":\"white\",\"startlinecolor\":\"#2a3f5f\"},\"baxis\":{\"endlinecolor\":\"#2a3f5f\",\"gridcolor\":\"white\",\"linecolor\":\"white\",\"minorgridcolor\":\"white\",\"startlinecolor\":\"#2a3f5f\"},\"type\":\"carpet\"}],\"table\":[{\"cells\":{\"fill\":{\"color\":\"#EBF0F8\"},\"line\":{\"color\":\"white\"}},\"header\":{\"fill\":{\"color\":\"#C8D4E3\"},\"line\":{\"color\":\"white\"}},\"type\":\"table\"}],\"barpolar\":[{\"marker\":{\"line\":{\"color\":\"#E5ECF6\",\"width\":0.5},\"pattern\":{\"fillmode\":\"overlay\",\"size\":10,\"solidity\":0.2}},\"type\":\"barpolar\"}],\"pie\":[{\"automargin\":true,\"type\":\"pie\"}]},\"layout\":{\"autotypenumbers\":\"strict\",\"colorway\":[\"#636efa\",\"#EF553B\",\"#00cc96\",\"#ab63fa\",\"#FFA15A\",\"#19d3f3\",\"#FF6692\",\"#B6E880\",\"#FF97FF\",\"#FECB52\"],\"font\":{\"color\":\"#2a3f5f\"},\"hovermode\":\"closest\",\"hoverlabel\":{\"align\":\"left\"},\"paper_bgcolor\":\"white\",\"plot_bgcolor\":\"#E5ECF6\",\"polar\":{\"bgcolor\":\"#E5ECF6\",\"angularaxis\":{\"gridcolor\":\"white\",\"linecolor\":\"white\",\"ticks\":\"\"},\"radialaxis\":{\"gridcolor\":\"white\",\"linecolor\":\"white\",\"ticks\":\"\"}},\"ternary\":{\"bgcolor\":\"#E5ECF6\",\"aaxis\":{\"gridcolor\":\"white\",\"linecolor\":\"white\",\"ticks\":\"\"},\"baxis\":{\"gridcolor\":\"white\",\"linecolor\":\"white\",\"ticks\":\"\"},\"caxis\":{\"gridcolor\":\"white\",\"linecolor\":\"white\",\"ticks\":\"\"}},\"coloraxis\":{\"colorbar\":{\"outlinewidth\":0,\"ticks\":\"\"}},\"colorscale\":{\"sequential\":[[0.0,\"#0d0887\"],[0.1111111111111111,\"#46039f\"],[0.2222222222222222,\"#7201a8\"],[0.3333333333333333,\"#9c179e\"],[0.4444444444444444,\"#bd3786\"],[0.5555555555555556,\"#d8576b\"],[0.6666666666666666,\"#ed7953\"],[0.7777777777777778,\"#fb9f3a\"],[0.8888888888888888,\"#fdca26\"],[1.0,\"#f0f921\"]],\"sequentialminus\":[[0.0,\"#0d0887\"],[0.1111111111111111,\"#46039f\"],[0.2222222222222222,\"#7201a8\"],[0.3333333333333333,\"#9c179e\"],[0.4444444444444444,\"#bd3786\"],[0.5555555555555556,\"#d8576b\"],[0.6666666666666666,\"#ed7953\"],[0.7777777777777778,\"#fb9f3a\"],[0.8888888888888888,\"#fdca26\"],[1.0,\"#f0f921\"]],\"diverging\":[[0,\"#8e0152\"],[0.1,\"#c51b7d\"],[0.2,\"#de77ae\"],[0.3,\"#f1b6da\"],[0.4,\"#fde0ef\"],[0.5,\"#f7f7f7\"],[0.6,\"#e6f5d0\"],[0.7,\"#b8e186\"],[0.8,\"#7fbc41\"],[0.9,\"#4d9221\"],[1,\"#276419\"]]},\"xaxis\":{\"gridcolor\":\"white\",\"linecolor\":\"white\",\"ticks\":\"\",\"title\":{\"standoff\":15},\"zerolinecolor\":\"white\",\"automargin\":true,\"zerolinewidth\":2},\"yaxis\":{\"gridcolor\":\"white\",\"linecolor\":\"white\",\"ticks\":\"\",\"title\":{\"standoff\":15},\"zerolinecolor\":\"white\",\"automargin\":true,\"zerolinewidth\":2},\"scene\":{\"xaxis\":{\"backgroundcolor\":\"#E5ECF6\",\"gridcolor\":\"white\",\"linecolor\":\"white\",\"showbackground\":true,\"ticks\":\"\",\"zerolinecolor\":\"white\",\"gridwidth\":2},\"yaxis\":{\"backgroundcolor\":\"#E5ECF6\",\"gridcolor\":\"white\",\"linecolor\":\"white\",\"showbackground\":true,\"ticks\":\"\",\"zerolinecolor\":\"white\",\"gridwidth\":2},\"zaxis\":{\"backgroundcolor\":\"#E5ECF6\",\"gridcolor\":\"white\",\"linecolor\":\"white\",\"showbackground\":true,\"ticks\":\"\",\"zerolinecolor\":\"white\",\"gridwidth\":2}},\"shapedefaults\":{\"line\":{\"color\":\"#2a3f5f\"}},\"annotationdefaults\":{\"arrowcolor\":\"#2a3f5f\",\"arrowhead\":0,\"arrowwidth\":1},\"geo\":{\"bgcolor\":\"white\",\"landcolor\":\"#E5ECF6\",\"subunitcolor\":\"white\",\"showland\":true,\"showlakes\":true,\"lakecolor\":\"white\"},\"title\":{\"x\":0.05},\"mapbox\":{\"style\":\"light\"}}},\"title\":{\"text\":\"Top 20 Words Before Removing Stopwords\"},\"xaxis\":{\"title\":{\"text\":\"Count\"}},\"yaxis\":{\"title\":{\"text\":\"Words\"}},\"height\":600},                        {\"responsive\": true}                    ).then(function(){\n",
       "                            \n",
       "var gd = document.getElementById('930c868e-629f-489b-902b-23dbd0f1679f');\n",
       "var x = new MutationObserver(function (mutations, observer) {{\n",
       "        var display = window.getComputedStyle(gd).display;\n",
       "        if (!display || display === 'none') {{\n",
       "            console.log([gd, 'removed!']);\n",
       "            Plotly.purge(gd);\n",
       "            observer.disconnect();\n",
       "        }}\n",
       "}});\n",
       "\n",
       "// Listen for the removal of the full notebook cells\n",
       "var notebookContainer = gd.closest('#notebook-container');\n",
       "if (notebookContainer) {{\n",
       "    x.observe(notebookContainer, {childList: true});\n",
       "}}\n",
       "\n",
       "// Listen for the clearing of the current output cell\n",
       "var outputEl = gd.closest('.output');\n",
       "if (outputEl) {{\n",
       "    x.observe(outputEl, {childList: true});\n",
       "}}\n",
       "\n",
       "                        })                };            </script>        </div>"
      ]
     },
     "metadata": {},
     "output_type": "display_data"
    }
   ],
   "source": [
    "common_words=get_top_n_words(df['desc'],20)\n",
    "df3 = pd.DataFrame(common_words,columns=['desc','count'])\n",
    "import plotly.graph_objects as go\n",
    "\n",
    "fig = go.Figure(data=[\n",
    "    go.Bar(\n",
    "        x=df3['count'],\n",
    "        y=df3['desc'],\n",
    "        orientation='h'\n",
    "    )\n",
    "])\n",
    "\n",
    "fig.update_layout(\n",
    "    title='Top 20 Words Before Removing Stopwords',\n",
    "    xaxis_title='Count',\n",
    "    yaxis_title='Words',\n",
    "    height=600\n",
    ")\n",
    "\n",
    "fig.show()"
   ]
  },
  {
   "cell_type": "markdown",
   "metadata": {},
   "source": [
    "描述的一些统计信息"
   ]
  },
  {
   "cell_type": "code",
   "execution_count": 76,
   "metadata": {},
   "outputs": [],
   "source": [
    "df['word_count']=df['desc'].apply(lambda x:len(str(x).split()))"
   ]
  },
  {
   "cell_type": "code",
   "execution_count": 77,
   "metadata": {},
   "outputs": [
    {
     "data": {
      "text/html": [
       "<div>\n",
       "<style scoped>\n",
       "    .dataframe tbody tr th:only-of-type {\n",
       "        vertical-align: middle;\n",
       "    }\n",
       "\n",
       "    .dataframe tbody tr th {\n",
       "        vertical-align: top;\n",
       "    }\n",
       "\n",
       "    .dataframe thead th {\n",
       "        text-align: right;\n",
       "    }\n",
       "</style>\n",
       "<table border=\"1\" class=\"dataframe\">\n",
       "  <thead>\n",
       "    <tr style=\"text-align: right;\">\n",
       "      <th></th>\n",
       "      <th>name</th>\n",
       "      <th>address</th>\n",
       "      <th>desc</th>\n",
       "      <th>word_count</th>\n",
       "    </tr>\n",
       "  </thead>\n",
       "  <tbody>\n",
       "    <tr>\n",
       "      <th>0</th>\n",
       "      <td>Hilton Garden Seattle Downtown</td>\n",
       "      <td>1821 Boren Avenue, Seattle Washington 98101 USA</td>\n",
       "      <td>Located on the southern tip of Lake Union, the...</td>\n",
       "      <td>184</td>\n",
       "    </tr>\n",
       "    <tr>\n",
       "      <th>1</th>\n",
       "      <td>Sheraton Grand Seattle</td>\n",
       "      <td>1400 6th Avenue, Seattle, Washington 98101 USA</td>\n",
       "      <td>Located in the city's vibrant core, the Sherat...</td>\n",
       "      <td>152</td>\n",
       "    </tr>\n",
       "    <tr>\n",
       "      <th>2</th>\n",
       "      <td>Crowne Plaza Seattle Downtown</td>\n",
       "      <td>1113 6th Ave, Seattle, WA 98101</td>\n",
       "      <td>Located in the heart of downtown Seattle, the ...</td>\n",
       "      <td>147</td>\n",
       "    </tr>\n",
       "    <tr>\n",
       "      <th>3</th>\n",
       "      <td>Kimpton Hotel Monaco Seattle</td>\n",
       "      <td>1101 4th Ave, Seattle, WA98101</td>\n",
       "      <td>What?s near our hotel downtown Seattle locatio...</td>\n",
       "      <td>150</td>\n",
       "    </tr>\n",
       "    <tr>\n",
       "      <th>4</th>\n",
       "      <td>The Westin Seattle</td>\n",
       "      <td>1900 5th Avenue, Seattle, Washington 98101 USA</td>\n",
       "      <td>Situated amid incredible shopping and iconic a...</td>\n",
       "      <td>151</td>\n",
       "    </tr>\n",
       "  </tbody>\n",
       "</table>\n",
       "</div>"
      ],
      "text/plain": [
       "                             name  \\\n",
       "0  Hilton Garden Seattle Downtown   \n",
       "1          Sheraton Grand Seattle   \n",
       "2   Crowne Plaza Seattle Downtown   \n",
       "3   Kimpton Hotel Monaco Seattle    \n",
       "4              The Westin Seattle   \n",
       "\n",
       "                                           address  \\\n",
       "0  1821 Boren Avenue, Seattle Washington 98101 USA   \n",
       "1   1400 6th Avenue, Seattle, Washington 98101 USA   \n",
       "2                  1113 6th Ave, Seattle, WA 98101   \n",
       "3                   1101 4th Ave, Seattle, WA98101   \n",
       "4   1900 5th Avenue, Seattle, Washington 98101 USA   \n",
       "\n",
       "                                                desc  word_count  \n",
       "0  Located on the southern tip of Lake Union, the...         184  \n",
       "1  Located in the city's vibrant core, the Sherat...         152  \n",
       "2  Located in the heart of downtown Seattle, the ...         147  \n",
       "3  What?s near our hotel downtown Seattle locatio...         150  \n",
       "4  Situated amid incredible shopping and iconic a...         151  "
      ]
     },
     "execution_count": 77,
     "metadata": {},
     "output_type": "execute_result"
    }
   ],
   "source": [
    "df.head()"
   ]
  },
  {
   "cell_type": "code",
   "execution_count": 78,
   "metadata": {},
   "outputs": [
    {
     "data": {
      "application/vnd.plotly.v1+json": {
       "config": {
        "plotlyServerURL": "https://plot.ly"
       },
       "data": [
        {
         "bingroup": "x",
         "hovertemplate": "Word Count=%{x}<br>count=%{y}<extra></extra>",
         "legendgroup": "",
         "marker": {
          "color": "#636efa",
          "pattern": {
           "shape": ""
          }
         },
         "name": "",
         "nbinsx": 50,
         "orientation": "v",
         "showlegend": false,
         "type": "histogram",
         "x": {
          "bdata": "uACYAJMAlgCXAIgARgB1AGoAdgBpAFAAhQAyAFAAmwCMAKMAZAAEAaMAJwCrAIYAqADHAKEArQDcAKkAgADDAP0AeAAyAbIAqQBkAN0AwwBpAFoAmwClANYAcADmAKcAlwBKANoAnQDbAIcAPwF8AAoBsACFAJMByACsAL4A6wCxAEgA4QAqAHEApgCkAMgAQQAzAKcAkwAbAEgAWwDgAC8AXQApAEQAcgDnAD4AOwBFAM8AMAAuANsAkgDVAJQAVgCFAHgAuwDIAGQAJgChAHcAzgDUAAoBlQCfAJUANgDBANsAzADVAEUB1gBnAMEAZgCmAJAAJgCBAJ0A1QDjAKYAdACgAB0BjwDLAfQASQASAX4AjwDAAAkB7gHhADUAJAAQALIAxgBiAI8AOQD6AA==",
          "dtype": "i2"
         },
         "xaxis": "x",
         "yaxis": "y"
        }
       ],
       "layout": {
        "bargap": 0.1,
        "barmode": "relative",
        "height": 500,
        "legend": {
         "tracegroupgap": 0
        },
        "template": {
         "data": {
          "bar": [
           {
            "error_x": {
             "color": "#2a3f5f"
            },
            "error_y": {
             "color": "#2a3f5f"
            },
            "marker": {
             "line": {
              "color": "#E5ECF6",
              "width": 0.5
             },
             "pattern": {
              "fillmode": "overlay",
              "size": 10,
              "solidity": 0.2
             }
            },
            "type": "bar"
           }
          ],
          "barpolar": [
           {
            "marker": {
             "line": {
              "color": "#E5ECF6",
              "width": 0.5
             },
             "pattern": {
              "fillmode": "overlay",
              "size": 10,
              "solidity": 0.2
             }
            },
            "type": "barpolar"
           }
          ],
          "carpet": [
           {
            "aaxis": {
             "endlinecolor": "#2a3f5f",
             "gridcolor": "white",
             "linecolor": "white",
             "minorgridcolor": "white",
             "startlinecolor": "#2a3f5f"
            },
            "baxis": {
             "endlinecolor": "#2a3f5f",
             "gridcolor": "white",
             "linecolor": "white",
             "minorgridcolor": "white",
             "startlinecolor": "#2a3f5f"
            },
            "type": "carpet"
           }
          ],
          "choropleth": [
           {
            "colorbar": {
             "outlinewidth": 0,
             "ticks": ""
            },
            "type": "choropleth"
           }
          ],
          "contour": [
           {
            "colorbar": {
             "outlinewidth": 0,
             "ticks": ""
            },
            "colorscale": [
             [
              0,
              "#0d0887"
             ],
             [
              0.1111111111111111,
              "#46039f"
             ],
             [
              0.2222222222222222,
              "#7201a8"
             ],
             [
              0.3333333333333333,
              "#9c179e"
             ],
             [
              0.4444444444444444,
              "#bd3786"
             ],
             [
              0.5555555555555556,
              "#d8576b"
             ],
             [
              0.6666666666666666,
              "#ed7953"
             ],
             [
              0.7777777777777778,
              "#fb9f3a"
             ],
             [
              0.8888888888888888,
              "#fdca26"
             ],
             [
              1,
              "#f0f921"
             ]
            ],
            "type": "contour"
           }
          ],
          "contourcarpet": [
           {
            "colorbar": {
             "outlinewidth": 0,
             "ticks": ""
            },
            "type": "contourcarpet"
           }
          ],
          "heatmap": [
           {
            "colorbar": {
             "outlinewidth": 0,
             "ticks": ""
            },
            "colorscale": [
             [
              0,
              "#0d0887"
             ],
             [
              0.1111111111111111,
              "#46039f"
             ],
             [
              0.2222222222222222,
              "#7201a8"
             ],
             [
              0.3333333333333333,
              "#9c179e"
             ],
             [
              0.4444444444444444,
              "#bd3786"
             ],
             [
              0.5555555555555556,
              "#d8576b"
             ],
             [
              0.6666666666666666,
              "#ed7953"
             ],
             [
              0.7777777777777778,
              "#fb9f3a"
             ],
             [
              0.8888888888888888,
              "#fdca26"
             ],
             [
              1,
              "#f0f921"
             ]
            ],
            "type": "heatmap"
           }
          ],
          "histogram": [
           {
            "marker": {
             "pattern": {
              "fillmode": "overlay",
              "size": 10,
              "solidity": 0.2
             }
            },
            "type": "histogram"
           }
          ],
          "histogram2d": [
           {
            "colorbar": {
             "outlinewidth": 0,
             "ticks": ""
            },
            "colorscale": [
             [
              0,
              "#0d0887"
             ],
             [
              0.1111111111111111,
              "#46039f"
             ],
             [
              0.2222222222222222,
              "#7201a8"
             ],
             [
              0.3333333333333333,
              "#9c179e"
             ],
             [
              0.4444444444444444,
              "#bd3786"
             ],
             [
              0.5555555555555556,
              "#d8576b"
             ],
             [
              0.6666666666666666,
              "#ed7953"
             ],
             [
              0.7777777777777778,
              "#fb9f3a"
             ],
             [
              0.8888888888888888,
              "#fdca26"
             ],
             [
              1,
              "#f0f921"
             ]
            ],
            "type": "histogram2d"
           }
          ],
          "histogram2dcontour": [
           {
            "colorbar": {
             "outlinewidth": 0,
             "ticks": ""
            },
            "colorscale": [
             [
              0,
              "#0d0887"
             ],
             [
              0.1111111111111111,
              "#46039f"
             ],
             [
              0.2222222222222222,
              "#7201a8"
             ],
             [
              0.3333333333333333,
              "#9c179e"
             ],
             [
              0.4444444444444444,
              "#bd3786"
             ],
             [
              0.5555555555555556,
              "#d8576b"
             ],
             [
              0.6666666666666666,
              "#ed7953"
             ],
             [
              0.7777777777777778,
              "#fb9f3a"
             ],
             [
              0.8888888888888888,
              "#fdca26"
             ],
             [
              1,
              "#f0f921"
             ]
            ],
            "type": "histogram2dcontour"
           }
          ],
          "mesh3d": [
           {
            "colorbar": {
             "outlinewidth": 0,
             "ticks": ""
            },
            "type": "mesh3d"
           }
          ],
          "parcoords": [
           {
            "line": {
             "colorbar": {
              "outlinewidth": 0,
              "ticks": ""
             }
            },
            "type": "parcoords"
           }
          ],
          "pie": [
           {
            "automargin": true,
            "type": "pie"
           }
          ],
          "scatter": [
           {
            "fillpattern": {
             "fillmode": "overlay",
             "size": 10,
             "solidity": 0.2
            },
            "type": "scatter"
           }
          ],
          "scatter3d": [
           {
            "line": {
             "colorbar": {
              "outlinewidth": 0,
              "ticks": ""
             }
            },
            "marker": {
             "colorbar": {
              "outlinewidth": 0,
              "ticks": ""
             }
            },
            "type": "scatter3d"
           }
          ],
          "scattercarpet": [
           {
            "marker": {
             "colorbar": {
              "outlinewidth": 0,
              "ticks": ""
             }
            },
            "type": "scattercarpet"
           }
          ],
          "scattergeo": [
           {
            "marker": {
             "colorbar": {
              "outlinewidth": 0,
              "ticks": ""
             }
            },
            "type": "scattergeo"
           }
          ],
          "scattergl": [
           {
            "marker": {
             "colorbar": {
              "outlinewidth": 0,
              "ticks": ""
             }
            },
            "type": "scattergl"
           }
          ],
          "scattermap": [
           {
            "marker": {
             "colorbar": {
              "outlinewidth": 0,
              "ticks": ""
             }
            },
            "type": "scattermap"
           }
          ],
          "scattermapbox": [
           {
            "marker": {
             "colorbar": {
              "outlinewidth": 0,
              "ticks": ""
             }
            },
            "type": "scattermapbox"
           }
          ],
          "scatterpolar": [
           {
            "marker": {
             "colorbar": {
              "outlinewidth": 0,
              "ticks": ""
             }
            },
            "type": "scatterpolar"
           }
          ],
          "scatterpolargl": [
           {
            "marker": {
             "colorbar": {
              "outlinewidth": 0,
              "ticks": ""
             }
            },
            "type": "scatterpolargl"
           }
          ],
          "scatterternary": [
           {
            "marker": {
             "colorbar": {
              "outlinewidth": 0,
              "ticks": ""
             }
            },
            "type": "scatterternary"
           }
          ],
          "surface": [
           {
            "colorbar": {
             "outlinewidth": 0,
             "ticks": ""
            },
            "colorscale": [
             [
              0,
              "#0d0887"
             ],
             [
              0.1111111111111111,
              "#46039f"
             ],
             [
              0.2222222222222222,
              "#7201a8"
             ],
             [
              0.3333333333333333,
              "#9c179e"
             ],
             [
              0.4444444444444444,
              "#bd3786"
             ],
             [
              0.5555555555555556,
              "#d8576b"
             ],
             [
              0.6666666666666666,
              "#ed7953"
             ],
             [
              0.7777777777777778,
              "#fb9f3a"
             ],
             [
              0.8888888888888888,
              "#fdca26"
             ],
             [
              1,
              "#f0f921"
             ]
            ],
            "type": "surface"
           }
          ],
          "table": [
           {
            "cells": {
             "fill": {
              "color": "#EBF0F8"
             },
             "line": {
              "color": "white"
             }
            },
            "header": {
             "fill": {
              "color": "#C8D4E3"
             },
             "line": {
              "color": "white"
             }
            },
            "type": "table"
           }
          ]
         },
         "layout": {
          "annotationdefaults": {
           "arrowcolor": "#2a3f5f",
           "arrowhead": 0,
           "arrowwidth": 1
          },
          "autotypenumbers": "strict",
          "coloraxis": {
           "colorbar": {
            "outlinewidth": 0,
            "ticks": ""
           }
          },
          "colorscale": {
           "diverging": [
            [
             0,
             "#8e0152"
            ],
            [
             0.1,
             "#c51b7d"
            ],
            [
             0.2,
             "#de77ae"
            ],
            [
             0.3,
             "#f1b6da"
            ],
            [
             0.4,
             "#fde0ef"
            ],
            [
             0.5,
             "#f7f7f7"
            ],
            [
             0.6,
             "#e6f5d0"
            ],
            [
             0.7,
             "#b8e186"
            ],
            [
             0.8,
             "#7fbc41"
            ],
            [
             0.9,
             "#4d9221"
            ],
            [
             1,
             "#276419"
            ]
           ],
           "sequential": [
            [
             0,
             "#0d0887"
            ],
            [
             0.1111111111111111,
             "#46039f"
            ],
            [
             0.2222222222222222,
             "#7201a8"
            ],
            [
             0.3333333333333333,
             "#9c179e"
            ],
            [
             0.4444444444444444,
             "#bd3786"
            ],
            [
             0.5555555555555556,
             "#d8576b"
            ],
            [
             0.6666666666666666,
             "#ed7953"
            ],
            [
             0.7777777777777778,
             "#fb9f3a"
            ],
            [
             0.8888888888888888,
             "#fdca26"
            ],
            [
             1,
             "#f0f921"
            ]
           ],
           "sequentialminus": [
            [
             0,
             "#0d0887"
            ],
            [
             0.1111111111111111,
             "#46039f"
            ],
            [
             0.2222222222222222,
             "#7201a8"
            ],
            [
             0.3333333333333333,
             "#9c179e"
            ],
            [
             0.4444444444444444,
             "#bd3786"
            ],
            [
             0.5555555555555556,
             "#d8576b"
            ],
            [
             0.6666666666666666,
             "#ed7953"
            ],
            [
             0.7777777777777778,
             "#fb9f3a"
            ],
            [
             0.8888888888888888,
             "#fdca26"
            ],
            [
             1,
             "#f0f921"
            ]
           ]
          },
          "colorway": [
           "#636efa",
           "#EF553B",
           "#00cc96",
           "#ab63fa",
           "#FFA15A",
           "#19d3f3",
           "#FF6692",
           "#B6E880",
           "#FF97FF",
           "#FECB52"
          ],
          "font": {
           "color": "#2a3f5f"
          },
          "geo": {
           "bgcolor": "white",
           "lakecolor": "white",
           "landcolor": "#E5ECF6",
           "showlakes": true,
           "showland": true,
           "subunitcolor": "white"
          },
          "hoverlabel": {
           "align": "left"
          },
          "hovermode": "closest",
          "mapbox": {
           "style": "light"
          },
          "paper_bgcolor": "white",
          "plot_bgcolor": "#E5ECF6",
          "polar": {
           "angularaxis": {
            "gridcolor": "white",
            "linecolor": "white",
            "ticks": ""
           },
           "bgcolor": "#E5ECF6",
           "radialaxis": {
            "gridcolor": "white",
            "linecolor": "white",
            "ticks": ""
           }
          },
          "scene": {
           "xaxis": {
            "backgroundcolor": "#E5ECF6",
            "gridcolor": "white",
            "gridwidth": 2,
            "linecolor": "white",
            "showbackground": true,
            "ticks": "",
            "zerolinecolor": "white"
           },
           "yaxis": {
            "backgroundcolor": "#E5ECF6",
            "gridcolor": "white",
            "gridwidth": 2,
            "linecolor": "white",
            "showbackground": true,
            "ticks": "",
            "zerolinecolor": "white"
           },
           "zaxis": {
            "backgroundcolor": "#E5ECF6",
            "gridcolor": "white",
            "gridwidth": 2,
            "linecolor": "white",
            "showbackground": true,
            "ticks": "",
            "zerolinecolor": "white"
           }
          },
          "shapedefaults": {
           "line": {
            "color": "#2a3f5f"
           }
          },
          "ternary": {
           "aaxis": {
            "gridcolor": "white",
            "linecolor": "white",
            "ticks": ""
           },
           "baxis": {
            "gridcolor": "white",
            "linecolor": "white",
            "ticks": ""
           },
           "bgcolor": "#E5ECF6",
           "caxis": {
            "gridcolor": "white",
            "linecolor": "white",
            "ticks": ""
           }
          },
          "title": {
           "x": 0.05
          },
          "xaxis": {
           "automargin": true,
           "gridcolor": "white",
           "linecolor": "white",
           "ticks": "",
           "title": {
            "standoff": 15
           },
           "zerolinecolor": "white",
           "zerolinewidth": 2
          },
          "yaxis": {
           "automargin": true,
           "gridcolor": "white",
           "linecolor": "white",
           "ticks": "",
           "title": {
            "standoff": 15
           },
           "zerolinecolor": "white",
           "zerolinewidth": 2
          }
         }
        },
        "title": {
         "text": "Distribution of Word Count in Hotel Descriptions"
        },
        "xaxis": {
         "anchor": "y",
         "domain": [
          0,
          1
         ],
         "title": {
          "text": "Word Count"
         }
        },
        "yaxis": {
         "anchor": "x",
         "domain": [
          0,
          1
         ],
         "title": {
          "text": "Frequency"
         }
        }
       }
      },
      "text/html": [
       "<div>            <script src=\"https://cdnjs.cloudflare.com/ajax/libs/mathjax/2.7.5/MathJax.js?config=TeX-AMS-MML_SVG\"></script><script type=\"text/javascript\">if (window.MathJax && window.MathJax.Hub && window.MathJax.Hub.Config) {window.MathJax.Hub.Config({SVG: {font: \"STIX-Web\"}});}</script>                <script type=\"text/javascript\">window.PlotlyConfig = {MathJaxConfig: 'local'};</script>\n",
       "        <script charset=\"utf-8\" src=\"https://cdn.plot.ly/plotly-3.0.0.min.js\"></script>                <div id=\"08ef0a3e-893b-40fd-8614-02f7f87b2a1a\" class=\"plotly-graph-div\" style=\"height:500px; width:100%;\"></div>            <script type=\"text/javascript\">                window.PLOTLYENV=window.PLOTLYENV || {};                                if (document.getElementById(\"08ef0a3e-893b-40fd-8614-02f7f87b2a1a\")) {                    Plotly.newPlot(                        \"08ef0a3e-893b-40fd-8614-02f7f87b2a1a\",                        [{\"bingroup\":\"x\",\"hovertemplate\":\"Word Count=%{x}\\u003cbr\\u003ecount=%{y}\\u003cextra\\u003e\\u003c\\u002fextra\\u003e\",\"legendgroup\":\"\",\"marker\":{\"color\":\"#636efa\",\"pattern\":{\"shape\":\"\"}},\"name\":\"\",\"nbinsx\":50,\"orientation\":\"v\",\"showlegend\":false,\"x\":{\"dtype\":\"i2\",\"bdata\":\"uACYAJMAlgCXAIgARgB1AGoAdgBpAFAAhQAyAFAAmwCMAKMAZAAEAaMAJwCrAIYAqADHAKEArQDcAKkAgADDAP0AeAAyAbIAqQBkAN0AwwBpAFoAmwClANYAcADmAKcAlwBKANoAnQDbAIcAPwF8AAoBsACFAJMByACsAL4A6wCxAEgA4QAqAHEApgCkAMgAQQAzAKcAkwAbAEgAWwDgAC8AXQApAEQAcgDnAD4AOwBFAM8AMAAuANsAkgDVAJQAVgCFAHgAuwDIAGQAJgChAHcAzgDUAAoBlQCfAJUANgDBANsAzADVAEUB1gBnAMEAZgCmAJAAJgCBAJ0A1QDjAKYAdACgAB0BjwDLAfQASQASAX4AjwDAAAkB7gHhADUAJAAQALIAxgBiAI8AOQD6AA==\"},\"xaxis\":\"x\",\"yaxis\":\"y\",\"type\":\"histogram\"}],                        {\"template\":{\"data\":{\"histogram2dcontour\":[{\"type\":\"histogram2dcontour\",\"colorbar\":{\"outlinewidth\":0,\"ticks\":\"\"},\"colorscale\":[[0.0,\"#0d0887\"],[0.1111111111111111,\"#46039f\"],[0.2222222222222222,\"#7201a8\"],[0.3333333333333333,\"#9c179e\"],[0.4444444444444444,\"#bd3786\"],[0.5555555555555556,\"#d8576b\"],[0.6666666666666666,\"#ed7953\"],[0.7777777777777778,\"#fb9f3a\"],[0.8888888888888888,\"#fdca26\"],[1.0,\"#f0f921\"]]}],\"choropleth\":[{\"type\":\"choropleth\",\"colorbar\":{\"outlinewidth\":0,\"ticks\":\"\"}}],\"histogram2d\":[{\"type\":\"histogram2d\",\"colorbar\":{\"outlinewidth\":0,\"ticks\":\"\"},\"colorscale\":[[0.0,\"#0d0887\"],[0.1111111111111111,\"#46039f\"],[0.2222222222222222,\"#7201a8\"],[0.3333333333333333,\"#9c179e\"],[0.4444444444444444,\"#bd3786\"],[0.5555555555555556,\"#d8576b\"],[0.6666666666666666,\"#ed7953\"],[0.7777777777777778,\"#fb9f3a\"],[0.8888888888888888,\"#fdca26\"],[1.0,\"#f0f921\"]]}],\"heatmap\":[{\"type\":\"heatmap\",\"colorbar\":{\"outlinewidth\":0,\"ticks\":\"\"},\"colorscale\":[[0.0,\"#0d0887\"],[0.1111111111111111,\"#46039f\"],[0.2222222222222222,\"#7201a8\"],[0.3333333333333333,\"#9c179e\"],[0.4444444444444444,\"#bd3786\"],[0.5555555555555556,\"#d8576b\"],[0.6666666666666666,\"#ed7953\"],[0.7777777777777778,\"#fb9f3a\"],[0.8888888888888888,\"#fdca26\"],[1.0,\"#f0f921\"]]}],\"contourcarpet\":[{\"type\":\"contourcarpet\",\"colorbar\":{\"outlinewidth\":0,\"ticks\":\"\"}}],\"contour\":[{\"type\":\"contour\",\"colorbar\":{\"outlinewidth\":0,\"ticks\":\"\"},\"colorscale\":[[0.0,\"#0d0887\"],[0.1111111111111111,\"#46039f\"],[0.2222222222222222,\"#7201a8\"],[0.3333333333333333,\"#9c179e\"],[0.4444444444444444,\"#bd3786\"],[0.5555555555555556,\"#d8576b\"],[0.6666666666666666,\"#ed7953\"],[0.7777777777777778,\"#fb9f3a\"],[0.8888888888888888,\"#fdca26\"],[1.0,\"#f0f921\"]]}],\"surface\":[{\"type\":\"surface\",\"colorbar\":{\"outlinewidth\":0,\"ticks\":\"\"},\"colorscale\":[[0.0,\"#0d0887\"],[0.1111111111111111,\"#46039f\"],[0.2222222222222222,\"#7201a8\"],[0.3333333333333333,\"#9c179e\"],[0.4444444444444444,\"#bd3786\"],[0.5555555555555556,\"#d8576b\"],[0.6666666666666666,\"#ed7953\"],[0.7777777777777778,\"#fb9f3a\"],[0.8888888888888888,\"#fdca26\"],[1.0,\"#f0f921\"]]}],\"mesh3d\":[{\"type\":\"mesh3d\",\"colorbar\":{\"outlinewidth\":0,\"ticks\":\"\"}}],\"scatter\":[{\"fillpattern\":{\"fillmode\":\"overlay\",\"size\":10,\"solidity\":0.2},\"type\":\"scatter\"}],\"parcoords\":[{\"type\":\"parcoords\",\"line\":{\"colorbar\":{\"outlinewidth\":0,\"ticks\":\"\"}}}],\"scatterpolargl\":[{\"type\":\"scatterpolargl\",\"marker\":{\"colorbar\":{\"outlinewidth\":0,\"ticks\":\"\"}}}],\"bar\":[{\"error_x\":{\"color\":\"#2a3f5f\"},\"error_y\":{\"color\":\"#2a3f5f\"},\"marker\":{\"line\":{\"color\":\"#E5ECF6\",\"width\":0.5},\"pattern\":{\"fillmode\":\"overlay\",\"size\":10,\"solidity\":0.2}},\"type\":\"bar\"}],\"scattergeo\":[{\"type\":\"scattergeo\",\"marker\":{\"colorbar\":{\"outlinewidth\":0,\"ticks\":\"\"}}}],\"scatterpolar\":[{\"type\":\"scatterpolar\",\"marker\":{\"colorbar\":{\"outlinewidth\":0,\"ticks\":\"\"}}}],\"histogram\":[{\"marker\":{\"pattern\":{\"fillmode\":\"overlay\",\"size\":10,\"solidity\":0.2}},\"type\":\"histogram\"}],\"scattergl\":[{\"type\":\"scattergl\",\"marker\":{\"colorbar\":{\"outlinewidth\":0,\"ticks\":\"\"}}}],\"scatter3d\":[{\"type\":\"scatter3d\",\"line\":{\"colorbar\":{\"outlinewidth\":0,\"ticks\":\"\"}},\"marker\":{\"colorbar\":{\"outlinewidth\":0,\"ticks\":\"\"}}}],\"scattermap\":[{\"type\":\"scattermap\",\"marker\":{\"colorbar\":{\"outlinewidth\":0,\"ticks\":\"\"}}}],\"scattermapbox\":[{\"type\":\"scattermapbox\",\"marker\":{\"colorbar\":{\"outlinewidth\":0,\"ticks\":\"\"}}}],\"scatterternary\":[{\"type\":\"scatterternary\",\"marker\":{\"colorbar\":{\"outlinewidth\":0,\"ticks\":\"\"}}}],\"scattercarpet\":[{\"type\":\"scattercarpet\",\"marker\":{\"colorbar\":{\"outlinewidth\":0,\"ticks\":\"\"}}}],\"carpet\":[{\"aaxis\":{\"endlinecolor\":\"#2a3f5f\",\"gridcolor\":\"white\",\"linecolor\":\"white\",\"minorgridcolor\":\"white\",\"startlinecolor\":\"#2a3f5f\"},\"baxis\":{\"endlinecolor\":\"#2a3f5f\",\"gridcolor\":\"white\",\"linecolor\":\"white\",\"minorgridcolor\":\"white\",\"startlinecolor\":\"#2a3f5f\"},\"type\":\"carpet\"}],\"table\":[{\"cells\":{\"fill\":{\"color\":\"#EBF0F8\"},\"line\":{\"color\":\"white\"}},\"header\":{\"fill\":{\"color\":\"#C8D4E3\"},\"line\":{\"color\":\"white\"}},\"type\":\"table\"}],\"barpolar\":[{\"marker\":{\"line\":{\"color\":\"#E5ECF6\",\"width\":0.5},\"pattern\":{\"fillmode\":\"overlay\",\"size\":10,\"solidity\":0.2}},\"type\":\"barpolar\"}],\"pie\":[{\"automargin\":true,\"type\":\"pie\"}]},\"layout\":{\"autotypenumbers\":\"strict\",\"colorway\":[\"#636efa\",\"#EF553B\",\"#00cc96\",\"#ab63fa\",\"#FFA15A\",\"#19d3f3\",\"#FF6692\",\"#B6E880\",\"#FF97FF\",\"#FECB52\"],\"font\":{\"color\":\"#2a3f5f\"},\"hovermode\":\"closest\",\"hoverlabel\":{\"align\":\"left\"},\"paper_bgcolor\":\"white\",\"plot_bgcolor\":\"#E5ECF6\",\"polar\":{\"bgcolor\":\"#E5ECF6\",\"angularaxis\":{\"gridcolor\":\"white\",\"linecolor\":\"white\",\"ticks\":\"\"},\"radialaxis\":{\"gridcolor\":\"white\",\"linecolor\":\"white\",\"ticks\":\"\"}},\"ternary\":{\"bgcolor\":\"#E5ECF6\",\"aaxis\":{\"gridcolor\":\"white\",\"linecolor\":\"white\",\"ticks\":\"\"},\"baxis\":{\"gridcolor\":\"white\",\"linecolor\":\"white\",\"ticks\":\"\"},\"caxis\":{\"gridcolor\":\"white\",\"linecolor\":\"white\",\"ticks\":\"\"}},\"coloraxis\":{\"colorbar\":{\"outlinewidth\":0,\"ticks\":\"\"}},\"colorscale\":{\"sequential\":[[0.0,\"#0d0887\"],[0.1111111111111111,\"#46039f\"],[0.2222222222222222,\"#7201a8\"],[0.3333333333333333,\"#9c179e\"],[0.4444444444444444,\"#bd3786\"],[0.5555555555555556,\"#d8576b\"],[0.6666666666666666,\"#ed7953\"],[0.7777777777777778,\"#fb9f3a\"],[0.8888888888888888,\"#fdca26\"],[1.0,\"#f0f921\"]],\"sequentialminus\":[[0.0,\"#0d0887\"],[0.1111111111111111,\"#46039f\"],[0.2222222222222222,\"#7201a8\"],[0.3333333333333333,\"#9c179e\"],[0.4444444444444444,\"#bd3786\"],[0.5555555555555556,\"#d8576b\"],[0.6666666666666666,\"#ed7953\"],[0.7777777777777778,\"#fb9f3a\"],[0.8888888888888888,\"#fdca26\"],[1.0,\"#f0f921\"]],\"diverging\":[[0,\"#8e0152\"],[0.1,\"#c51b7d\"],[0.2,\"#de77ae\"],[0.3,\"#f1b6da\"],[0.4,\"#fde0ef\"],[0.5,\"#f7f7f7\"],[0.6,\"#e6f5d0\"],[0.7,\"#b8e186\"],[0.8,\"#7fbc41\"],[0.9,\"#4d9221\"],[1,\"#276419\"]]},\"xaxis\":{\"gridcolor\":\"white\",\"linecolor\":\"white\",\"ticks\":\"\",\"title\":{\"standoff\":15},\"zerolinecolor\":\"white\",\"automargin\":true,\"zerolinewidth\":2},\"yaxis\":{\"gridcolor\":\"white\",\"linecolor\":\"white\",\"ticks\":\"\",\"title\":{\"standoff\":15},\"zerolinecolor\":\"white\",\"automargin\":true,\"zerolinewidth\":2},\"scene\":{\"xaxis\":{\"backgroundcolor\":\"#E5ECF6\",\"gridcolor\":\"white\",\"linecolor\":\"white\",\"showbackground\":true,\"ticks\":\"\",\"zerolinecolor\":\"white\",\"gridwidth\":2},\"yaxis\":{\"backgroundcolor\":\"#E5ECF6\",\"gridcolor\":\"white\",\"linecolor\":\"white\",\"showbackground\":true,\"ticks\":\"\",\"zerolinecolor\":\"white\",\"gridwidth\":2},\"zaxis\":{\"backgroundcolor\":\"#E5ECF6\",\"gridcolor\":\"white\",\"linecolor\":\"white\",\"showbackground\":true,\"ticks\":\"\",\"zerolinecolor\":\"white\",\"gridwidth\":2}},\"shapedefaults\":{\"line\":{\"color\":\"#2a3f5f\"}},\"annotationdefaults\":{\"arrowcolor\":\"#2a3f5f\",\"arrowhead\":0,\"arrowwidth\":1},\"geo\":{\"bgcolor\":\"white\",\"landcolor\":\"#E5ECF6\",\"subunitcolor\":\"white\",\"showland\":true,\"showlakes\":true,\"lakecolor\":\"white\"},\"title\":{\"x\":0.05},\"mapbox\":{\"style\":\"light\"}}},\"xaxis\":{\"anchor\":\"y\",\"domain\":[0.0,1.0],\"title\":{\"text\":\"Word Count\"}},\"yaxis\":{\"anchor\":\"x\",\"domain\":[0.0,1.0],\"title\":{\"text\":\"Frequency\"}},\"legend\":{\"tracegroupgap\":0},\"title\":{\"text\":\"Distribution of Word Count in Hotel Descriptions\"},\"barmode\":\"relative\",\"height\":500,\"bargap\":0.1},                        {\"responsive\": true}                    ).then(function(){\n",
       "                            \n",
       "var gd = document.getElementById('08ef0a3e-893b-40fd-8614-02f7f87b2a1a');\n",
       "var x = new MutationObserver(function (mutations, observer) {{\n",
       "        var display = window.getComputedStyle(gd).display;\n",
       "        if (!display || display === 'none') {{\n",
       "            console.log([gd, 'removed!']);\n",
       "            Plotly.purge(gd);\n",
       "            observer.disconnect();\n",
       "        }}\n",
       "}});\n",
       "\n",
       "// Listen for the removal of the full notebook cells\n",
       "var notebookContainer = gd.closest('#notebook-container');\n",
       "if (notebookContainer) {{\n",
       "    x.observe(notebookContainer, {childList: true});\n",
       "}}\n",
       "\n",
       "// Listen for the clearing of the current output cell\n",
       "var outputEl = gd.closest('.output');\n",
       "if (outputEl) {{\n",
       "    x.observe(outputEl, {childList: true});\n",
       "}}\n",
       "\n",
       "                        })                };            </script>        </div>"
      ]
     },
     "metadata": {},
     "output_type": "display_data"
    }
   ],
   "source": [
    "# 使用plotly.express创建直方图\n",
    "import plotly.express as px\n",
    "\n",
    "# 创建直方图\n",
    "fig = px.histogram(\n",
    "    df,\n",
    "    x='word_count',\n",
    "    nbins=50,\n",
    "    title='Distribution of Word Count in Hotel Descriptions',\n",
    "    labels={'word_count': 'Word Count', 'count': 'Frequency'},\n",
    "    height=500\n",
    ")\n",
    "\n",
    "# 更新布局\n",
    "fig.update_layout(\n",
    "    xaxis_title='Word Count',\n",
    "    yaxis_title='Frequency',\n",
    "    bargap=0.1  # 设置柱状图之间的间隔\n",
    ")\n",
    "\n",
    "# 显示图表\n",
    "fig.show()"
   ]
  },
  {
   "cell_type": "markdown",
   "metadata": {},
   "source": [
    "### 文本处理"
   ]
  },
  {
   "cell_type": "code",
   "execution_count": 82,
   "metadata": {},
   "outputs": [
    {
     "name": "stdout",
     "output_type": "stream",
     "text": [
      "原始文本示例：\n",
      "Located on the southern tip of Lake Union, the Hilton Garden Inn Seattle Downtown hotel is perfectly located for business and leisure. \n",
      "The neighborhood is home to numerous major international companies including Amazon, Google and the Bill & Melinda Gates Foundation. A wealth of eclectic restaurants and bars make this area of Seattle one of the most sought out by locals and visitors. Our proximity to Lake Union allows visitors to take in some of the Pacific Northwest's majestic scenery and enjoy outdoor activities like kayaking and sailing. over 2,000 sq. ft. of versatile space and a complimentary business center. State-of-the-art A/V technology and our helpful staff will guarantee your conference, cocktail reception or wedding is a success. Refresh in the sparkling saltwater pool, or energize with the latest equipment in the 24-hour fitness center. Tastefully decorated and flooded with natural light, our guest rooms and suites offer everything you need to relax and stay productive. Unwind in the bar, and enjoy American cuisine for breakfast, lunch and dinner in our restaurant. The 24-hour Pavilion Pantry? stocks a variety of snacks, drinks and sundries.\n",
      "\n",
      "清理后的文本示例：\n",
      "located southern tip lake union hilton garden inn seattle downtown hotel perfectly located business leisure neighborhood home numerous major international companies including amazon google melinda gates foundation wealth eclectic restaurants bars make area seattle sought locals visitors proximity lake union allows visitors pacific northwests majestic scenery enjoy outdoor activities like kayaking sailing 2000 sq ft versatile space complimentary business center stateoftheart av technology helpful staff guarantee conference cocktail reception wedding success refresh sparkling saltwater pool energize latest equipment 24hour fitness center tastefully decorated flooded natural light guest rooms suites offer need relax stay productive unwind bar enjoy american cuisine breakfast lunch dinner restaurant 24hour pavilion pantry stocks variety snacks drinks sundries\n"
     ]
    }
   ],
   "source": [
    "from sklearn.feature_extraction.text import ENGLISH_STOP_WORDS\n",
    "import re\n",
    "\n",
    "# 编译正则表达式模式\n",
    "sub_replace = re.compile('[^0-9a-z #+_]')\n",
    "\n",
    "def clean_txt(text):\n",
    "    \"\"\"\n",
    "    清理文本：\n",
    "    1. 转换为小写\n",
    "    2. 移除特殊字符\n",
    "    3. 移除停用词\n",
    "    \"\"\"\n",
    "    # 确保text是字符串\n",
    "    text = str(text)\n",
    "    # 转换为小写\n",
    "    text = text.lower()\n",
    "    # 移除特殊字符\n",
    "    text = sub_replace.sub('', text)\n",
    "    # 移除停用词\n",
    "    text = ' '.join(word for word in text.split() if word not in ENGLISH_STOP_WORDS)\n",
    "    return text\n",
    "\n",
    "# 应用清理函数\n",
    "df['desc_clean'] = df['desc'].apply(clean_txt)\n",
    "\n",
    "# 打印示例查看结果\n",
    "print(\"原始文本示例：\")\n",
    "print(df['desc'].iloc[0])\n",
    "print(\"\\n清理后的文本示例：\")\n",
    "print(df['desc_clean'].iloc[0])"
   ]
  },
  {
   "cell_type": "code",
   "execution_count": 83,
   "metadata": {},
   "outputs": [
    {
     "data": {
      "text/html": [
       "<div>\n",
       "<style scoped>\n",
       "    .dataframe tbody tr th:only-of-type {\n",
       "        vertical-align: middle;\n",
       "    }\n",
       "\n",
       "    .dataframe tbody tr th {\n",
       "        vertical-align: top;\n",
       "    }\n",
       "\n",
       "    .dataframe thead th {\n",
       "        text-align: right;\n",
       "    }\n",
       "</style>\n",
       "<table border=\"1\" class=\"dataframe\">\n",
       "  <thead>\n",
       "    <tr style=\"text-align: right;\">\n",
       "      <th></th>\n",
       "      <th>name</th>\n",
       "      <th>address</th>\n",
       "      <th>desc</th>\n",
       "      <th>word_count</th>\n",
       "      <th>desc_clean</th>\n",
       "    </tr>\n",
       "  </thead>\n",
       "  <tbody>\n",
       "    <tr>\n",
       "      <th>0</th>\n",
       "      <td>Hilton Garden Seattle Downtown</td>\n",
       "      <td>1821 Boren Avenue, Seattle Washington 98101 USA</td>\n",
       "      <td>Located on the southern tip of Lake Union, the...</td>\n",
       "      <td>184</td>\n",
       "      <td>located southern tip lake union hilton garden ...</td>\n",
       "    </tr>\n",
       "    <tr>\n",
       "      <th>1</th>\n",
       "      <td>Sheraton Grand Seattle</td>\n",
       "      <td>1400 6th Avenue, Seattle, Washington 98101 USA</td>\n",
       "      <td>Located in the city's vibrant core, the Sherat...</td>\n",
       "      <td>152</td>\n",
       "      <td>located citys vibrant core sheraton grand seat...</td>\n",
       "    </tr>\n",
       "    <tr>\n",
       "      <th>2</th>\n",
       "      <td>Crowne Plaza Seattle Downtown</td>\n",
       "      <td>1113 6th Ave, Seattle, WA 98101</td>\n",
       "      <td>Located in the heart of downtown Seattle, the ...</td>\n",
       "      <td>147</td>\n",
       "      <td>located heart downtown seattle awardwinning cr...</td>\n",
       "    </tr>\n",
       "    <tr>\n",
       "      <th>3</th>\n",
       "      <td>Kimpton Hotel Monaco Seattle</td>\n",
       "      <td>1101 4th Ave, Seattle, WA98101</td>\n",
       "      <td>What?s near our hotel downtown Seattle locatio...</td>\n",
       "      <td>150</td>\n",
       "      <td>whats near hotel downtown seattle location bet...</td>\n",
       "    </tr>\n",
       "    <tr>\n",
       "      <th>4</th>\n",
       "      <td>The Westin Seattle</td>\n",
       "      <td>1900 5th Avenue, Seattle, Washington 98101 USA</td>\n",
       "      <td>Situated amid incredible shopping and iconic a...</td>\n",
       "      <td>151</td>\n",
       "      <td>situated amid incredible shopping iconic attra...</td>\n",
       "    </tr>\n",
       "  </tbody>\n",
       "</table>\n",
       "</div>"
      ],
      "text/plain": [
       "                             name  \\\n",
       "0  Hilton Garden Seattle Downtown   \n",
       "1          Sheraton Grand Seattle   \n",
       "2   Crowne Plaza Seattle Downtown   \n",
       "3   Kimpton Hotel Monaco Seattle    \n",
       "4              The Westin Seattle   \n",
       "\n",
       "                                           address  \\\n",
       "0  1821 Boren Avenue, Seattle Washington 98101 USA   \n",
       "1   1400 6th Avenue, Seattle, Washington 98101 USA   \n",
       "2                  1113 6th Ave, Seattle, WA 98101   \n",
       "3                   1101 4th Ave, Seattle, WA98101   \n",
       "4   1900 5th Avenue, Seattle, Washington 98101 USA   \n",
       "\n",
       "                                                desc  word_count  \\\n",
       "0  Located on the southern tip of Lake Union, the...         184   \n",
       "1  Located in the city's vibrant core, the Sherat...         152   \n",
       "2  Located in the heart of downtown Seattle, the ...         147   \n",
       "3  What?s near our hotel downtown Seattle locatio...         150   \n",
       "4  Situated amid incredible shopping and iconic a...         151   \n",
       "\n",
       "                                          desc_clean  \n",
       "0  located southern tip lake union hilton garden ...  \n",
       "1  located citys vibrant core sheraton grand seat...  \n",
       "2  located heart downtown seattle awardwinning cr...  \n",
       "3  whats near hotel downtown seattle location bet...  \n",
       "4  situated amid incredible shopping iconic attra...  "
      ]
     },
     "execution_count": 83,
     "metadata": {},
     "output_type": "execute_result"
    }
   ],
   "source": [
    "df.head()"
   ]
  },
  {
   "cell_type": "code",
   "execution_count": 84,
   "metadata": {},
   "outputs": [
    {
     "data": {
      "text/plain": [
       "\"Located on the southern tip of Lake Union, the Hilton Garden Inn Seattle Downtown hotel is perfectly located for business and leisure. \\nThe neighborhood is home to numerous major international companies including Amazon, Google and the Bill & Melinda Gates Foundation. A wealth of eclectic restaurants and bars make this area of Seattle one of the most sought out by locals and visitors. Our proximity to Lake Union allows visitors to take in some of the Pacific Northwest's majestic scenery and enjoy outdoor activities like kayaking and sailing. over 2,000 sq. ft. of versatile space and a complimentary business center. State-of-the-art A/V technology and our helpful staff will guarantee your conference, cocktail reception or wedding is a success. Refresh in the sparkling saltwater pool, or energize with the latest equipment in the 24-hour fitness center. Tastefully decorated and flooded with natural light, our guest rooms and suites offer everything you need to relax and stay productive. Unwind in the bar, and enjoy American cuisine for breakfast, lunch and dinner in our restaurant. The 24-hour Pavilion Pantry? stocks a variety of snacks, drinks and sundries.\""
      ]
     },
     "execution_count": 84,
     "metadata": {},
     "output_type": "execute_result"
    }
   ],
   "source": [
    "df['desc'][0]"
   ]
  },
  {
   "cell_type": "code",
   "execution_count": 85,
   "metadata": {},
   "outputs": [
    {
     "data": {
      "text/plain": [
       "'located southern tip lake union hilton garden inn seattle downtown hotel perfectly located business leisure neighborhood home numerous major international companies including amazon google melinda gates foundation wealth eclectic restaurants bars make area seattle sought locals visitors proximity lake union allows visitors pacific northwests majestic scenery enjoy outdoor activities like kayaking sailing 2000 sq ft versatile space complimentary business center stateoftheart av technology helpful staff guarantee conference cocktail reception wedding success refresh sparkling saltwater pool energize latest equipment 24hour fitness center tastefully decorated flooded natural light guest rooms suites offer need relax stay productive unwind bar enjoy american cuisine breakfast lunch dinner restaurant 24hour pavilion pantry stocks variety snacks drinks sundries'"
      ]
     },
     "execution_count": 85,
     "metadata": {},
     "output_type": "execute_result"
    }
   ],
   "source": [
    "df['desc_clean'][0]"
   ]
  },
  {
   "cell_type": "markdown",
   "metadata": {},
   "source": [
    "### 相似度计算"
   ]
  },
  {
   "cell_type": "code",
   "execution_count": 86,
   "metadata": {},
   "outputs": [],
   "source": [
    "df.set_index('name',inplace = True)"
   ]
  },
  {
   "cell_type": "code",
   "execution_count": 87,
   "metadata": {},
   "outputs": [],
   "source": [
    "tf=TfidfVectorizer(analyzer='word',ngram_range=(1,3),stop_words='english')"
   ]
  },
  {
   "cell_type": "code",
   "execution_count": 88,
   "metadata": {},
   "outputs": [],
   "source": [
    "tfidf_matrix=tf.fit_transform(df['desc_clean'])"
   ]
  },
  {
   "cell_type": "code",
   "execution_count": 89,
   "metadata": {},
   "outputs": [
    {
     "data": {
      "text/plain": [
       "(152, 27001)"
      ]
     },
     "execution_count": 89,
     "metadata": {},
     "output_type": "execute_result"
    }
   ],
   "source": [
    "tfidf_matrix.shape"
   ]
  },
  {
   "cell_type": "code",
   "execution_count": 90,
   "metadata": {},
   "outputs": [],
   "source": [
    "cosine_similarity =linear_kernel(tfidf_matrix,tfidf_matrix)"
   ]
  },
  {
   "cell_type": "code",
   "execution_count": 91,
   "metadata": {},
   "outputs": [
    {
     "data": {
      "text/plain": [
       "(152, 152)"
      ]
     },
     "execution_count": 91,
     "metadata": {},
     "output_type": "execute_result"
    }
   ],
   "source": [
    "cosine_similarity.shape"
   ]
  },
  {
   "cell_type": "code",
   "execution_count": 108,
   "metadata": {},
   "outputs": [
    {
     "data": {
      "text/plain": [
       "array([1.        , 0.01153691, 0.02685919, 0.00788776, 0.02968372,\n",
       "       0.01211759, 0.01892131, 0.01295234, 0.00746124, 0.01937892,\n",
       "       0.01370375, 0.00892963, 0.01394245, 0.00571003, 0.00651706,\n",
       "       0.01680824, 0.01133379, 0.03489329, 0.00864453, 0.02312328,\n",
       "       0.02879236, 0.00918459, 0.00784411, 0.01586572, 0.01472076,\n",
       "       0.02402029, 0.02906451, 0.00498255, 0.02487683, 0.02009584,\n",
       "       0.01528377, 0.02923925, 0.01624488, 0.02207616, 0.03437377,\n",
       "       0.02737745, 0.00682674, 0.01171681, 0.03182895, 0.03245281,\n",
       "       0.01770666, 0.01065604, 0.01341233, 0.0263306 , 0.04661615,\n",
       "       0.01105609, 0.03165515, 0.01330748, 0.03209152, 0.01390424,\n",
       "       0.02306914, 0.01856613, 0.03500288, 0.01345726, 0.02614755,\n",
       "       0.01354738, 0.02347766, 0.02973355, 0.01149806, 0.02489298,\n",
       "       0.0219577 , 0.0102064 , 0.03983313, 0.02891626, 0.02471638,\n",
       "       0.0121596 , 0.02836503, 0.01141957, 0.01682957, 0.00713343,\n",
       "       0.02004212, 0.01653828, 0.02307208, 0.02166928, 0.02347248,\n",
       "       0.04415669, 0.00133672, 0.0140895 , 0.01168379, 0.02377755,\n",
       "       0.00583687, 0.0142455 , 0.00220443, 0.00683352, 0.01184992,\n",
       "       0.04440601, 0.01103439, 0.00402719, 0.00920681, 0.01072162,\n",
       "       0.00654403, 0.0045795 , 0.01471846, 0.00373966, 0.017955  ,\n",
       "       0.01713407, 0.00697757, 0.01601402, 0.01602737, 0.02747842,\n",
       "       0.01167732, 0.00428654, 0.00355671, 0.02291873, 0.00833099,\n",
       "       0.02120714, 0.03787177, 0.01854322, 0.01086855, 0.03597145,\n",
       "       0.05400351, 0.00730895, 0.02484435, 0.01293244, 0.02330837,\n",
       "       0.07016064, 0.01357108, 0.03756393, 0.01130037, 0.01903323,\n",
       "       0.00629881, 0.01225114, 0.01642225, 0.002979  , 0.00537978,\n",
       "       0.01009061, 0.03339759, 0.07185229, 0.0090961 , 0.01046116,\n",
       "       0.01150479, 0.01185453, 0.01510856, 0.01716224, 0.0255832 ,\n",
       "       0.00475819, 0.02750922, 0.00894508, 0.01341467, 0.01556199,\n",
       "       0.01624712, 0.02118694, 0.0256492 , 0.00573878, 0.00329637,\n",
       "       0.00276295, 0.01853094, 0.00720045, 0.00644429, 0.01178013,\n",
       "       0.00243764, 0.0057515 ])"
      ]
     },
     "execution_count": 108,
     "metadata": {},
     "output_type": "execute_result"
    }
   ],
   "source": [
    "cosine_similarity[0]"
   ]
  },
  {
   "cell_type": "code",
   "execution_count": 109,
   "metadata": {},
   "outputs": [
    {
     "data": {
      "text/plain": [
       "0    Hilton Garden Seattle Downtown\n",
       "1            Sheraton Grand Seattle\n",
       "2     Crowne Plaza Seattle Downtown\n",
       "3     Kimpton Hotel Monaco Seattle \n",
       "4                The Westin Seattle\n",
       "Name: name, dtype: object"
      ]
     },
     "execution_count": 109,
     "metadata": {},
     "output_type": "execute_result"
    }
   ],
   "source": [
    "indices = pd.Series(df.index)\n",
    "indices[:5]"
   ]
  },
  {
   "cell_type": "code",
   "execution_count": 115,
   "metadata": {},
   "outputs": [],
   "source": [
    "def recommendations(name,cosine_similarity):\n",
    "    recommended_hotels = []\n",
    "    idx = indices[indices == name].index[0]\n",
    "    score_series = pd.Series(cosine_similarity[idx]).sort_values(ascending=False)\n",
    "    top_10_indexes = list(score_series[1:11].index)\n",
    "    for i in top_10_indexes:\n",
    "        recommended_hotels.append(list(df.index)[i])\n",
    "    return recommended_hotels"
   ]
  },
  {
   "cell_type": "code",
   "execution_count": 117,
   "metadata": {},
   "outputs": [
    {
     "data": {
      "text/plain": [
       "['Renaissance Seattle Hotel',\n",
       " 'Hyatt Regency Seattle',\n",
       " 'Quality Inn & Suites Seattle Center',\n",
       " 'Staybridge Suites Seattle Downtown - Lake Union',\n",
       " 'Inn at the Market',\n",
       " 'Residence Inn by Marriott Seattle Downtown/Lake Union',\n",
       " 'Hyatt Place Seattle',\n",
       " 'Gand Hyatt Seattle',\n",
       " 'Silver Cloud Inn - Seattle Lake Union',\n",
       " 'Crown Inn Motel']"
      ]
     },
     "execution_count": 117,
     "metadata": {},
     "output_type": "execute_result"
    }
   ],
   "source": [
    "recommendations('The Westin Seattle',cosine_similarity)"
   ]
  },
  {
   "cell_type": "code",
   "execution_count": null,
   "metadata": {
    "collapsed": true,
    "jupyter": {
     "outputs_hidden": true
    }
   },
   "outputs": [],
   "source": []
  }
 ],
 "metadata": {
  "kernelspec": {
   "display_name": "Python 3 (ipykernel)",
   "language": "python",
   "name": "python3"
  },
  "language_info": {
   "codemirror_mode": {
    "name": "ipython",
    "version": 3
   },
   "file_extension": ".py",
   "mimetype": "text/x-python",
   "name": "python",
   "nbconvert_exporter": "python",
   "pygments_lexer": "ipython3",
   "version": "3.11.0"
  }
 },
 "nbformat": 4,
 "nbformat_minor": 4
}
